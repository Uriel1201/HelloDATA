{
  "nbformat": 4,
  "nbformat_minor": 0,
  "metadata": {
    "colab": {
      "provenance": [],
      "authorship_tag": "ABX9TyPLlGAA8K2IJCUMdL2QIjSN",
      "include_colab_link": true
    },
    "kernelspec": {
      "name": "python3",
      "display_name": "Python 3"
    },
    "language_info": {
      "name": "python"
    }
  },
  "cells": [
    {
      "cell_type": "markdown",
      "metadata": {
        "id": "view-in-github",
        "colab_type": "text"
      },
      "source": [
        "<a href=\"https://colab.research.google.com/github/Uriel1201/HelloSQL2.0/blob/main/most_friended/query.ipynb\" target=\"_parent\"><img src=\"https://colab.research.google.com/assets/colab-badge.svg\" alt=\"Open In Colab\"/></a>"
      ]
    },
    {
      "cell_type": "markdown",
      "source": [
        "# 09. Most friended\n",
        "**Given the following table, return a list of users and their corresponding friend count. Order the result by descending friend count, and in the case of a tie, by ascending user ID. Assume that only unique friendships are displayed.**"
      ],
      "metadata": {
        "id": "cqBgpwoW-qtk"
      }
    },
    {
      "cell_type": "code",
      "source": [
        "import pandas as pd\n",
        "import numpy  as np\n",
        "\n",
        "data    = {'user_1' : [1,1,1,2],\n",
        "           'user_2' : [2,3,4,3]\n",
        "          }\n",
        "friends = pd.DataFrame(data)"
      ],
      "metadata": {
        "id": "H6xeZQ3E-q99"
      },
      "execution_count": 1,
      "outputs": []
    },
    {
      "cell_type": "code",
      "source": [
        "print(f'friends:\\n{friends}')"
      ],
      "metadata": {
        "colab": {
          "base_uri": "https://localhost:8080/",
          "height": 0
        },
        "id": "st8r8mTP_G3z",
        "outputId": "26fff5c5-5bce-4ccc-8363-2f84f5048448"
      },
      "execution_count": 3,
      "outputs": [
        {
          "output_type": "stream",
          "name": "stdout",
          "text": [
            "friends:\n",
            "   user_1  user_2\n",
            "0       1       2\n",
            "1       1       3\n",
            "2       1       4\n",
            "3       2       3\n"
          ]
        }
      ]
    },
    {
      "cell_type": "code",
      "source": [
        "df1=(pd.concat([friends['user_1'],friends['user_2']])\n",
        "       .reset_index()\n",
        "       .drop(columns=['index'])\n",
        "       .rename(columns={0:'number_of_repetitions'})\n",
        ")\n",
        "print(f'number of repetitions:\\n{df1}')"
      ],
      "metadata": {
        "colab": {
          "base_uri": "https://localhost:8080/",
          "height": 0
        },
        "id": "k3XJ08IcAz7v",
        "outputId": "be01af02-d0e3-4ed2-c252-ae9fcf49ddf7"
      },
      "execution_count": 14,
      "outputs": [
        {
          "output_type": "stream",
          "name": "stdout",
          "text": [
            "number of repetitions:\n",
            "   number_of_repetitions\n",
            "0                      1\n",
            "1                      1\n",
            "2                      1\n",
            "3                      2\n",
            "4                      2\n",
            "5                      3\n",
            "6                      4\n",
            "7                      3\n"
          ]
        }
      ]
    },
    {
      "cell_type": "code",
      "source": [
        "most_friended=(pd.concat([friends['user_1']\n",
        "                          ,friends['user_2']\n",
        "                         ]\n",
        "                  )\n",
        "                 .reset_index()\n",
        "                 .drop(columns=['index'])\n",
        "                 .rename(columns={0:'friend_id'})\n",
        "                 .groupby('friend_id')\n",
        "                 .size()\n",
        "                 .sort_values(ascending=False)\n",
        ")\n",
        "print(f'number of friends by each user:\\n')\n",
        "most_friended"
      ],
      "metadata": {
        "colab": {
          "base_uri": "https://localhost:8080/",
          "height": 276
        },
        "id": "OgMZk-PnCxzN",
        "outputId": "7e1e7f74-3e22-4a26-c612-fb32fc7e1f3f"
      },
      "execution_count": 24,
      "outputs": [
        {
          "output_type": "stream",
          "name": "stdout",
          "text": [
            "number of friends by each user:\n",
            "\n"
          ]
        },
        {
          "output_type": "execute_result",
          "data": {
            "text/plain": [
              "friend_id\n",
              "1    3\n",
              "2    2\n",
              "3    2\n",
              "4    1\n",
              "dtype: int64"
            ],
            "text/html": [
              "<div>\n",
              "<style scoped>\n",
              "    .dataframe tbody tr th:only-of-type {\n",
              "        vertical-align: middle;\n",
              "    }\n",
              "\n",
              "    .dataframe tbody tr th {\n",
              "        vertical-align: top;\n",
              "    }\n",
              "\n",
              "    .dataframe thead th {\n",
              "        text-align: right;\n",
              "    }\n",
              "</style>\n",
              "<table border=\"1\" class=\"dataframe\">\n",
              "  <thead>\n",
              "    <tr style=\"text-align: right;\">\n",
              "      <th></th>\n",
              "      <th>0</th>\n",
              "    </tr>\n",
              "    <tr>\n",
              "      <th>friend_id</th>\n",
              "      <th></th>\n",
              "    </tr>\n",
              "  </thead>\n",
              "  <tbody>\n",
              "    <tr>\n",
              "      <th>1</th>\n",
              "      <td>3</td>\n",
              "    </tr>\n",
              "    <tr>\n",
              "      <th>2</th>\n",
              "      <td>2</td>\n",
              "    </tr>\n",
              "    <tr>\n",
              "      <th>3</th>\n",
              "      <td>2</td>\n",
              "    </tr>\n",
              "    <tr>\n",
              "      <th>4</th>\n",
              "      <td>1</td>\n",
              "    </tr>\n",
              "  </tbody>\n",
              "</table>\n",
              "</div><br><label><b>dtype:</b> int64</label>"
            ]
          },
          "metadata": {},
          "execution_count": 24
        }
      ]
    }
  ]
}