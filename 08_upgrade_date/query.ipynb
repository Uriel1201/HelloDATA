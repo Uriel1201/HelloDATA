{
  "nbformat": 4,
  "nbformat_minor": 0,
  "metadata": {
    "colab": {
      "provenance": [],
      "authorship_tag": "ABX9TyPffH8FXtfunkWD8yeMb3Aa",
      "include_colab_link": true
    },
    "kernelspec": {
      "name": "python3",
      "display_name": "Python 3"
    },
    "language_info": {
      "name": "python"
    }
  },
  "cells": [
    {
      "cell_type": "markdown",
      "metadata": {
        "id": "view-in-github",
        "colab_type": "text"
      },
      "source": [
        "<a href=\"https://colab.research.google.com/github/Uriel1201/HelloSQL2.0/blob/main/08_upgrade_date/query.ipynb\" target=\"_parent\"><img src=\"https://colab.research.google.com/assets/colab-badge.svg\" alt=\"Open In Colab\"/></a>"
      ]
    },
    {
      "cell_type": "markdown",
      "source": [
        "#08. Upgrade Rate by Product Action\n",
        "**Returning the fraction of users, rounded to two\n",
        "decimal places, who first accessed feature\n",
        "two (type: F2 in events table) and\n",
        "upgraded to premium within the first 30\n",
        "days of signing up.**"
      ],
      "metadata": {
        "id": "jFj7PwdIABP8"
      }
    },
    {
      "cell_type": "code",
      "source": [
        "!pip install polars\n",
        "import pandas as pd\n",
        "import numpy as  np\n",
        "import polars as pl"
      ],
      "metadata": {
        "colab": {
          "base_uri": "https://localhost:8080/"
        },
        "id": "hcauQhZ7ALb0",
        "outputId": "c3409064-d0d4-47e3-eecb-e1fbf26a4f43"
      },
      "execution_count": 1,
      "outputs": [
        {
          "output_type": "stream",
          "name": "stdout",
          "text": [
            "Requirement already satisfied: polars in /usr/local/lib/python3.11/dist-packages (1.21.0)\n"
          ]
        }
      ]
    },
    {
      "cell_type": "code",
      "source": [
        "data1 = {'user_id'   : [1,2,3,4,5,6,7],\n",
        "         'name'      : ['John','Jane','Jill','Josh','Jean','Justin','Jeremy'],\n",
        "         'join_date' : ['14-feb-20',\n",
        "                        '14-feb-20',\n",
        "                        '15-feb-20',\n",
        "                        '15-feb-20',\n",
        "                        '16-feb-20',\n",
        "                        '17-feb-20',\n",
        "                        '18-feb-20']\n",
        "        }\n",
        "\n",
        "data2 = {'user_id'     : [1,2,2,3,4,1,3],\n",
        "         'Type'        : ['F1','F2','P','F2','F2','P','P'],\n",
        "         'access_date' : ['1-mar-20',\n",
        "                          '2-mar-20',\n",
        "                          '12-mar-20',\n",
        "                          '15-mar-20',\n",
        "                          '15-mar-20',\n",
        "                          '16-mar-20',\n",
        "                          '22-mar-20']\n",
        "        }\n",
        "\n",
        "pd_users=pd.DataFrame(data1)\n",
        "pd_events=pd.DataFrame(data2)\n",
        "lf_users=pl.LazyFrame(data1)\n",
        "lf_events=pl.LazyFrame(data2)"
      ],
      "metadata": {
        "id": "RfTI8utYAzDw"
      },
      "execution_count": 2,
      "outputs": []
    },
    {
      "cell_type": "code",
      "source": [
        "pd_users['join_date']=(pd.to_datetime(pd_users['join_date']\n",
        "                                      ,format=\"%d-%b-%y\"\n",
        "                          )\n",
        ")\n",
        "pd_events['access_date']=(pd.to_datetime(pd_events['access_date']\n",
        "                                         ,format=\"%d-%b-%y\"\n",
        "                             )\n",
        ")"
      ],
      "metadata": {
        "id": "r9NcUX5ABXaY"
      },
      "execution_count": 3,
      "outputs": []
    },
    {
      "cell_type": "code",
      "source": [
        "print(f'----PANDAS----\\nusers table:\\n{pd_users}')"
      ],
      "metadata": {
        "colab": {
          "base_uri": "https://localhost:8080/"
        },
        "id": "cyhGsHrgEcbL",
        "outputId": "ff631ce3-bd14-4763-fb8e-9dbc93e46a4e"
      },
      "execution_count": 4,
      "outputs": [
        {
          "output_type": "stream",
          "name": "stdout",
          "text": [
            "----PANDAS----\n",
            "users table:\n",
            "   user_id    name  join_date\n",
            "0        1    John 2020-02-14\n",
            "1        2    Jane 2020-02-14\n",
            "2        3    Jill 2020-02-15\n",
            "3        4    Josh 2020-02-15\n",
            "4        5    Jean 2020-02-16\n",
            "5        6  Justin 2020-02-17\n",
            "6        7  Jeremy 2020-02-18\n"
          ]
        }
      ]
    },
    {
      "cell_type": "code",
      "source": [
        "print(f'events table:\\n{pd_events}')"
      ],
      "metadata": {
        "colab": {
          "base_uri": "https://localhost:8080/"
        },
        "id": "gsY46fwwEulG",
        "outputId": "084aed61-f731-42c5-a90f-560fd34347ef"
      },
      "execution_count": 5,
      "outputs": [
        {
          "output_type": "stream",
          "name": "stdout",
          "text": [
            "events table:\n",
            "   user_id Type access_date\n",
            "0        1   F1  2020-03-01\n",
            "1        2   F2  2020-03-02\n",
            "2        2    P  2020-03-12\n",
            "3        3   F2  2020-03-15\n",
            "4        4   F2  2020-03-15\n",
            "5        1    P  2020-03-16\n",
            "6        3    P  2020-03-22\n"
          ]
        }
      ]
    },
    {
      "cell_type": "code",
      "source": [
        "pd_df1=(pd.merge(pd_users.drop(columns='name'),\n",
        "                 pd_events.query(\"Type=='F2'\")\n",
        "                          .drop(columns=['Type',\n",
        "                                         'access_date'\n",
        "                                ]\n",
        "                           ),\n",
        "                 on='user_id',\n",
        "                 how='inner'\n",
        "           )\n",
        ")\n",
        "print(f'Identifying F2 users:\\n{pd_df1}')"
      ],
      "metadata": {
        "colab": {
          "base_uri": "https://localhost:8080/"
        },
        "id": "IGwC5ShdTL0d",
        "outputId": "f8776ef8-f80b-4977-adbe-6b6453d3e272"
      },
      "execution_count": 6,
      "outputs": [
        {
          "output_type": "stream",
          "name": "stdout",
          "text": [
            "Identifying F2 users:\n",
            "   user_id  join_date\n",
            "0        2 2020-02-14\n",
            "1        3 2020-02-15\n",
            "2        4 2020-02-15\n"
          ]
        }
      ]
    },
    {
      "cell_type": "code",
      "source": [
        "pd_df2=(pd_events.query(\"Type=='P'\")\n",
        "                 .drop(columns='Type')\n",
        ")\n",
        "print(f'Identifying access as premium users:\\n{pd_df2}')"
      ],
      "metadata": {
        "colab": {
          "base_uri": "https://localhost:8080/"
        },
        "id": "Zv2GysV_WvIF",
        "outputId": "2dc81b90-9e55-44e7-ecc3-baea21c080ba"
      },
      "execution_count": 7,
      "outputs": [
        {
          "output_type": "stream",
          "name": "stdout",
          "text": [
            "Identifying access as premium users:\n",
            "   user_id access_date\n",
            "2        2  2020-03-12\n",
            "5        1  2020-03-16\n",
            "6        3  2020-03-22\n"
          ]
        }
      ]
    },
    {
      "cell_type": "code",
      "source": [
        "pd_df=(pd.merge(pd_users.drop(columns='name'),\n",
        "                pd_events.query(\"Type=='F2'\")\n",
        "                         .drop(columns=['Type',\n",
        "                                        'access_date'\n",
        "                               ]\n",
        "                          ),\n",
        "                on='user_id',\n",
        "                how='inner'\n",
        "          )\n",
        "         .merge(pd_events.query(\"Type=='P'\")\n",
        "                         .drop(columns='Type'),\n",
        "                on='user_id',\n",
        "                how='left'\n",
        "          )\n",
        ")\n",
        "pd_df['duration']=(pd_df['access_date']-pd_df['join_date']).dt.days\n",
        "query=pd_df[['user_id','duration']]\n",
        "print(f'Elapsed time between\\njoin date and access as premium:\\n{query}')\n",
        "fraction1=round((pd_df['duration']<=30.0).mean(),2)\n",
        "print(f'\\nfraction of users that updated\\nwithin the first 30 days:\\n{fraction1}')"
      ],
      "metadata": {
        "colab": {
          "base_uri": "https://localhost:8080/"
        },
        "id": "BJEFUeI7aY_p",
        "outputId": "df802e83-923f-4d6e-d2e7-2983949058cd"
      },
      "execution_count": 8,
      "outputs": [
        {
          "output_type": "stream",
          "name": "stdout",
          "text": [
            "Elapsed time between\n",
            "join date and access as premium:\n",
            "   user_id  duration\n",
            "0        2      27.0\n",
            "1        3      36.0\n",
            "2        4       NaN\n",
            "\n",
            "fraction of users that updated\n",
            "within the first 30 days:\n",
            "0.33\n"
          ]
        }
      ]
    },
    {
      "cell_type": "code",
      "source": [
        "lf_users=(lf_users.with_columns(pl.col('join_date')\n",
        "                                  .str\n",
        "                                  .strptime(pl.Date,\n",
        "                                            format=\"%d-%b-%y\"\n",
        "                                   )\n",
        "                   )\n",
        ")\n",
        "lf_events=(lf_events.with_columns(pl.col('access_date')\n",
        "                                    .str\n",
        "                                    .strptime(pl.Date,\n",
        "                                              format=\"%d-%b-%y\"\n",
        "                                     )\n",
        "                     )\n",
        ")\n",
        "sample_users=lf_users.head(5)\n",
        "sample_events=lf_events.head(5)"
      ],
      "metadata": {
        "id": "x47wqhlOlwLg"
      },
      "execution_count": 9,
      "outputs": []
    },
    {
      "cell_type": "code",
      "source": [
        "query1=sample_users.collect()\n",
        "print(f'----POLARS----\\nusers table (sample):\\n{query1}')"
      ],
      "metadata": {
        "colab": {
          "base_uri": "https://localhost:8080/"
        },
        "id": "kXX-KUL_p5oN",
        "outputId": "9ea6eea4-8e06-40fe-a412-6d834a2f39eb"
      },
      "execution_count": 10,
      "outputs": [
        {
          "output_type": "stream",
          "name": "stdout",
          "text": [
            "----POLARS----\n",
            "users table (sample):\n",
            "shape: (5, 3)\n",
            "┌─────────┬──────┬────────────┐\n",
            "│ user_id ┆ name ┆ join_date  │\n",
            "│ ---     ┆ ---  ┆ ---        │\n",
            "│ i64     ┆ str  ┆ date       │\n",
            "╞═════════╪══════╪════════════╡\n",
            "│ 1       ┆ John ┆ 2020-02-14 │\n",
            "│ 2       ┆ Jane ┆ 2020-02-14 │\n",
            "│ 3       ┆ Jill ┆ 2020-02-15 │\n",
            "│ 4       ┆ Josh ┆ 2020-02-15 │\n",
            "│ 5       ┆ Jean ┆ 2020-02-16 │\n",
            "└─────────┴──────┴────────────┘\n"
          ]
        }
      ]
    },
    {
      "cell_type": "code",
      "source": [
        "query2=sample_events.collect()\n",
        "print(f'----POLARS----\\nevents table (sample):\\n{query2}')"
      ],
      "metadata": {
        "colab": {
          "base_uri": "https://localhost:8080/"
        },
        "id": "yum_UVyObXp1",
        "outputId": "c15fb363-b535-418a-935f-308cc5244a23"
      },
      "execution_count": 11,
      "outputs": [
        {
          "output_type": "stream",
          "name": "stdout",
          "text": [
            "----POLARS----\n",
            "events table (sample):\n",
            "shape: (5, 3)\n",
            "┌─────────┬──────┬─────────────┐\n",
            "│ user_id ┆ Type ┆ access_date │\n",
            "│ ---     ┆ ---  ┆ ---         │\n",
            "│ i64     ┆ str  ┆ date        │\n",
            "╞═════════╪══════╪═════════════╡\n",
            "│ 1       ┆ F1   ┆ 2020-03-01  │\n",
            "│ 2       ┆ F2   ┆ 2020-03-02  │\n",
            "│ 2       ┆ P    ┆ 2020-03-12  │\n",
            "│ 3       ┆ F2   ┆ 2020-03-15  │\n",
            "│ 4       ┆ F2   ┆ 2020-03-15  │\n",
            "└─────────┴──────┴─────────────┘\n"
          ]
        }
      ]
    },
    {
      "cell_type": "code",
      "source": [
        "pl_lf1=(sample_users.select(pl.col('user_id'),\n",
        "                            pl.col('join_date')\n",
        "                    )\n",
        "                   .join(sample_events.filter(pl.col('Type')=='F2')\n",
        "                                      .select(pl.col('user_id')),\n",
        "                         on='user_id',\n",
        "                         how='inner'\n",
        "                    )\n",
        ").collect()\n",
        "print(f'Identifying F2 users (SAMPLE):\\n{pl_lf1}')"
      ],
      "metadata": {
        "colab": {
          "base_uri": "https://localhost:8080/"
        },
        "id": "z31VJC4BcZxB",
        "outputId": "1398c023-440d-42ad-dc1a-35f7701f7cef"
      },
      "execution_count": 12,
      "outputs": [
        {
          "output_type": "stream",
          "name": "stdout",
          "text": [
            "Identifying F2 users (SAMPLE):\n",
            "shape: (3, 2)\n",
            "┌─────────┬────────────┐\n",
            "│ user_id ┆ join_date  │\n",
            "│ ---     ┆ ---        │\n",
            "│ i64     ┆ date       │\n",
            "╞═════════╪════════════╡\n",
            "│ 2       ┆ 2020-02-14 │\n",
            "│ 3       ┆ 2020-02-15 │\n",
            "│ 4       ┆ 2020-02-15 │\n",
            "└─────────┴────────────┘\n"
          ]
        }
      ]
    },
    {
      "cell_type": "code",
      "source": [
        "pl_lf2=(sample_events.filter(pl.col('Type')=='P')\n",
        "                     .select(pl.col('user_id'),\n",
        "                             pl.col('access_date')\n",
        "                      )\n",
        ").collect()\n",
        "print(f'Identifying access as premium (SAMPLE):\\n{pl_lf2}')"
      ],
      "metadata": {
        "id": "btDwpx_kca3v",
        "colab": {
          "base_uri": "https://localhost:8080/"
        },
        "outputId": "d65b0dee-eda6-429a-8eb8-4b69dd5c3f72"
      },
      "execution_count": 13,
      "outputs": [
        {
          "output_type": "stream",
          "name": "stdout",
          "text": [
            "Identifying access as premium (SAMPLE):\n",
            "shape: (1, 2)\n",
            "┌─────────┬─────────────┐\n",
            "│ user_id ┆ access_date │\n",
            "│ ---     ┆ ---         │\n",
            "│ i64     ┆ date        │\n",
            "╞═════════╪═════════════╡\n",
            "│ 2       ┆ 2020-03-12  │\n",
            "└─────────┴─────────────┘\n"
          ]
        }
      ]
    },
    {
      "cell_type": "code",
      "source": [
        "pl_lf=(lf_users.select(pl.col('user_id'),\n",
        "                       pl.col('join_date')\n",
        "                )\n",
        "               .join(lf_events.filter(pl.col('Type')=='F2')\n",
        "                              .select(pl.col('user_id')),\n",
        "                     on='user_id',\n",
        "                     how='inner'\n",
        "                )\n",
        "               .join(lf_events.filter(pl.col('Type')=='P')\n",
        "                              .select(pl.col('user_id'),\n",
        "                                      pl.col('access_date')\n",
        "                               ),\n",
        "                     on='user_id',\n",
        "                     how='left'\n",
        "                )\n",
        "               .with_columns(duration=(pl.col('access_date')-pl.col('join_date'))\n",
        "                                      .dt.total_days()\n",
        "                )\n",
        "               .select(pl.col('user_id'),\n",
        "                       pl.col('duration')\n",
        "                )\n",
        ").collect()\n",
        "print(f'Elapsed time between\\njoin date and access as premium:\\n{pl_lf}')\n",
        "fraction2=(pl_lf.select((pl.col('duration')<=30.0).fill_null(False)\n",
        "                                                  .mean()\n",
        "                                                  .round(2)\n",
        "                 )\n",
        ")\n",
        "print(f'\\nfraction of users that updated\\nwithin the first 30 days:\\n{fraction2}')"
      ],
      "metadata": {
        "id": "nttzRpSrcbsx",
        "colab": {
          "base_uri": "https://localhost:8080/"
        },
        "outputId": "01f9e1cb-2b09-4020-c6e2-1f9b2ccf4f1e"
      },
      "execution_count": 14,
      "outputs": [
        {
          "output_type": "stream",
          "name": "stdout",
          "text": [
            "Elapsed time between\n",
            "join date and access as premium:\n",
            "shape: (3, 2)\n",
            "┌─────────┬──────────┐\n",
            "│ user_id ┆ duration │\n",
            "│ ---     ┆ ---      │\n",
            "│ i64     ┆ i64      │\n",
            "╞═════════╪══════════╡\n",
            "│ 2       ┆ 27       │\n",
            "│ 3       ┆ 36       │\n",
            "│ 4       ┆ null     │\n",
            "└─────────┴──────────┘\n",
            "\n",
            "fraction of users that updated\n",
            "within the first 30 days:\n",
            "shape: (1, 1)\n",
            "┌──────────┐\n",
            "│ duration │\n",
            "│ ---      │\n",
            "│ f64      │\n",
            "╞══════════╡\n",
            "│ 0.33     │\n",
            "└──────────┘\n"
          ]
        }
      ]
    }
  ]
}