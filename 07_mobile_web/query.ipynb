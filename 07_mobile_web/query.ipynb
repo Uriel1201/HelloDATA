{
  "nbformat": 4,
  "nbformat_minor": 0,
  "metadata": {
    "colab": {
      "provenance": [],
      "authorship_tag": "ABX9TyOA15flxH0AcIyQFtm+Ou1f",
      "include_colab_link": true
    },
    "kernelspec": {
      "name": "python3",
      "display_name": "Python 3"
    },
    "language_info": {
      "name": "python"
    }
  },
  "cells": [
    {
      "cell_type": "markdown",
      "metadata": {
        "id": "view-in-github",
        "colab_type": "text"
      },
      "source": [
        "<a href=\"https://colab.research.google.com/github/Uriel1201/HelloSQL2.0/blob/main/07_mobile_web/query.ipynb\" target=\"_parent\"><img src=\"https://colab.research.google.com/assets/colab-badge.svg\" alt=\"Open In Colab\"/></a>"
      ]
    },
    {
      "cell_type": "markdown",
      "source": [
        "#09. Most friended\n",
        "**Given the following table, return a list of users and their corresponding friend count. Order the result by descending friend count, and in the case of a tie, by ascending user ID. Assume that only unique friendships are displayed.**"
      ],
      "metadata": {
        "id": "HTnMOB0fvhjd"
      }
    },
    {
      "cell_type": "code",
      "source": [
        "!pip install polars\n",
        "import pandas as pd\n",
        "import numpy as  np\n",
        "import polars as pl"
      ],
      "metadata": {
        "colab": {
          "base_uri": "https://localhost:8080/"
        },
        "id": "KZyz5HXjvmII",
        "outputId": "6f3e4e48-8345-48e8-dfdf-93127541d3bf"
      },
      "execution_count": 1,
      "outputs": [
        {
          "output_type": "stream",
          "name": "stdout",
          "text": [
            "Requirement already satisfied: polars in /usr/local/lib/python3.11/dist-packages (1.21.0)\n"
          ]
        }
      ]
    },
    {
      "cell_type": "code",
      "source": [
        "data1 = {'user_id'   : [1,2,3,4,9,2,10],\n",
        "         'page_url'  : ['A','B','C','A','B','C','B']\n",
        "        }\n",
        "\n",
        "data2 = {'user_id'    : [6,2,3,7,4,8,5],\n",
        "         'page_url'   : ['A','B','C','A','B','C','B']\n",
        "        }\n",
        "pd_mobile=pd.DataFrame(data1)\n",
        "pd_web=pd.DataFrame(data2)\n",
        "pl_mobile=pl.LazyFrame(data1)\n",
        "pl_web=pl.LazyFrame(data2)"
      ],
      "metadata": {
        "id": "dn_BlRpvxbab"
      },
      "execution_count": 2,
      "outputs": []
    },
    {
      "cell_type": "code",
      "source": [
        "print(f'----PANDAS----\\nmobile table:\\n{pd_mobile}')"
      ],
      "metadata": {
        "colab": {
          "base_uri": "https://localhost:8080/"
        },
        "id": "ubjcP1MqyA_U",
        "outputId": "09cedc25-8f61-4c8a-f9c6-50cbd3b76c82"
      },
      "execution_count": 3,
      "outputs": [
        {
          "output_type": "stream",
          "name": "stdout",
          "text": [
            "----PANDAS----\n",
            "mobile table:\n",
            "   user_id page_url\n",
            "0        1        A\n",
            "1        2        B\n",
            "2        3        C\n",
            "3        4        A\n",
            "4        9        B\n",
            "5        2        C\n",
            "6       10        B\n"
          ]
        }
      ]
    },
    {
      "cell_type": "code",
      "source": [
        "print(f'web table:\\n{pd_web}')"
      ],
      "metadata": {
        "colab": {
          "base_uri": "https://localhost:8080/"
        },
        "id": "vD4ZnEZVyYkO",
        "outputId": "5e14e8d2-7007-4480-d71a-1050663b9b53"
      },
      "execution_count": 4,
      "outputs": [
        {
          "output_type": "stream",
          "name": "stdout",
          "text": [
            "web table:\n",
            "   user_id page_url\n",
            "0        6        A\n",
            "1        2        B\n",
            "2        3        C\n",
            "3        7        A\n",
            "4        4        B\n",
            "5        8        C\n",
            "6        5        B\n"
          ]
        }
      ]
    },
    {
      "cell_type": "code",
      "source": [
        "pd_df1=(pd.merge(pd_mobile.drop(columns='page_url')\n",
        "                 ,pd_web.drop(columns='page_url')\n",
        "                 ,on='user_id'\n",
        "                 ,how='outer'\n",
        "                 ,indicator=True\n",
        "           )\n",
        "          .drop_duplicates()\n",
        ")\n",
        "print(f'Identifying web or mobile users:\\n{pd_df1}')"
      ],
      "metadata": {
        "colab": {
          "base_uri": "https://localhost:8080/"
        },
        "id": "RRy0OP7U_0dN",
        "outputId": "a21c245c-7c08-421d-8d67-7c49e04be921"
      },
      "execution_count": 5,
      "outputs": [
        {
          "output_type": "stream",
          "name": "stdout",
          "text": [
            "Identifying web or mobile users:\n",
            "    user_id      _merge\n",
            "0         1   left_only\n",
            "1         2        both\n",
            "3         3        both\n",
            "4         4        both\n",
            "5         5  right_only\n",
            "6         6  right_only\n",
            "7         7  right_only\n",
            "8         8  right_only\n",
            "9         9   left_only\n",
            "10       10   left_only\n"
          ]
        }
      ]
    },
    {
      "cell_type": "code",
      "source": [
        "pd_fractions=(pd.merge(pd_mobile.drop(columns='page_url')\n",
        "                                .drop_duplicates()\n",
        "                       ,pd_web.drop(columns='page_url')\n",
        "                              .drop_duplicates()\n",
        "                       ,on='user_id'\n",
        "                       ,how='outer'\n",
        "                       ,indicator=True\n",
        "                 )['_merge']\n",
        "                .value_counts(normalize=True)\n",
        "                .rename(index={'right_only':'only_web',\n",
        "                               'left_only':'only_mobile'})\n",
        ")\n",
        "print(f'fractions:')\n",
        "pd_fractions"
      ],
      "metadata": {
        "colab": {
          "base_uri": "https://localhost:8080/",
          "height": 227
        },
        "id": "Ohe99c2QBNak",
        "outputId": "eb1085bb-4205-4d46-a9f7-57ea43be2a0f"
      },
      "execution_count": 6,
      "outputs": [
        {
          "output_type": "stream",
          "name": "stdout",
          "text": [
            "fractions:\n"
          ]
        },
        {
          "output_type": "execute_result",
          "data": {
            "text/plain": [
              "_merge\n",
              "only_web       0.4\n",
              "only_mobile    0.3\n",
              "both           0.3\n",
              "Name: proportion, dtype: float64"
            ],
            "text/html": [
              "<div>\n",
              "<style scoped>\n",
              "    .dataframe tbody tr th:only-of-type {\n",
              "        vertical-align: middle;\n",
              "    }\n",
              "\n",
              "    .dataframe tbody tr th {\n",
              "        vertical-align: top;\n",
              "    }\n",
              "\n",
              "    .dataframe thead th {\n",
              "        text-align: right;\n",
              "    }\n",
              "</style>\n",
              "<table border=\"1\" class=\"dataframe\">\n",
              "  <thead>\n",
              "    <tr style=\"text-align: right;\">\n",
              "      <th></th>\n",
              "      <th>proportion</th>\n",
              "    </tr>\n",
              "    <tr>\n",
              "      <th>_merge</th>\n",
              "      <th></th>\n",
              "    </tr>\n",
              "  </thead>\n",
              "  <tbody>\n",
              "    <tr>\n",
              "      <th>only_web</th>\n",
              "      <td>0.4</td>\n",
              "    </tr>\n",
              "    <tr>\n",
              "      <th>only_mobile</th>\n",
              "      <td>0.3</td>\n",
              "    </tr>\n",
              "    <tr>\n",
              "      <th>both</th>\n",
              "      <td>0.3</td>\n",
              "    </tr>\n",
              "  </tbody>\n",
              "</table>\n",
              "</div><br><label><b>dtype:</b> float64</label>"
            ]
          },
          "metadata": {},
          "execution_count": 6
        }
      ]
    },
    {
      "cell_type": "code",
      "source": [
        "quick1=pl_mobile.head(5).collect()\n",
        "print(f'----POLARS----\\nmobile table (sample):\\n{quick1}')"
      ],
      "metadata": {
        "colab": {
          "base_uri": "https://localhost:8080/"
        },
        "id": "BkbZ5alXMKm_",
        "outputId": "70ddda71-90a1-4536-9cc2-6ab9f96decf4"
      },
      "execution_count": 9,
      "outputs": [
        {
          "output_type": "stream",
          "name": "stdout",
          "text": [
            "----POLARS----\n",
            "mobile table (sample):\n",
            "shape: (5, 2)\n",
            "┌─────────┬──────────┐\n",
            "│ user_id ┆ page_url │\n",
            "│ ---     ┆ ---      │\n",
            "│ i64     ┆ str      │\n",
            "╞═════════╪══════════╡\n",
            "│ 1       ┆ A        │\n",
            "│ 2       ┆ B        │\n",
            "│ 3       ┆ C        │\n",
            "│ 4       ┆ A        │\n",
            "│ 9       ┆ B        │\n",
            "└─────────┴──────────┘\n"
          ]
        }
      ]
    },
    {
      "cell_type": "code",
      "source": [
        "quick2=pl_web.head(5).collect()\n",
        "print(f'web table (sample):\\n{quick2}')"
      ],
      "metadata": {
        "colab": {
          "base_uri": "https://localhost:8080/"
        },
        "id": "WcpoX0qJMgAN",
        "outputId": "03f4121a-5d01-430b-89d4-a7ef93710342"
      },
      "execution_count": 10,
      "outputs": [
        {
          "output_type": "stream",
          "name": "stdout",
          "text": [
            "web table (sample):\n",
            "shape: (5, 2)\n",
            "┌─────────┬──────────┐\n",
            "│ user_id ┆ page_url │\n",
            "│ ---     ┆ ---      │\n",
            "│ i64     ┆ str      │\n",
            "╞═════════╪══════════╡\n",
            "│ 6       ┆ A        │\n",
            "│ 2       ┆ B        │\n",
            "│ 3       ┆ C        │\n",
            "│ 7       ┆ A        │\n",
            "│ 4       ┆ B        │\n",
            "└─────────┴──────────┘\n"
          ]
        }
      ]
    },
    {
      "cell_type": "code",
      "source": [
        "pl_lf1=(pl_mobile.head(5)\n",
        "                 .select(pl.col('user_id'),\n",
        "                         pl.col('user_id')\n",
        "                           .alias('mobile_user')\n",
        "\n",
        "                  )\n",
        "                 .unique()\n",
        "                 .join(pl_web.head(5)\n",
        "                             .select(pl.col('user_id')\n",
        "                                       .alias('web_user'),\n",
        "                                     pl.col('user_id')\n",
        "                              )\n",
        "                             .unique(),\n",
        "                       on='user_id',\n",
        "                       how='full',\n",
        "                       coalesce=True\n",
        "                  )\n",
        ").collect()\n",
        "print(f'Identifying web or mobile users (sample):\\n{pl_lf1}')"
      ],
      "metadata": {
        "colab": {
          "base_uri": "https://localhost:8080/"
        },
        "id": "IOjvmmKwMyNW",
        "outputId": "c564cf92-4e04-4b33-9c6a-3c396eebda34"
      },
      "execution_count": 17,
      "outputs": [
        {
          "output_type": "stream",
          "name": "stdout",
          "text": [
            "Identifying web or mobile users (sample):\n",
            "shape: (7, 3)\n",
            "┌─────────┬─────────────┬──────────┐\n",
            "│ user_id ┆ mobile_user ┆ web_user │\n",
            "│ ---     ┆ ---         ┆ ---      │\n",
            "│ i64     ┆ i64         ┆ i64      │\n",
            "╞═════════╪═════════════╪══════════╡\n",
            "│ 7       ┆ null        ┆ 7        │\n",
            "│ 4       ┆ 4           ┆ 4        │\n",
            "│ 3       ┆ 3           ┆ 3        │\n",
            "│ 2       ┆ 2           ┆ 2        │\n",
            "│ 6       ┆ null        ┆ 6        │\n",
            "│ 1       ┆ 1           ┆ null     │\n",
            "│ 9       ┆ 9           ┆ null     │\n",
            "└─────────┴─────────────┴──────────┘\n"
          ]
        }
      ]
    },
    {
      "cell_type": "code",
      "source": [
        "pl_fractions=(pl_mobile.select(pl.col('user_id'),\n",
        "                               pl.col('user_id')\n",
        "                                 .alias('web_user')\n",
        "                        )\n",
        "                       .unique()\n",
        "                       .join(pl_web.select(pl.col('user_id'),\n",
        "                                           pl.col('user_id')\n",
        "                                             .alias('mobile_user')\n",
        "\n",
        "                                    )\n",
        "                                   .unique(),\n",
        "                             on='user_id',\n",
        "                             how='full',\n",
        "                             coalesce=True\n",
        "                        )\n",
        "                       .with_columns(mobile_user=pl.when(pl.col('mobile_user')\n",
        "                                                           .is_null()\n",
        "                                                    )\n",
        "                                                   .then(1)\n",
        "                                                   .otherwise(0),\n",
        "                                     web_user=pl.when(pl.col('web_user')\n",
        "                                                        .is_null()\n",
        "                                                 )\n",
        "                                                .then(1)\n",
        "                                                .otherwise(0),\n",
        "                                     both=pl.when(pl.col('mobile_user')==pl.col('web_user'))\n",
        "                                            .then(1)\n",
        "                                            .otherwise(0)\n",
        "                       )\n",
        "                      .select(pl.mean('web_user',\n",
        "                                      'mobile_user',\n",
        "                                      'both'\n",
        "                                 )\n",
        "                       )\n",
        ").collect()\n",
        "print(f'Fractions:')\n",
        "pl_fractions"
      ],
      "metadata": {
        "colab": {
          "base_uri": "https://localhost:8080/",
          "height": 147
        },
        "id": "0X5Vk5Xvesr9",
        "outputId": "9a05d4fa-a992-4ba4-951e-9c5b3a3163c4"
      },
      "execution_count": 21,
      "outputs": [
        {
          "output_type": "stream",
          "name": "stdout",
          "text": [
            "Fractions:\n"
          ]
        },
        {
          "output_type": "execute_result",
          "data": {
            "text/plain": [
              "shape: (1, 3)\n",
              "┌──────────┬─────────────┬──────┐\n",
              "│ web_user ┆ mobile_user ┆ both │\n",
              "│ ---      ┆ ---         ┆ ---  │\n",
              "│ f64      ┆ f64         ┆ f64  │\n",
              "╞══════════╪═════════════╪══════╡\n",
              "│ 0.4      ┆ 0.3         ┆ 0.3  │\n",
              "└──────────┴─────────────┴──────┘"
            ],
            "text/html": [
              "<div><style>\n",
              ".dataframe > thead > tr,\n",
              ".dataframe > tbody > tr {\n",
              "  text-align: right;\n",
              "  white-space: pre-wrap;\n",
              "}\n",
              "</style>\n",
              "<small>shape: (1, 3)</small><table border=\"1\" class=\"dataframe\"><thead><tr><th>web_user</th><th>mobile_user</th><th>both</th></tr><tr><td>f64</td><td>f64</td><td>f64</td></tr></thead><tbody><tr><td>0.4</td><td>0.3</td><td>0.3</td></tr></tbody></table></div>"
            ]
          },
          "metadata": {},
          "execution_count": 21
        }
      ]
    }
  ]
}