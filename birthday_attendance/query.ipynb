{
  "nbformat": 4,
  "nbformat_minor": 0,
  "metadata": {
    "colab": {
      "provenance": [],
      "authorship_tag": "ABX9TyNcWKTJb10FgB9aY+LSZdRo",
      "include_colab_link": true
    },
    "kernelspec": {
      "name": "python3",
      "display_name": "Python 3"
    },
    "language_info": {
      "name": "python"
    }
  },
  "cells": [
    {
      "cell_type": "markdown",
      "metadata": {
        "id": "view-in-github",
        "colab_type": "text"
      },
      "source": [
        "<a href=\"https://colab.research.google.com/github/Uriel1201/HelloSQL2.0/blob/main/birthday_attendance/query.ipynb\" target=\"_parent\"><img src=\"https://colab.research.google.com/assets/colab-badge.svg\" alt=\"Open In Colab\"/></a>"
      ]
    },
    {
      "cell_type": "markdown",
      "source": [
        "#11. Birthday attendance\n",
        "**Given the following two tables, write a query to return the fraction of students, rounded to two decimal places, who attended school (attendance = 1) on their birthday.**"
      ],
      "metadata": {
        "id": "Ttf1tThq_yz6"
      }
    },
    {
      "cell_type": "code",
      "source": [
        "import pandas as pd\n",
        "import numpy  as np\n",
        "\n",
        "data1 = {'student_id'    : [1,2,3,1,2,3,1,2,3,4],\n",
        "        'school_date'    : ['03-APR-20',\n",
        "                         '03-APR-20',\n",
        "                         '03-APR-20',\n",
        "                         '04-APR-20',\n",
        "                         '04-APR-20',\n",
        "                         '04-APR-20',\n",
        "                         '05-APR-20',\n",
        "                         '05-APR-20',\n",
        "                         '05-APR-20',\n",
        "                         '05-APR-20'],\n",
        "         'attendance'    : [0,1,1,1,1,1,0,1,1,1]\n",
        "        }\n",
        "\n",
        "data2 = {'student_id'    : [1,2,3,4],\n",
        "         'school_id'     : [2,1,1,2],\n",
        "         'grade'         : [5,4,3,4],\n",
        "         'date_birth'    : ['03-APR-12',\n",
        "                         '04-APR-13',\n",
        "                         '05-APR-14',\n",
        "                         '03-APR-13']\n",
        "        }\n",
        "attendance  = pd.DataFrame(data1)\n",
        "students    = pd.DataFrame(data2)"
      ],
      "metadata": {
        "id": "YZH_OvUP_-xU"
      },
      "execution_count": null,
      "outputs": []
    },
    {
      "cell_type": "code",
      "source": [
        "attendance['school_date']=pd.to_datetime(attendance['school_date'],format=\"%d-%b-%y\")\n",
        "print(f'attendance table:\\n{attendance}')"
      ],
      "metadata": {
        "colab": {
          "base_uri": "https://localhost:8080/"
        },
        "id": "CVoIxFb9BHYc",
        "outputId": "38265000-8f48-4e2a-e412-e2b5f9d398f2"
      },
      "execution_count": null,
      "outputs": [
        {
          "output_type": "stream",
          "name": "stdout",
          "text": [
            "attendance table:\n",
            "   student_id school_date  attendance\n",
            "0           1  2020-04-03           0\n",
            "1           2  2020-04-03           1\n",
            "2           3  2020-04-03           1\n",
            "3           1  2020-04-04           1\n",
            "4           2  2020-04-04           1\n",
            "5           3  2020-04-04           1\n",
            "6           1  2020-04-05           0\n",
            "7           2  2020-04-05           1\n",
            "8           3  2020-04-05           1\n",
            "9           4  2020-04-05           1\n"
          ]
        }
      ]
    },
    {
      "cell_type": "code",
      "source": [
        "students['date_birth']=pd.to_datetime(students['date_birth'],format=\"%d-%b-%y\")\n",
        "print(f'students table:\\n{students}')"
      ],
      "metadata": {
        "colab": {
          "base_uri": "https://localhost:8080/"
        },
        "id": "MQ-AVULrCNY_",
        "outputId": "5c90cb78-ff50-4f66-a582-929e8a9f5daa"
      },
      "execution_count": null,
      "outputs": [
        {
          "output_type": "stream",
          "name": "stdout",
          "text": [
            "students table:\n",
            "   student_id  school_id  grade date_birth\n",
            "0           1          2      5 2012-04-03\n",
            "1           2          1      4 2013-04-04\n",
            "2           3          1      3 2014-04-05\n",
            "3           4          2      4 2013-04-03\n"
          ]
        }
      ]
    },
    {
      "cell_type": "code",
      "source": [
        "df1=attendance[['student_id','attendance']].copy()\n",
        "df1['month']=attendance['school_date'].dt.month\n",
        "df1['day']=attendance['school_date'].dt.day\n",
        "print(f'day and month attendance:\\n{df1}')"
      ],
      "metadata": {
        "colab": {
          "base_uri": "https://localhost:8080/"
        },
        "id": "CvqDQhqaF6_j",
        "outputId": "51153a73-5ce5-4e62-ab31-cda4232f5227"
      },
      "execution_count": 9,
      "outputs": [
        {
          "output_type": "stream",
          "name": "stdout",
          "text": [
            "day and month attendance:\n",
            "   student_id  attendance  month  day\n",
            "0           1           0      4    3\n",
            "1           2           1      4    3\n",
            "2           3           1      4    3\n",
            "3           1           1      4    4\n",
            "4           2           1      4    4\n",
            "5           3           1      4    4\n",
            "6           1           0      4    5\n",
            "7           2           1      4    5\n",
            "8           3           1      4    5\n",
            "9           4           1      4    5\n"
          ]
        }
      ]
    },
    {
      "cell_type": "code",
      "source": [
        "df2=students[['student_id']].copy()\n",
        "df2['month']=students['date_birth'].dt.month\n",
        "df2['day']=students['date_birth'].dt.day\n",
        "print(f'day and month birthday:\\n{df2}')"
      ],
      "metadata": {
        "colab": {
          "base_uri": "https://localhost:8080/"
        },
        "id": "nm36h17HJE_9",
        "outputId": "3422551a-377b-43c5-ad57-e26a08b24649"
      },
      "execution_count": 8,
      "outputs": [
        {
          "output_type": "stream",
          "name": "stdout",
          "text": [
            "day and month birthday:\n",
            "   student_id  month  day\n",
            "0           1      4    3\n",
            "1           2      4    4\n",
            "2           3      4    5\n",
            "3           4      4    3\n"
          ]
        }
      ]
    },
    {
      "cell_type": "code",
      "source": [
        "df3=pd.merge(df2,df1,on=['student_id','month','day'],how='left')\n",
        "print(f'attendance on birthday dates:\\n{df3}')"
      ],
      "metadata": {
        "colab": {
          "base_uri": "https://localhost:8080/"
        },
        "id": "7dN6K-zALUh9",
        "outputId": "b6121e3f-b78b-40ed-8978-c7d3fd99031f"
      },
      "execution_count": 13,
      "outputs": [
        {
          "output_type": "stream",
          "name": "stdout",
          "text": [
            "attendance on birthday dates:\n",
            "   student_id  month  day  attendance\n",
            "0           1      4    3         0.0\n",
            "1           2      4    4         1.0\n",
            "2           3      4    5         1.0\n",
            "3           4      4    3         NaN\n"
          ]
        }
      ]
    },
    {
      "cell_type": "code",
      "source": [
        "attendance_copy=attendance[['student_id','attendance']].copy()\n",
        "attendance_copy['month']=attendance['school_date'].dt.month\n",
        "attendance_copy['day']=attendance['school_date'].dt.day\n",
        "students_copy=students[['student_id']].copy()\n",
        "students_copy['month']=students['date_birth'].dt.month\n",
        "students_copy['day']=students['date_birth'].dt.day\n",
        "attendance_on_birthday=(pd.merge(students_copy,\n",
        "                                 attendance_copy,\n",
        "                                 on=['student_id','month','day'],\n",
        "                                 how='left'\n",
        "                           )\n",
        ")\n",
        "fraction=attendance_on_birthday['attendance'].mean()\n",
        "print(f'fraction of birthday attendance:\\n{round(fraction,2)}')"
      ],
      "metadata": {
        "colab": {
          "base_uri": "https://localhost:8080/"
        },
        "id": "v0Zb7mefSPQm",
        "outputId": "54c5ccb2-16a3-4104-ea0d-199bd9a5121c"
      },
      "execution_count": 21,
      "outputs": [
        {
          "output_type": "stream",
          "name": "stdout",
          "text": [
            "fraction of birthday attendance:\n",
            "0.67\n"
          ]
        }
      ]
    }
  ]
}