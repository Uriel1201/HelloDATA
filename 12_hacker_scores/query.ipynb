{
  "nbformat": 4,
  "nbformat_minor": 0,
  "metadata": {
    "colab": {
      "provenance": [],
      "authorship_tag": "ABX9TyM8TjNRnlDSlETn6ClDosju",
      "include_colab_link": true
    },
    "kernelspec": {
      "name": "python3",
      "display_name": "Python 3"
    },
    "language_info": {
      "name": "python"
    }
  },
  "cells": [
    {
      "cell_type": "markdown",
      "metadata": {
        "id": "view-in-github",
        "colab_type": "text"
      },
      "source": [
        "<a href=\"https://colab.research.google.com/github/Uriel1201/HelloSQL2.0/blob/main/12_hacker_scores/query.ipynb\" target=\"_parent\"><img src=\"https://colab.research.google.com/assets/colab-badge.svg\" alt=\"Open In Colab\"/></a>"
      ]
    },
    {
      "cell_type": "markdown",
      "source": [
        "#12. Hacker Scores.\n",
        "**Writing a query to return the hacker ID, name, and\n",
        "total score (the sum of maximum scores\n",
        "for each challenge completed) ordered by descending score,\n",
        "and by ascending hacker ID in the case of score tie.\n",
        "Do not display entries for hackers with a score\n",
        "of zero.**"
      ],
      "metadata": {
        "id": "OSO87HKlcXpK"
      }
    },
    {
      "cell_type": "code",
      "source": [
        "!pip install polars\n",
        "import pandas as pd\n",
        "import numpy as  np\n",
        "import polars as pl"
      ],
      "metadata": {
        "colab": {
          "base_uri": "https://localhost:8080/"
        },
        "id": "4dYc9s-FcYAj",
        "outputId": "0d30ed75-4c89-4885-f9a1-f925a91e4b15"
      },
      "execution_count": 1,
      "outputs": [
        {
          "output_type": "stream",
          "name": "stdout",
          "text": [
            "Requirement already satisfied: polars in /usr/local/lib/python3.11/dist-packages (1.21.0)\n"
          ]
        }
      ]
    },
    {
      "cell_type": "code",
      "source": [
        "data1 = {'HACKER_ID' : [1,2,3,4],\n",
        "         'NAME'      : ['John','Jane','Joe','Jim']\n",
        "        }\n",
        "\n",
        "data2 = {'SUB_ID'       : [101,102,103,104,105,106,107,108,109],\n",
        "         'HACKER_ID'    : [1,1,2,2,2,3,3,3,4],\n",
        "         'CHALLENGE_ID' : [1,1,1,1,2,1,2,2,1],\n",
        "         'SCORE'        : [10,12,11,9,13,9,12,15,0]\n",
        "        }\n",
        "\n",
        "pd_hackers=pd.DataFrame(data1)\n",
        "pd_submissions=pd.DataFrame(data2)\n",
        "pl_hackers=pl.LazyFrame(data1)\n",
        "pl_submissions=pl.LazyFrame(data2)"
      ],
      "metadata": {
        "id": "aPUjtSagcYKM"
      },
      "execution_count": 2,
      "outputs": []
    },
    {
      "cell_type": "code",
      "source": [
        "print(f'----PANDAS----\\nhackers table:\\n{pd_hackers}')"
      ],
      "metadata": {
        "colab": {
          "base_uri": "https://localhost:8080/"
        },
        "id": "1deeJAGrcYTc",
        "outputId": "5b47dad7-2209-4394-b030-5d164c6484d9"
      },
      "execution_count": 3,
      "outputs": [
        {
          "output_type": "stream",
          "name": "stdout",
          "text": [
            "----PANDAS----\n",
            "hackers table:\n",
            "   HACKER_ID  NAME\n",
            "0          1  John\n",
            "1          2  Jane\n",
            "2          3   Joe\n",
            "3          4   Jim\n"
          ]
        }
      ]
    },
    {
      "cell_type": "code",
      "source": [
        "print(f'submissions table:\\n{pd_submissions}')"
      ],
      "metadata": {
        "colab": {
          "base_uri": "https://localhost:8080/"
        },
        "id": "uNHD7wk6cYb9",
        "outputId": "4feda596-f0f8-49f2-c07b-f3d3e56a7de5"
      },
      "execution_count": 4,
      "outputs": [
        {
          "output_type": "stream",
          "name": "stdout",
          "text": [
            "submissions table:\n",
            "   SUB_ID  HACKER_ID  CHALLENGE_ID  SCORE\n",
            "0     101          1             1     10\n",
            "1     102          1             1     12\n",
            "2     103          2             1     11\n",
            "3     104          2             1      9\n",
            "4     105          2             2     13\n",
            "5     106          3             1      9\n",
            "6     107          3             2     12\n",
            "7     108          3             2     15\n",
            "8     109          4             1      0\n"
          ]
        }
      ]
    },
    {
      "cell_type": "code",
      "source": [
        "pd_df1=(pd_submissions[['HACKER_ID','CHALLENGE_ID','SCORE']].groupby(['HACKER_ID','CHALLENGE_ID'],\n",
        "                                                                     as_index=False\n",
        "                                                             )\n",
        "                                                            .agg(MAX_SCORE=('SCORE',\n",
        "                                                                            'max')\n",
        "                                                             )\n",
        "                                                            .groupby('HACKER_ID',\n",
        "                                                                     as_index=False\n",
        "                                                             )\n",
        "                                                            .agg(TOTAL=('MAX_SCORE',\n",
        "                                                                        'sum')\n",
        "                                                             )\n",
        ")\n",
        "print(f'Identifying max score achieved by each user:\\n{pd_df1}')"
      ],
      "metadata": {
        "colab": {
          "base_uri": "https://localhost:8080/"
        },
        "id": "dvtzzD-lcYlJ",
        "outputId": "77ca7daf-0781-482e-efbf-17d3b4e74f17"
      },
      "execution_count": 5,
      "outputs": [
        {
          "output_type": "stream",
          "name": "stdout",
          "text": [
            "Identifying max score achieved by each user:\n",
            "   HACKER_ID  TOTAL\n",
            "0          1     12\n",
            "1          2     24\n",
            "2          3     24\n",
            "3          4      0\n"
          ]
        }
      ]
    },
    {
      "cell_type": "code",
      "source": [
        "pd_scores=(pd.merge(pd_hackers,\n",
        "                    pd_df1,\n",
        "                    on='HACKER_ID',\n",
        "                    how='left'\n",
        "              )\n",
        "             .query('TOTAL>0')\n",
        "             .sort_values(by=['TOTAL','HACKER_ID'],\n",
        "                          ascending=[False,True]\n",
        "              )\n",
        ")\n",
        "print(f\"Querying users who don't have scores equal to zero:\\n{pd_scores}\")"
      ],
      "metadata": {
        "colab": {
          "base_uri": "https://localhost:8080/"
        },
        "id": "fZiir84oqT6x",
        "outputId": "f3633e9b-7cef-4def-dba5-68216102ea1f"
      },
      "execution_count": 6,
      "outputs": [
        {
          "output_type": "stream",
          "name": "stdout",
          "text": [
            "Querying users who don't have scores equal to zero:\n",
            "   HACKER_ID  NAME  TOTAL\n",
            "1          2  Jane     24\n",
            "2          3   Joe     24\n",
            "0          1  John     12\n"
          ]
        }
      ]
    },
    {
      "cell_type": "code",
      "source": [
        "sample1=pl_hackers.head(5)\n",
        "print(f'----POLARS----\\nHackers table (SAMPLE):\\n{sample1.collect()}')"
      ],
      "metadata": {
        "id": "l0Lh26GvqUdH",
        "colab": {
          "base_uri": "https://localhost:8080/"
        },
        "outputId": "cff042b2-f1ce-491f-df3d-d7c9ac7b70f5"
      },
      "execution_count": 7,
      "outputs": [
        {
          "output_type": "stream",
          "name": "stdout",
          "text": [
            "----POLARS----\n",
            "Hackers table (SAMPLE):\n",
            "shape: (4, 2)\n",
            "┌───────────┬──────┐\n",
            "│ HACKER_ID ┆ NAME │\n",
            "│ ---       ┆ ---  │\n",
            "│ i64       ┆ str  │\n",
            "╞═══════════╪══════╡\n",
            "│ 1         ┆ John │\n",
            "│ 2         ┆ Jane │\n",
            "│ 3         ┆ Joe  │\n",
            "│ 4         ┆ Jim  │\n",
            "└───────────┴──────┘\n"
          ]
        }
      ]
    },
    {
      "cell_type": "code",
      "source": [
        "sample2=pl_submissions.head(5)\n",
        "print(f'Submissions table (SAMPLE):\\n{sample2.collect()}')"
      ],
      "metadata": {
        "id": "Tf3B-arSoivN",
        "colab": {
          "base_uri": "https://localhost:8080/"
        },
        "outputId": "11c2d83c-7de1-4e5b-a1d4-587cdb67cbc8"
      },
      "execution_count": 8,
      "outputs": [
        {
          "output_type": "stream",
          "name": "stdout",
          "text": [
            "Submissions table (SAMPLE):\n",
            "shape: (5, 4)\n",
            "┌────────┬───────────┬──────────────┬───────┐\n",
            "│ SUB_ID ┆ HACKER_ID ┆ CHALLENGE_ID ┆ SCORE │\n",
            "│ ---    ┆ ---       ┆ ---          ┆ ---   │\n",
            "│ i64    ┆ i64       ┆ i64          ┆ i64   │\n",
            "╞════════╪═══════════╪══════════════╪═══════╡\n",
            "│ 101    ┆ 1         ┆ 1            ┆ 10    │\n",
            "│ 102    ┆ 1         ┆ 1            ┆ 12    │\n",
            "│ 103    ┆ 2         ┆ 1            ┆ 11    │\n",
            "│ 104    ┆ 2         ┆ 1            ┆ 9     │\n",
            "│ 105    ┆ 2         ┆ 2            ┆ 13    │\n",
            "└────────┴───────────┴──────────────┴───────┘\n"
          ]
        }
      ]
    },
    {
      "cell_type": "code",
      "source": [
        "df1=(sample2.select(pl.col('HACKER_ID'),\n",
        "                    pl.col('CHALLENGE_ID'),\n",
        "                    pl.col('SCORE')\n",
        "             )\n",
        "            .group_by(['HACKER_ID','CHALLENGE_ID'])\n",
        "            .agg(MAX_SCORE=pl.max('SCORE')\n",
        "             )\n",
        "            .group_by('HACKER_ID')\n",
        "            .agg(TOTAL_SCORE=pl.sum('MAX_SCORE'))\n",
        ").collect()\n",
        "print(f'identifying total score by each user:\\n{pl_df1}')"
      ],
      "metadata": {
        "id": "cWNziznmoi9k",
        "colab": {
          "base_uri": "https://localhost:8080/"
        },
        "outputId": "30406ed9-bcfe-403a-8152-b292ca8c1933"
      },
      "execution_count": 19,
      "outputs": [
        {
          "output_type": "stream",
          "name": "stdout",
          "text": [
            "identifying total score by each user:\n",
            "shape: (2, 2)\n",
            "┌───────────┬─────────────┐\n",
            "│ HACKER_ID ┆ TOTAL_SCORE │\n",
            "│ ---       ┆ ---         │\n",
            "│ i64       ┆ i64         │\n",
            "╞═══════════╪═════════════╡\n",
            "│ 1         ┆ 12          │\n",
            "│ 2         ┆ 24          │\n",
            "└───────────┴─────────────┘\n"
          ]
        }
      ]
    },
    {
      "cell_type": "code",
      "source": [
        "scores=(pl_submissions.select(pl.col('HACKER_ID'),\n",
        "                       pl.col('CHALLENGE_ID'),\n",
        "                       pl.col('SCORE')\n",
        "                )\n",
        "               .group_by(['HACKER_ID','CHALLENGE_ID'])\n",
        "               .agg(MAX_SCORE=pl.max('SCORE')\n",
        "                )\n",
        "               .group_by('HACKER_ID')\n",
        "               .agg(TOTAL_SCORE=pl.sum('MAX_SCORE')\n",
        "                )\n",
        "               .join(pl_hackers,\n",
        "                     on='HACKER_ID',\n",
        "                     how='right'\n",
        "                )\n",
        "               .filter(pl.col('TOTAL_SCORE')>0)\n",
        "               .sort(by=['TOTAL_SCORE','HACKER_ID'],\n",
        "                     descending=[True,False]\n",
        "                )\n",
        ").collect()\n",
        "print(f\"Querying users who don't have score equal to zero:\\n{scores}\")"
      ],
      "metadata": {
        "id": "oDXA0D9icaIo",
        "colab": {
          "base_uri": "https://localhost:8080/"
        },
        "outputId": "85d34fd2-f8bb-4162-e132-fd9494f6b4ee"
      },
      "execution_count": 28,
      "outputs": [
        {
          "output_type": "stream",
          "name": "stdout",
          "text": [
            "Querying users who don't have score equal to zero:\n",
            "shape: (3, 3)\n",
            "┌─────────────┬───────────┬──────┐\n",
            "│ TOTAL_SCORE ┆ HACKER_ID ┆ NAME │\n",
            "│ ---         ┆ ---       ┆ ---  │\n",
            "│ i64         ┆ i64       ┆ str  │\n",
            "╞═════════════╪═══════════╪══════╡\n",
            "│ 24          ┆ 2         ┆ Jane │\n",
            "│ 24          ┆ 3         ┆ Joe  │\n",
            "│ 12          ┆ 1         ┆ John │\n",
            "└─────────────┴───────────┴──────┘\n"
          ]
        }
      ]
    }
  ]
}