{
  "nbformat": 4,
  "nbformat_minor": 0,
  "metadata": {
    "colab": {
      "provenance": [],
      "authorship_tag": "ABX9TyMK9ZpyZYxpk6WdMZWe1aZs",
      "include_colab_link": true
    },
    "kernelspec": {
      "name": "python3",
      "display_name": "Python 3"
    },
    "language_info": {
      "name": "python"
    }
  },
  "cells": [
    {
      "cell_type": "markdown",
      "metadata": {
        "id": "view-in-github",
        "colab_type": "text"
      },
      "source": [
        "<a href=\"https://colab.research.google.com/github/Uriel1201/HelloSQL2.0/blob/main/10_project_agg/query.ipynb\" target=\"_parent\"><img src=\"https://colab.research.google.com/assets/colab-badge.svg\" alt=\"Open In Colab\"/></a>"
      ]
    },
    {
      "cell_type": "markdown",
      "source": [
        "#10. Project Aggregation\n",
        "**The projects table contains three columns: task_id, start_date, and end_date. The difference between end_date and start_date is 1 day for each row in the table. If task end dates are consecutive they are part of the same project. Projects do not overlap. Write a query to return the start and end dates of each project, and the number of days it took to complete. Order by ascending project duration, and ascending start date in the case of a tie.**"
      ],
      "metadata": {
        "id": "Bnlu-FhsH87S"
      }
    },
    {
      "cell_type": "code",
      "source": [
        "!pip install polars\n",
        "import pandas as pd\n",
        "import numpy as  np\n",
        "import polars as pl"
      ],
      "metadata": {
        "colab": {
          "base_uri": "https://localhost:8080/"
        },
        "id": "qyASR_8QH9Mi",
        "outputId": "7d85fb95-7fb1-43d1-af5c-f4f3c9a11f3a"
      },
      "execution_count": null,
      "outputs": [
        {
          "output_type": "stream",
          "name": "stdout",
          "text": [
            "Requirement already satisfied: polars in /usr/local/lib/python3.11/dist-packages (1.21.0)\n"
          ]
        }
      ]
    },
    {
      "cell_type": "code",
      "source": [
        "data = {'task_id'    : [1,2,3,4,5,6,7],\n",
        "        'start_date' : ['01-OCT-20',\n",
        "                        '02-OCT-20',\n",
        "                        '03-OCT-20',\n",
        "                        '13-OCT-20',\n",
        "                        '14-OCT-20',\n",
        "                        '28-OCT-20',\n",
        "                        '30-OCT-20'],\n",
        "         'end_date'  : ['02-OCT-20',\n",
        "                        '03-OCT-20',\n",
        "                        '04-OCT-20',\n",
        "                        '14-OCT-20',\n",
        "                        '15-OCT-20',\n",
        "                        '29-OCT-20',\n",
        "                        '31-OCT-20']\n",
        "        }\n",
        "pd_projects=pd.DataFrame(data)\n",
        "pl_projects=pl.LazyFrame(data)\n",
        "pd_projects['start_date']=(pd.to_datetime(pd_projects['start_date'],\n",
        "                                          format=\"%d-%b-%y\"\n",
        "                              )\n",
        ")\n",
        "pd_projects['end_date']=(pd.to_datetime(pd_projects['end_date'],\n",
        "                                        format=\"%d-%b-%y\"\n",
        "                            )\n",
        ")\n",
        "pl_projects=(pl_projects.with_columns(pl.col('start_date')\n",
        "                                        .str\n",
        "                                        .strptime(pl.Date,\n",
        "                                                  format=\"%d-%b-%y\"\n",
        "                                         ),\n",
        "                                      pl.col('end_date')\n",
        "                                        .str\n",
        "                                        .strptime(pl.Date,\n",
        "                                                  format=\"%d-%b-%y\"\n",
        "                                         )\n",
        "                         )\n",
        ")"
      ],
      "metadata": {
        "id": "FzTZ_ejZH9V0"
      },
      "execution_count": null,
      "outputs": []
    },
    {
      "cell_type": "code",
      "source": [
        "print(f'----PANDAS----\\nprojects table:\\n{pd_projects}')"
      ],
      "metadata": {
        "colab": {
          "base_uri": "https://localhost:8080/"
        },
        "id": "HbD1-cbAH-IE",
        "outputId": "2f5fb858-a941-40ac-ac47-3e7b9b48dbd3"
      },
      "execution_count": null,
      "outputs": [
        {
          "output_type": "stream",
          "name": "stdout",
          "text": [
            "----PANDAS----\n",
            "projects table:\n",
            "   task_id start_date   end_date\n",
            "0        1 2020-10-01 2020-10-02\n",
            "1        2 2020-10-02 2020-10-03\n",
            "2        3 2020-10-03 2020-10-04\n",
            "3        4 2020-10-13 2020-10-14\n",
            "4        5 2020-10-14 2020-10-15\n",
            "5        6 2020-10-28 2020-10-29\n",
            "6        7 2020-10-30 2020-10-31\n"
          ]
        }
      ]
    },
    {
      "cell_type": "code",
      "source": [
        "pd_df1=(pd_projects.sort_values(by=['task_id','start_date'])\n",
        "                   .assign(project_id=lambda x:\n",
        "                                      (x['start_date']!=x['end_date'].shift(1)).cumsum()\n",
        "                    )\n",
        ")[['task_id','project_id']]\n",
        "print(f'Identifying unique projects:\\n{pd_df1}')"
      ],
      "metadata": {
        "id": "ZVcB6Pj_H-SE",
        "colab": {
          "base_uri": "https://localhost:8080/"
        },
        "outputId": "b301a003-8e1b-40bf-f9af-2a60588491c6"
      },
      "execution_count": null,
      "outputs": [
        {
          "output_type": "stream",
          "name": "stdout",
          "text": [
            "Identifying unique projects:\n",
            "   task_id  project_id\n",
            "0        1           1\n",
            "1        2           1\n",
            "2        3           1\n",
            "3        4           2\n",
            "4        5           2\n",
            "5        6           3\n",
            "6        7           4\n"
          ]
        }
      ]
    },
    {
      "cell_type": "code",
      "source": [
        "pd_durations=(pd_projects.sort_values(by=['task_id','start_date'])\n",
        "                         .assign(project_id=lambda x:\n",
        "                                            (x['start_date']!=x['end_date'].shift(1))\n",
        "                                                                           .cumsum()\n",
        "                          )\n",
        "                         .groupby('project_id',\n",
        "                                  as_index=False\n",
        "                          )\n",
        "                         .agg(project_start=('start_date','first'),\n",
        "                              project_end=('end_date','last')\n",
        "                          )\n",
        "                         .assign(duration=lambda x:\n",
        "                                          (x['project_end']-x['project_start']).dt.days\n",
        "                          )\n",
        "                         .sort_values(by=['duration','project_start'])\n",
        ")\n",
        "print(f'Identifying durations:')\n",
        "pd_durations"
      ],
      "metadata": {
        "id": "_IacHZwuH_D_",
        "colab": {
          "base_uri": "https://localhost:8080/",
          "height": 212
        },
        "outputId": "d70429d1-6fe0-4bf1-c0df-123278e50cbd"
      },
      "execution_count": null,
      "outputs": [
        {
          "output_type": "stream",
          "name": "stdout",
          "text": [
            "Identifying durations:\n"
          ]
        },
        {
          "output_type": "execute_result",
          "data": {
            "text/plain": [
              "   project_id project_start project_end  duration\n",
              "2           3    2020-10-28  2020-10-29         1\n",
              "3           4    2020-10-30  2020-10-31         1\n",
              "1           2    2020-10-13  2020-10-15         2\n",
              "0           1    2020-10-01  2020-10-04         3"
            ],
            "text/html": [
              "\n",
              "  <div id=\"df-c2d9a3e5-99b2-4dd7-bfb6-807fb6096d5b\" class=\"colab-df-container\">\n",
              "    <div>\n",
              "<style scoped>\n",
              "    .dataframe tbody tr th:only-of-type {\n",
              "        vertical-align: middle;\n",
              "    }\n",
              "\n",
              "    .dataframe tbody tr th {\n",
              "        vertical-align: top;\n",
              "    }\n",
              "\n",
              "    .dataframe thead th {\n",
              "        text-align: right;\n",
              "    }\n",
              "</style>\n",
              "<table border=\"1\" class=\"dataframe\">\n",
              "  <thead>\n",
              "    <tr style=\"text-align: right;\">\n",
              "      <th></th>\n",
              "      <th>project_id</th>\n",
              "      <th>project_start</th>\n",
              "      <th>project_end</th>\n",
              "      <th>duration</th>\n",
              "    </tr>\n",
              "  </thead>\n",
              "  <tbody>\n",
              "    <tr>\n",
              "      <th>2</th>\n",
              "      <td>3</td>\n",
              "      <td>2020-10-28</td>\n",
              "      <td>2020-10-29</td>\n",
              "      <td>1</td>\n",
              "    </tr>\n",
              "    <tr>\n",
              "      <th>3</th>\n",
              "      <td>4</td>\n",
              "      <td>2020-10-30</td>\n",
              "      <td>2020-10-31</td>\n",
              "      <td>1</td>\n",
              "    </tr>\n",
              "    <tr>\n",
              "      <th>1</th>\n",
              "      <td>2</td>\n",
              "      <td>2020-10-13</td>\n",
              "      <td>2020-10-15</td>\n",
              "      <td>2</td>\n",
              "    </tr>\n",
              "    <tr>\n",
              "      <th>0</th>\n",
              "      <td>1</td>\n",
              "      <td>2020-10-01</td>\n",
              "      <td>2020-10-04</td>\n",
              "      <td>3</td>\n",
              "    </tr>\n",
              "  </tbody>\n",
              "</table>\n",
              "</div>\n",
              "    <div class=\"colab-df-buttons\">\n",
              "\n",
              "  <div class=\"colab-df-container\">\n",
              "    <button class=\"colab-df-convert\" onclick=\"convertToInteractive('df-c2d9a3e5-99b2-4dd7-bfb6-807fb6096d5b')\"\n",
              "            title=\"Convert this dataframe to an interactive table.\"\n",
              "            style=\"display:none;\">\n",
              "\n",
              "  <svg xmlns=\"http://www.w3.org/2000/svg\" height=\"24px\" viewBox=\"0 -960 960 960\">\n",
              "    <path d=\"M120-120v-720h720v720H120Zm60-500h600v-160H180v160Zm220 220h160v-160H400v160Zm0 220h160v-160H400v160ZM180-400h160v-160H180v160Zm440 0h160v-160H620v160ZM180-180h160v-160H180v160Zm440 0h160v-160H620v160Z\"/>\n",
              "  </svg>\n",
              "    </button>\n",
              "\n",
              "  <style>\n",
              "    .colab-df-container {\n",
              "      display:flex;\n",
              "      gap: 12px;\n",
              "    }\n",
              "\n",
              "    .colab-df-convert {\n",
              "      background-color: #E8F0FE;\n",
              "      border: none;\n",
              "      border-radius: 50%;\n",
              "      cursor: pointer;\n",
              "      display: none;\n",
              "      fill: #1967D2;\n",
              "      height: 32px;\n",
              "      padding: 0 0 0 0;\n",
              "      width: 32px;\n",
              "    }\n",
              "\n",
              "    .colab-df-convert:hover {\n",
              "      background-color: #E2EBFA;\n",
              "      box-shadow: 0px 1px 2px rgba(60, 64, 67, 0.3), 0px 1px 3px 1px rgba(60, 64, 67, 0.15);\n",
              "      fill: #174EA6;\n",
              "    }\n",
              "\n",
              "    .colab-df-buttons div {\n",
              "      margin-bottom: 4px;\n",
              "    }\n",
              "\n",
              "    [theme=dark] .colab-df-convert {\n",
              "      background-color: #3B4455;\n",
              "      fill: #D2E3FC;\n",
              "    }\n",
              "\n",
              "    [theme=dark] .colab-df-convert:hover {\n",
              "      background-color: #434B5C;\n",
              "      box-shadow: 0px 1px 3px 1px rgba(0, 0, 0, 0.15);\n",
              "      filter: drop-shadow(0px 1px 2px rgba(0, 0, 0, 0.3));\n",
              "      fill: #FFFFFF;\n",
              "    }\n",
              "  </style>\n",
              "\n",
              "    <script>\n",
              "      const buttonEl =\n",
              "        document.querySelector('#df-c2d9a3e5-99b2-4dd7-bfb6-807fb6096d5b button.colab-df-convert');\n",
              "      buttonEl.style.display =\n",
              "        google.colab.kernel.accessAllowed ? 'block' : 'none';\n",
              "\n",
              "      async function convertToInteractive(key) {\n",
              "        const element = document.querySelector('#df-c2d9a3e5-99b2-4dd7-bfb6-807fb6096d5b');\n",
              "        const dataTable =\n",
              "          await google.colab.kernel.invokeFunction('convertToInteractive',\n",
              "                                                    [key], {});\n",
              "        if (!dataTable) return;\n",
              "\n",
              "        const docLinkHtml = 'Like what you see? Visit the ' +\n",
              "          '<a target=\"_blank\" href=https://colab.research.google.com/notebooks/data_table.ipynb>data table notebook</a>'\n",
              "          + ' to learn more about interactive tables.';\n",
              "        element.innerHTML = '';\n",
              "        dataTable['output_type'] = 'display_data';\n",
              "        await google.colab.output.renderOutput(dataTable, element);\n",
              "        const docLink = document.createElement('div');\n",
              "        docLink.innerHTML = docLinkHtml;\n",
              "        element.appendChild(docLink);\n",
              "      }\n",
              "    </script>\n",
              "  </div>\n",
              "\n",
              "\n",
              "    <div id=\"df-85cced59-d52b-4c27-aa14-2011d49b18e6\">\n",
              "      <button class=\"colab-df-quickchart\" onclick=\"quickchart('df-85cced59-d52b-4c27-aa14-2011d49b18e6')\"\n",
              "                title=\"Suggest charts\"\n",
              "                style=\"display:none;\">\n",
              "\n",
              "<svg xmlns=\"http://www.w3.org/2000/svg\" height=\"24px\"viewBox=\"0 0 24 24\"\n",
              "     width=\"24px\">\n",
              "    <g>\n",
              "        <path d=\"M19 3H5c-1.1 0-2 .9-2 2v14c0 1.1.9 2 2 2h14c1.1 0 2-.9 2-2V5c0-1.1-.9-2-2-2zM9 17H7v-7h2v7zm4 0h-2V7h2v10zm4 0h-2v-4h2v4z\"/>\n",
              "    </g>\n",
              "</svg>\n",
              "      </button>\n",
              "\n",
              "<style>\n",
              "  .colab-df-quickchart {\n",
              "      --bg-color: #E8F0FE;\n",
              "      --fill-color: #1967D2;\n",
              "      --hover-bg-color: #E2EBFA;\n",
              "      --hover-fill-color: #174EA6;\n",
              "      --disabled-fill-color: #AAA;\n",
              "      --disabled-bg-color: #DDD;\n",
              "  }\n",
              "\n",
              "  [theme=dark] .colab-df-quickchart {\n",
              "      --bg-color: #3B4455;\n",
              "      --fill-color: #D2E3FC;\n",
              "      --hover-bg-color: #434B5C;\n",
              "      --hover-fill-color: #FFFFFF;\n",
              "      --disabled-bg-color: #3B4455;\n",
              "      --disabled-fill-color: #666;\n",
              "  }\n",
              "\n",
              "  .colab-df-quickchart {\n",
              "    background-color: var(--bg-color);\n",
              "    border: none;\n",
              "    border-radius: 50%;\n",
              "    cursor: pointer;\n",
              "    display: none;\n",
              "    fill: var(--fill-color);\n",
              "    height: 32px;\n",
              "    padding: 0;\n",
              "    width: 32px;\n",
              "  }\n",
              "\n",
              "  .colab-df-quickchart:hover {\n",
              "    background-color: var(--hover-bg-color);\n",
              "    box-shadow: 0 1px 2px rgba(60, 64, 67, 0.3), 0 1px 3px 1px rgba(60, 64, 67, 0.15);\n",
              "    fill: var(--button-hover-fill-color);\n",
              "  }\n",
              "\n",
              "  .colab-df-quickchart-complete:disabled,\n",
              "  .colab-df-quickchart-complete:disabled:hover {\n",
              "    background-color: var(--disabled-bg-color);\n",
              "    fill: var(--disabled-fill-color);\n",
              "    box-shadow: none;\n",
              "  }\n",
              "\n",
              "  .colab-df-spinner {\n",
              "    border: 2px solid var(--fill-color);\n",
              "    border-color: transparent;\n",
              "    border-bottom-color: var(--fill-color);\n",
              "    animation:\n",
              "      spin 1s steps(1) infinite;\n",
              "  }\n",
              "\n",
              "  @keyframes spin {\n",
              "    0% {\n",
              "      border-color: transparent;\n",
              "      border-bottom-color: var(--fill-color);\n",
              "      border-left-color: var(--fill-color);\n",
              "    }\n",
              "    20% {\n",
              "      border-color: transparent;\n",
              "      border-left-color: var(--fill-color);\n",
              "      border-top-color: var(--fill-color);\n",
              "    }\n",
              "    30% {\n",
              "      border-color: transparent;\n",
              "      border-left-color: var(--fill-color);\n",
              "      border-top-color: var(--fill-color);\n",
              "      border-right-color: var(--fill-color);\n",
              "    }\n",
              "    40% {\n",
              "      border-color: transparent;\n",
              "      border-right-color: var(--fill-color);\n",
              "      border-top-color: var(--fill-color);\n",
              "    }\n",
              "    60% {\n",
              "      border-color: transparent;\n",
              "      border-right-color: var(--fill-color);\n",
              "    }\n",
              "    80% {\n",
              "      border-color: transparent;\n",
              "      border-right-color: var(--fill-color);\n",
              "      border-bottom-color: var(--fill-color);\n",
              "    }\n",
              "    90% {\n",
              "      border-color: transparent;\n",
              "      border-bottom-color: var(--fill-color);\n",
              "    }\n",
              "  }\n",
              "</style>\n",
              "\n",
              "      <script>\n",
              "        async function quickchart(key) {\n",
              "          const quickchartButtonEl =\n",
              "            document.querySelector('#' + key + ' button');\n",
              "          quickchartButtonEl.disabled = true;  // To prevent multiple clicks.\n",
              "          quickchartButtonEl.classList.add('colab-df-spinner');\n",
              "          try {\n",
              "            const charts = await google.colab.kernel.invokeFunction(\n",
              "                'suggestCharts', [key], {});\n",
              "          } catch (error) {\n",
              "            console.error('Error during call to suggestCharts:', error);\n",
              "          }\n",
              "          quickchartButtonEl.classList.remove('colab-df-spinner');\n",
              "          quickchartButtonEl.classList.add('colab-df-quickchart-complete');\n",
              "        }\n",
              "        (() => {\n",
              "          let quickchartButtonEl =\n",
              "            document.querySelector('#df-85cced59-d52b-4c27-aa14-2011d49b18e6 button');\n",
              "          quickchartButtonEl.style.display =\n",
              "            google.colab.kernel.accessAllowed ? 'block' : 'none';\n",
              "        })();\n",
              "      </script>\n",
              "    </div>\n",
              "\n",
              "  <div id=\"id_a27df636-c99a-49b3-b1d5-782281d1a562\">\n",
              "    <style>\n",
              "      .colab-df-generate {\n",
              "        background-color: #E8F0FE;\n",
              "        border: none;\n",
              "        border-radius: 50%;\n",
              "        cursor: pointer;\n",
              "        display: none;\n",
              "        fill: #1967D2;\n",
              "        height: 32px;\n",
              "        padding: 0 0 0 0;\n",
              "        width: 32px;\n",
              "      }\n",
              "\n",
              "      .colab-df-generate:hover {\n",
              "        background-color: #E2EBFA;\n",
              "        box-shadow: 0px 1px 2px rgba(60, 64, 67, 0.3), 0px 1px 3px 1px rgba(60, 64, 67, 0.15);\n",
              "        fill: #174EA6;\n",
              "      }\n",
              "\n",
              "      [theme=dark] .colab-df-generate {\n",
              "        background-color: #3B4455;\n",
              "        fill: #D2E3FC;\n",
              "      }\n",
              "\n",
              "      [theme=dark] .colab-df-generate:hover {\n",
              "        background-color: #434B5C;\n",
              "        box-shadow: 0px 1px 3px 1px rgba(0, 0, 0, 0.15);\n",
              "        filter: drop-shadow(0px 1px 2px rgba(0, 0, 0, 0.3));\n",
              "        fill: #FFFFFF;\n",
              "      }\n",
              "    </style>\n",
              "    <button class=\"colab-df-generate\" onclick=\"generateWithVariable('pd_durations')\"\n",
              "            title=\"Generate code using this dataframe.\"\n",
              "            style=\"display:none;\">\n",
              "\n",
              "  <svg xmlns=\"http://www.w3.org/2000/svg\" height=\"24px\"viewBox=\"0 0 24 24\"\n",
              "       width=\"24px\">\n",
              "    <path d=\"M7,19H8.4L18.45,9,17,7.55,7,17.6ZM5,21V16.75L18.45,3.32a2,2,0,0,1,2.83,0l1.4,1.43a1.91,1.91,0,0,1,.58,1.4,1.91,1.91,0,0,1-.58,1.4L9.25,21ZM18.45,9,17,7.55Zm-12,3A5.31,5.31,0,0,0,4.9,8.1,5.31,5.31,0,0,0,1,6.5,5.31,5.31,0,0,0,4.9,4.9,5.31,5.31,0,0,0,6.5,1,5.31,5.31,0,0,0,8.1,4.9,5.31,5.31,0,0,0,12,6.5,5.46,5.46,0,0,0,6.5,12Z\"/>\n",
              "  </svg>\n",
              "    </button>\n",
              "    <script>\n",
              "      (() => {\n",
              "      const buttonEl =\n",
              "        document.querySelector('#id_a27df636-c99a-49b3-b1d5-782281d1a562 button.colab-df-generate');\n",
              "      buttonEl.style.display =\n",
              "        google.colab.kernel.accessAllowed ? 'block' : 'none';\n",
              "\n",
              "      buttonEl.onclick = () => {\n",
              "        google.colab.notebook.generateWithVariable('pd_durations');\n",
              "      }\n",
              "      })();\n",
              "    </script>\n",
              "  </div>\n",
              "\n",
              "    </div>\n",
              "  </div>\n"
            ],
            "application/vnd.google.colaboratory.intrinsic+json": {
              "type": "dataframe",
              "variable_name": "pd_durations",
              "summary": "{\n  \"name\": \"pd_durations\",\n  \"rows\": 4,\n  \"fields\": [\n    {\n      \"column\": \"project_id\",\n      \"properties\": {\n        \"dtype\": \"number\",\n        \"std\": 1,\n        \"min\": 1,\n        \"max\": 4,\n        \"num_unique_values\": 4,\n        \"samples\": [\n          4,\n          1,\n          3\n        ],\n        \"semantic_type\": \"\",\n        \"description\": \"\"\n      }\n    },\n    {\n      \"column\": \"project_start\",\n      \"properties\": {\n        \"dtype\": \"date\",\n        \"min\": \"2020-10-01 00:00:00\",\n        \"max\": \"2020-10-30 00:00:00\",\n        \"num_unique_values\": 4,\n        \"samples\": [\n          \"2020-10-30 00:00:00\",\n          \"2020-10-01 00:00:00\",\n          \"2020-10-28 00:00:00\"\n        ],\n        \"semantic_type\": \"\",\n        \"description\": \"\"\n      }\n    },\n    {\n      \"column\": \"project_end\",\n      \"properties\": {\n        \"dtype\": \"date\",\n        \"min\": \"2020-10-04 00:00:00\",\n        \"max\": \"2020-10-31 00:00:00\",\n        \"num_unique_values\": 4,\n        \"samples\": [\n          \"2020-10-31 00:00:00\",\n          \"2020-10-04 00:00:00\",\n          \"2020-10-29 00:00:00\"\n        ],\n        \"semantic_type\": \"\",\n        \"description\": \"\"\n      }\n    },\n    {\n      \"column\": \"duration\",\n      \"properties\": {\n        \"dtype\": \"number\",\n        \"std\": 0,\n        \"min\": 1,\n        \"max\": 3,\n        \"num_unique_values\": 3,\n        \"samples\": [\n          1,\n          2,\n          3\n        ],\n        \"semantic_type\": \"\",\n        \"description\": \"\"\n      }\n    }\n  ]\n}"
            }
          },
          "metadata": {},
          "execution_count": 5
        }
      ]
    },
    {
      "cell_type": "code",
      "source": [
        "sample=(pl_projects.head(5)\n",
        ")\n",
        "query1=sample.collect()\n",
        "print(f'----POLARS----\\nprojects table (SAMPLE):\\n{query1}')"
      ],
      "metadata": {
        "colab": {
          "base_uri": "https://localhost:8080/"
        },
        "id": "aA7A-OdcghO-",
        "outputId": "4f593741-8884-4249-f22b-dd2a947d686b"
      },
      "execution_count": null,
      "outputs": [
        {
          "output_type": "stream",
          "name": "stdout",
          "text": [
            "----POLARS----\n",
            "projects table (SAMPLE):\n",
            "shape: (5, 3)\n",
            "┌─────────┬────────────┬────────────┐\n",
            "│ task_id ┆ start_date ┆ end_date   │\n",
            "│ ---     ┆ ---        ┆ ---        │\n",
            "│ i64     ┆ date       ┆ date       │\n",
            "╞═════════╪════════════╪════════════╡\n",
            "│ 1       ┆ 2020-10-01 ┆ 2020-10-02 │\n",
            "│ 2       ┆ 2020-10-02 ┆ 2020-10-03 │\n",
            "│ 3       ┆ 2020-10-03 ┆ 2020-10-04 │\n",
            "│ 4       ┆ 2020-10-13 ┆ 2020-10-14 │\n",
            "│ 5       ┆ 2020-10-14 ┆ 2020-10-15 │\n",
            "└─────────┴────────────┴────────────┘\n"
          ]
        }
      ]
    },
    {
      "cell_type": "code",
      "source": [
        "pl_df1=(sample.sort(by='start_date')\n",
        "              .with_columns(project_id=pl.when(pl.col('start_date').eq(pl.col('end_date')\n",
        "                                                                         .shift(1)\n",
        "                                                                    )\n",
        "                                          )\n",
        "                                         .then(0)\n",
        "                                         .otherwise(1)\n",
        "                                         .cum_sum()\n",
        "               )\n",
        "              .select(pl.col('task_id'),\n",
        "                      pl.col('project_id')\n",
        "               )\n",
        ").collect()\n",
        "print(f'Identifying unique projects:\\n{pl_df1}')"
      ],
      "metadata": {
        "id": "xp11cxn4IB2F",
        "colab": {
          "base_uri": "https://localhost:8080/"
        },
        "outputId": "ef283ad1-a1a5-469a-a8d0-fe4e20e40f56"
      },
      "execution_count": null,
      "outputs": [
        {
          "output_type": "stream",
          "name": "stdout",
          "text": [
            "Identifying unique projects:\n",
            "shape: (5, 2)\n",
            "┌─────────┬────────────┐\n",
            "│ task_id ┆ project_id │\n",
            "│ ---     ┆ ---        │\n",
            "│ i64     ┆ i32        │\n",
            "╞═════════╪════════════╡\n",
            "│ 1       ┆ 1          │\n",
            "│ 2       ┆ 1          │\n",
            "│ 3       ┆ 1          │\n",
            "│ 4       ┆ 2          │\n",
            "│ 5       ┆ 2          │\n",
            "└─────────┴────────────┘\n"
          ]
        }
      ]
    },
    {
      "cell_type": "code",
      "source": [
        "pl_durations=(pl_projects.sort(by='start_date')\n",
        "                         .with_columns(project_id=pl.when(pl.col('start_date').eq(pl.col('end_date')\n",
        "                                                                                    .shift(1)\n",
        "                                                                               )\n",
        "                                                     )\n",
        "                                                    .then(0)\n",
        "                                                    .otherwise(1)\n",
        "                                                    .cum_sum()\n",
        "                          )\n",
        "                         .group_by('project_id')\n",
        "                         .agg(project_start=pl.first('start_date'),\n",
        "                              project_end=pl.last('end_date')\n",
        "                          )\n",
        "                         .with_columns(duration=(pl.col('project_end')-pl.col('project_start')).dt\n",
        "                                                                                               .total_days()\n",
        "                          )\n",
        "                         .sort(by='duration')\n",
        ").collect()\n",
        "print(f'Durations of each unique project:')\n",
        "pl_durations"
      ],
      "metadata": {
        "id": "SjZ8DormICut",
        "colab": {
          "base_uri": "https://localhost:8080/",
          "height": 261
        },
        "outputId": "36c63c0d-7bea-4831-8f8b-c6f37148d8f5"
      },
      "execution_count": 30,
      "outputs": [
        {
          "output_type": "stream",
          "name": "stdout",
          "text": [
            "Durations of each unique project:\n"
          ]
        },
        {
          "output_type": "execute_result",
          "data": {
            "text/plain": [
              "shape: (4, 4)\n",
              "┌────────────┬───────────────┬─────────────┬──────────┐\n",
              "│ project_id ┆ project_start ┆ project_end ┆ duration │\n",
              "│ ---        ┆ ---           ┆ ---         ┆ ---      │\n",
              "│ i32        ┆ date          ┆ date        ┆ i64      │\n",
              "╞════════════╪═══════════════╪═════════════╪══════════╡\n",
              "│ 3          ┆ 2020-10-28    ┆ 2020-10-29  ┆ 1        │\n",
              "│ 4          ┆ 2020-10-30    ┆ 2020-10-31  ┆ 1        │\n",
              "│ 2          ┆ 2020-10-13    ┆ 2020-10-15  ┆ 2        │\n",
              "│ 1          ┆ 2020-10-01    ┆ 2020-10-04  ┆ 3        │\n",
              "└────────────┴───────────────┴─────────────┴──────────┘"
            ],
            "text/html": [
              "<div><style>\n",
              ".dataframe > thead > tr,\n",
              ".dataframe > tbody > tr {\n",
              "  text-align: right;\n",
              "  white-space: pre-wrap;\n",
              "}\n",
              "</style>\n",
              "<small>shape: (4, 4)</small><table border=\"1\" class=\"dataframe\"><thead><tr><th>project_id</th><th>project_start</th><th>project_end</th><th>duration</th></tr><tr><td>i32</td><td>date</td><td>date</td><td>i64</td></tr></thead><tbody><tr><td>3</td><td>2020-10-28</td><td>2020-10-29</td><td>1</td></tr><tr><td>4</td><td>2020-10-30</td><td>2020-10-31</td><td>1</td></tr><tr><td>2</td><td>2020-10-13</td><td>2020-10-15</td><td>2</td></tr><tr><td>1</td><td>2020-10-01</td><td>2020-10-04</td><td>3</td></tr></tbody></table></div>"
            ]
          },
          "metadata": {},
          "execution_count": 30
        }
      ]
    }
  ]
}