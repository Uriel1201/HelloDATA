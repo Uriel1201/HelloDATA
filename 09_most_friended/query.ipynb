{
  "nbformat": 4,
  "nbformat_minor": 0,
  "metadata": {
    "colab": {
      "provenance": [],
      "authorship_tag": "ABX9TyOC749wKTAH9MgFeoYiqfU4",
      "include_colab_link": true
    },
    "kernelspec": {
      "name": "python3",
      "display_name": "Python 3"
    },
    "language_info": {
      "name": "python"
    }
  },
  "cells": [
    {
      "cell_type": "markdown",
      "metadata": {
        "id": "view-in-github",
        "colab_type": "text"
      },
      "source": [
        "<a href=\"https://colab.research.google.com/github/Uriel1201/HelloSQL2.0/blob/main/09_most_friended/query.ipynb\" target=\"_parent\"><img src=\"https://colab.research.google.com/assets/colab-badge.svg\" alt=\"Open In Colab\"/></a>"
      ]
    },
    {
      "cell_type": "markdown",
      "source": [
        "#09. Most friended\n",
        "**Given the following table, return a list of users and their corresponding friend count. Order the result by descending friend count, and in the case of a tie, by ascending user ID. Assume that only unique friendships are displayed.**"
      ],
      "metadata": {
        "id": "nixXY4l5UsPj"
      }
    },
    {
      "cell_type": "code",
      "source": [
        "!pip install polars\n",
        "import pandas as pd\n",
        "import numpy as  np\n",
        "import polars as pl"
      ],
      "metadata": {
        "colab": {
          "base_uri": "https://localhost:8080/"
        },
        "id": "kH4Mhq3eUsy-",
        "outputId": "c2925c61-79c5-42fc-a460-d3ba7e48e642"
      },
      "execution_count": 1,
      "outputs": [
        {
          "output_type": "stream",
          "name": "stdout",
          "text": [
            "Requirement already satisfied: polars in /usr/local/lib/python3.11/dist-packages (1.21.0)\n"
          ]
        }
      ]
    },
    {
      "cell_type": "code",
      "source": [
        "data={'user_1':[1,1,1,2],\n",
        "      'user_2':[2,3,4,3]\n",
        "     }\n",
        "pd_friends=pd.DataFrame(data)\n",
        "pl_friends=pl.LazyFrame(data)"
      ],
      "metadata": {
        "id": "Uu7seQlEUs5Y"
      },
      "execution_count": 2,
      "outputs": []
    },
    {
      "cell_type": "code",
      "source": [
        "print(f'----PANDAS----\\nfriends table:\\n{pd_friends}')"
      ],
      "metadata": {
        "colab": {
          "base_uri": "https://localhost:8080/"
        },
        "id": "jptviXn-Us98",
        "outputId": "9d5e9cbf-5dff-4b2e-bd20-f411825af47b"
      },
      "execution_count": 3,
      "outputs": [
        {
          "output_type": "stream",
          "name": "stdout",
          "text": [
            "----PANDAS----\n",
            "friends table:\n",
            "   user_1  user_2\n",
            "0       1       2\n",
            "1       1       3\n",
            "2       1       4\n",
            "3       2       3\n"
          ]
        }
      ]
    },
    {
      "cell_type": "code",
      "source": [
        "pd_s=(pd.concat([pd_friends['user_1'],\n",
        "                 pd_friends['user_2']],\n",
        "                ignore_index=True\n",
        "         )\n",
        "        .rename('user_id')\n",
        ")\n",
        "pd_friendship=(pd_s.groupby(pd_s)\n",
        "                    .size()\n",
        "                    .rename('number_of_friends')\n",
        "                    .sort_values(ascending=False)\n",
        ")\n",
        "print(f'Number of friends by each user:')\n",
        "pd_friendship"
      ],
      "metadata": {
        "colab": {
          "base_uri": "https://localhost:8080/",
          "height": 258
        },
        "id": "vFDxma6HUvI-",
        "outputId": "f4b31ae1-6c90-4ef5-b1a7-e891b3fbf530"
      },
      "execution_count": 7,
      "outputs": [
        {
          "output_type": "stream",
          "name": "stdout",
          "text": [
            "Number of friends by each user:\n"
          ]
        },
        {
          "output_type": "execute_result",
          "data": {
            "text/plain": [
              "user_id\n",
              "1    3\n",
              "2    2\n",
              "3    2\n",
              "4    1\n",
              "Name: number_of_friends, dtype: int64"
            ],
            "text/html": [
              "<div>\n",
              "<style scoped>\n",
              "    .dataframe tbody tr th:only-of-type {\n",
              "        vertical-align: middle;\n",
              "    }\n",
              "\n",
              "    .dataframe tbody tr th {\n",
              "        vertical-align: top;\n",
              "    }\n",
              "\n",
              "    .dataframe thead th {\n",
              "        text-align: right;\n",
              "    }\n",
              "</style>\n",
              "<table border=\"1\" class=\"dataframe\">\n",
              "  <thead>\n",
              "    <tr style=\"text-align: right;\">\n",
              "      <th></th>\n",
              "      <th>number_of_friends</th>\n",
              "    </tr>\n",
              "    <tr>\n",
              "      <th>user_id</th>\n",
              "      <th></th>\n",
              "    </tr>\n",
              "  </thead>\n",
              "  <tbody>\n",
              "    <tr>\n",
              "      <th>1</th>\n",
              "      <td>3</td>\n",
              "    </tr>\n",
              "    <tr>\n",
              "      <th>2</th>\n",
              "      <td>2</td>\n",
              "    </tr>\n",
              "    <tr>\n",
              "      <th>3</th>\n",
              "      <td>2</td>\n",
              "    </tr>\n",
              "    <tr>\n",
              "      <th>4</th>\n",
              "      <td>1</td>\n",
              "    </tr>\n",
              "  </tbody>\n",
              "</table>\n",
              "</div><br><label><b>dtype:</b> int64</label>"
            ]
          },
          "metadata": {},
          "execution_count": 7
        }
      ]
    },
    {
      "cell_type": "code",
      "source": [
        "sample=(pl_friends.head(5)\n",
        "                  .collect()\n",
        ")\n",
        "print(f'----POLARS----\\nfriends table (SAMPLE):\\n{sample}')"
      ],
      "metadata": {
        "colab": {
          "base_uri": "https://localhost:8080/"
        },
        "id": "IRMeVrc1UtE5",
        "outputId": "4920acb4-0dc4-4d96-839b-e4f39913e83e"
      },
      "execution_count": 8,
      "outputs": [
        {
          "output_type": "stream",
          "name": "stdout",
          "text": [
            "----POLARS----\n",
            "friends table (SAMPLE):\n",
            "shape: (4, 2)\n",
            "┌────────┬────────┐\n",
            "│ user_1 ┆ user_2 │\n",
            "│ ---    ┆ ---    │\n",
            "│ i64    ┆ i64    │\n",
            "╞════════╪════════╡\n",
            "│ 1      ┆ 2      │\n",
            "│ 1      ┆ 3      │\n",
            "│ 1      ┆ 4      │\n",
            "│ 2      ┆ 3      │\n",
            "└────────┴────────┘\n"
          ]
        }
      ]
    },
    {
      "cell_type": "code",
      "source": [
        "pl_lf=(pl.sql(\"\"\"\n",
        "                 SELECT user_1 as user_id FROM pl_friends\n",
        "                 UNION ALL\n",
        "                 SELECT user_2 as user_id FROM pl_friends\n",
        "              \"\"\"\n",
        "          )\n",
        "         .group_by('*')\n",
        "         .agg(pl.len()\n",
        "                .alias('number_of_friends')\n",
        "          )\n",
        "         .sort(by='number_of_friends',\n",
        "               descending=True\n",
        "          )\n",
        ").collect()\n",
        "print(f'Returninh number of friends by each user:')\n",
        "pl_lf"
      ],
      "metadata": {
        "id": "4wiX7NdZpWkK",
        "colab": {
          "base_uri": "https://localhost:8080/",
          "height": 261
        },
        "outputId": "38548dd1-81f3-4213-a360-0579798559d8"
      },
      "execution_count": 9,
      "outputs": [
        {
          "output_type": "stream",
          "name": "stdout",
          "text": [
            "Returninh number of friends by each user:\n"
          ]
        },
        {
          "output_type": "execute_result",
          "data": {
            "text/plain": [
              "shape: (4, 2)\n",
              "┌─────────┬───────────────────┐\n",
              "│ user_id ┆ number_of_friends │\n",
              "│ ---     ┆ ---               │\n",
              "│ i64     ┆ u32               │\n",
              "╞═════════╪═══════════════════╡\n",
              "│ 1       ┆ 3                 │\n",
              "│ 2       ┆ 2                 │\n",
              "│ 3       ┆ 2                 │\n",
              "│ 4       ┆ 1                 │\n",
              "└─────────┴───────────────────┘"
            ],
            "text/html": [
              "<div><style>\n",
              ".dataframe > thead > tr,\n",
              ".dataframe > tbody > tr {\n",
              "  text-align: right;\n",
              "  white-space: pre-wrap;\n",
              "}\n",
              "</style>\n",
              "<small>shape: (4, 2)</small><table border=\"1\" class=\"dataframe\"><thead><tr><th>user_id</th><th>number_of_friends</th></tr><tr><td>i64</td><td>u32</td></tr></thead><tbody><tr><td>1</td><td>3</td></tr><tr><td>2</td><td>2</td></tr><tr><td>3</td><td>2</td></tr><tr><td>4</td><td>1</td></tr></tbody></table></div>"
            ]
          },
          "metadata": {},
          "execution_count": 9
        }
      ]
    }
  ]
}