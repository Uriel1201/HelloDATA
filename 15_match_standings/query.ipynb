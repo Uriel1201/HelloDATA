{
  "nbformat": 4,
  "nbformat_minor": 0,
  "metadata": {
    "colab": {
      "provenance": [],
      "authorship_tag": "ABX9TyMyNosFtuS2/ukDaudxdVqt",
      "include_colab_link": true
    },
    "kernelspec": {
      "name": "python3",
      "display_name": "Python 3"
    },
    "language_info": {
      "name": "python"
    }
  },
  "cells": [
    {
      "cell_type": "markdown",
      "metadata": {
        "id": "view-in-github",
        "colab_type": "text"
      },
      "source": [
        "<a href=\"https://colab.research.google.com/github/Uriel1201/HelloSQL2.0/blob/main/15_match_standings/query.ipynb\" target=\"_parent\"><img src=\"https://colab.research.google.com/assets/colab-badge.svg\" alt=\"Open In Colab\"/></a>"
      ]
    },
    {
      "cell_type": "markdown",
      "source": [
        "##15. Team Standings.\n",
        "\n",
        "**Write a query to return the scores of\n",
        "each team in the teams table after all\n",
        "matches displayed in the matches table.\n",
        "The result should include team name and points,\n",
        "and be ordered by decreasing points. In case of\n",
        "a tie, order by alphabetized team name.**"
      ],
      "metadata": {
        "id": "2nOsJ0hm90A2"
      }
    },
    {
      "cell_type": "code",
      "source": [
        "!pip install polars\n",
        "import pandas as pd\n",
        "import numpy as  np\n",
        "import polars as pl\n",
        "url1=\"https://raw.githubusercontent.com/Uriel1201/HelloSQL2.0/refs/heads/main/15_match_standings/data_matches.tsv\"\n",
        "url2=\"https://raw.githubusercontent.com/Uriel1201/HelloSQL2.0/refs/heads/main/15_match_standings/data_teams.tsv\""
      ],
      "metadata": {
        "colab": {
          "base_uri": "https://localhost:8080/"
        },
        "id": "UYDWMu_W927M",
        "outputId": "f75cb3c3-cc5c-45da-8af7-70d7841560c1"
      },
      "execution_count": null,
      "outputs": [
        {
          "output_type": "stream",
          "name": "stdout",
          "text": [
            "Requirement already satisfied: polars in /usr/local/lib/python3.11/dist-packages (1.21.0)\n"
          ]
        }
      ]
    },
    {
      "cell_type": "code",
      "source": [
        "pd_matches=pd.read_csv(url1,sep='\\t')\n",
        "pd_teams=pd.read_csv(url2,sep='\\t')"
      ],
      "metadata": {
        "id": "ZOcWui0b_WNG"
      },
      "execution_count": null,
      "outputs": []
    },
    {
      "cell_type": "code",
      "source": [
        "print(f'----PANDAS----\\nmatches table:\\n{pd_matches}')"
      ],
      "metadata": {
        "id": "iT_sjqDw90dW",
        "colab": {
          "base_uri": "https://localhost:8080/"
        },
        "outputId": "416b4493-8f6d-4bba-d31f-73c1a9987bfb"
      },
      "execution_count": null,
      "outputs": [
        {
          "output_type": "stream",
          "name": "stdout",
          "text": [
            "----PANDAS----\n",
            "matches table:\n",
            "   MATCH_ID  HOST_TEAM  GUEST_TEAM  HOST_GOALS  GUEST_GOALS\n",
            "0         1          1           2           3            0\n",
            "1         2          2           3           2            4\n",
            "2         3          3           4           4            3\n",
            "3         4          4           5           1            1\n",
            "4         5          5           6           2            1\n",
            "5         6          6           1           1            2\n"
          ]
        }
      ]
    },
    {
      "cell_type": "code",
      "source": [
        "print(f'teams table:\\n{pd_teams}')"
      ],
      "metadata": {
        "id": "WJ9iYbO090gt",
        "colab": {
          "base_uri": "https://localhost:8080/"
        },
        "outputId": "f93d8583-821f-417d-bdae-8569bc010895"
      },
      "execution_count": null,
      "outputs": [
        {
          "output_type": "stream",
          "name": "stdout",
          "text": [
            "teams table:\n",
            "   TEAM_ID    TEAM_NAME\n",
            "0        1     New York\n",
            "1        2      Atlanta\n",
            "2        3      Chicago\n",
            "3        4      Toronto\n",
            "4        5  Los Angeles\n",
            "5        6      Seattle\n"
          ]
        }
      ]
    },
    {
      "cell_type": "code",
      "source": [
        "pd_host=(pd_matches.assign(HOST=np.where(pd_matches['HOST_GOALS']>pd_matches['GUEST_GOALS'],\n",
        "                                         3,\n",
        "                                         np.where(pd_matches['HOST_GOALS']<pd_matches['GUEST_GOALS'],\n",
        "                                                  0,\n",
        "                                                  1\n",
        "                                            )\n",
        "                                   )\n",
        "                    )[['HOST_TEAM','HOST']]\n",
        "                   .rename(columns={'HOST_TEAM':'TEAM_ID'})\n",
        ")\n",
        "print(f'scores achieved by host teams:\\n{pd_host}')"
      ],
      "metadata": {
        "id": "Ug4V1m2390kI",
        "colab": {
          "base_uri": "https://localhost:8080/"
        },
        "outputId": "f1bbe933-71df-440d-d502-6bde77275b81"
      },
      "execution_count": null,
      "outputs": [
        {
          "output_type": "stream",
          "name": "stdout",
          "text": [
            "scores achieved by host teams:\n",
            "   TEAM_ID  HOST\n",
            "0        1     3\n",
            "1        2     0\n",
            "2        3     3\n",
            "3        4     1\n",
            "4        5     3\n",
            "5        6     0\n"
          ]
        }
      ]
    },
    {
      "cell_type": "code",
      "source": [
        "pd_guest=(pd_matches.assign(GUEST=np.where(pd_matches['HOST_GOALS']>pd_matches['GUEST_GOALS'],\n",
        "                                           0,\n",
        "                                           np.where(pd_matches['HOST_GOALS']<pd_matches['GUEST_GOALS'],\n",
        "                                                    3,\n",
        "                                                    1\n",
        "                                              )\n",
        "                                     )\n",
        "                    )[['GUEST_TEAM','GUEST']]\n",
        "                   .rename(columns={'GUEST_TEAM':'TEAM_ID'})\n",
        ")\n",
        "print(f'scores achieved by guest teams:\\n{pd_guest}')"
      ],
      "metadata": {
        "id": "6_ulVp4H90tm",
        "colab": {
          "base_uri": "https://localhost:8080/"
        },
        "outputId": "c79e917d-66e5-4a69-c69b-800de694d1b5"
      },
      "execution_count": null,
      "outputs": [
        {
          "output_type": "stream",
          "name": "stdout",
          "text": [
            "scores achieved by guest teams:\n",
            "   TEAM_ID  GUEST\n",
            "0        2      0\n",
            "1        3      3\n",
            "2        4      0\n",
            "3        5      1\n",
            "4        6      0\n",
            "5        1      3\n"
          ]
        }
      ]
    },
    {
      "cell_type": "code",
      "source": [
        "pd_scores=(pd_teams.merge(pd_host.merge(pd_guest,\n",
        "                                        on='TEAM_ID',\n",
        "                                        how='inner'\n",
        "                                  ),\n",
        "                          on='TEAM_ID',\n",
        "                          how='left'\n",
        "                    )\n",
        ")\n",
        "query=(pd_scores.assign(SCORE=pd_scores['HOST']+pd_scores['GUEST'])\n",
        "                .sort_values(by=['SCORE','TEAM_NAME'],\n",
        "                             ascending=[False,True]\n",
        "                 )\n",
        ")[['TEAM_NAME','SCORE']]\n",
        "print(f'total scores achieved by each team:\\n{query}')"
      ],
      "metadata": {
        "id": "Z8O_V-mE91cl",
        "colab": {
          "base_uri": "https://localhost:8080/"
        },
        "outputId": "f2f1a7d3-bcbf-44dd-fbf1-665c12e46959"
      },
      "execution_count": null,
      "outputs": [
        {
          "output_type": "stream",
          "name": "stdout",
          "text": [
            "total scores achieved by each team:\n",
            "     TEAM_NAME  SCORE\n",
            "2      Chicago      6\n",
            "0     New York      6\n",
            "4  Los Angeles      4\n",
            "3      Toronto      1\n",
            "1      Atlanta      0\n",
            "5      Seattle      0\n"
          ]
        }
      ]
    },
    {
      "cell_type": "code",
      "source": [
        "teams=pl.scan_csv(url2,\n",
        "                  separator=\"\\t\",\n",
        "                  has_header=True,\n",
        "                  infer_schema_length=1000,\n",
        "                  ignore_errors=False\n",
        ")\n",
        "matches=pl.scan_csv(url1,\n",
        "                    separator=\"\\t\",\n",
        "                    has_header=True,\n",
        "                    infer_schema_length=1000,\n",
        "                    ignore_errors=False\n",
        ")"
      ],
      "metadata": {
        "id": "c4Lybbs692XM"
      },
      "execution_count": null,
      "outputs": []
    },
    {
      "cell_type": "code",
      "source": [
        "sample1=teams.head(5)\n",
        "print(f'----POLARS----\\nteams table (SAMPLE):\\n{sample1.collect()}')"
      ],
      "metadata": {
        "id": "4nGbr7F__YWu",
        "colab": {
          "base_uri": "https://localhost:8080/"
        },
        "outputId": "cb6ed950-8535-4d1a-9f3f-7e792e04fb1a"
      },
      "execution_count": null,
      "outputs": [
        {
          "output_type": "stream",
          "name": "stdout",
          "text": [
            "----POLARS----\n",
            "teams table (SAMPLE):\n",
            "shape: (5, 2)\n",
            "┌─────────┬─────────────┐\n",
            "│ TEAM_ID ┆ TEAM_NAME   │\n",
            "│ ---     ┆ ---         │\n",
            "│ i64     ┆ str         │\n",
            "╞═════════╪═════════════╡\n",
            "│ 1       ┆ New York    │\n",
            "│ 2       ┆ Atlanta     │\n",
            "│ 3       ┆ Chicago     │\n",
            "│ 4       ┆ Toronto     │\n",
            "│ 5       ┆ Los Angeles │\n",
            "└─────────┴─────────────┘\n"
          ]
        }
      ]
    },
    {
      "cell_type": "code",
      "source": [
        "sample2=matches.head(5)\n",
        "print(f'matches table (SAMPLE):\\n{sample2.collect()}')"
      ],
      "metadata": {
        "id": "y6bRlUKj_Ypn",
        "colab": {
          "base_uri": "https://localhost:8080/"
        },
        "outputId": "feb9ec9e-2f8c-40bf-c829-f8d6c59754cb"
      },
      "execution_count": null,
      "outputs": [
        {
          "output_type": "stream",
          "name": "stdout",
          "text": [
            "matches table (SAMPLE):\n",
            "shape: (5, 5)\n",
            "┌──────────┬───────────┬────────────┬────────────┬─────────────┐\n",
            "│ MATCH_ID ┆ HOST_TEAM ┆ GUEST_TEAM ┆ HOST_GOALS ┆ GUEST_GOALS │\n",
            "│ ---      ┆ ---       ┆ ---        ┆ ---        ┆ ---         │\n",
            "│ i64      ┆ i64       ┆ i64        ┆ i64        ┆ i64         │\n",
            "╞══════════╪═══════════╪════════════╪════════════╪═════════════╡\n",
            "│ 1        ┆ 1         ┆ 2          ┆ 3          ┆ 0           │\n",
            "│ 2        ┆ 2         ┆ 3          ┆ 2          ┆ 4           │\n",
            "│ 3        ┆ 3         ┆ 4          ┆ 4          ┆ 3           │\n",
            "│ 4        ┆ 4         ┆ 5          ┆ 1          ┆ 1           │\n",
            "│ 5        ┆ 5         ┆ 6          ┆ 2          ┆ 1           │\n",
            "└──────────┴───────────┴────────────┴────────────┴─────────────┘\n"
          ]
        }
      ]
    },
    {
      "cell_type": "code",
      "source": [
        "host=(sample2.select(pl.col('HOST_TEAM')\n",
        "                      .alias('TEAM_ID'),\n",
        "                     pl.col('HOST_GOALS')\n",
        "                       .alias('H'),\n",
        "                     pl.col('GUEST_GOALS')\n",
        "                       .alias('G')\n",
        "              )\n",
        "             .with_columns(SCORE_H=pl.when(pl.col('H')>pl.col('G'))\n",
        "                                     .then(3)\n",
        "                                     .otherwise(pl.when(pl.col('H')<pl.col('G'))\n",
        "                                                  .then(0)\n",
        "                                                  .otherwise(1)\n",
        "                                      )\n",
        "              )\n",
        ")\n",
        "print(f'scores achieved by host teams:\\n{host.collect()}')"
      ],
      "metadata": {
        "id": "jifuDfJnQNko",
        "colab": {
          "base_uri": "https://localhost:8080/"
        },
        "outputId": "9a5cc372-5dd7-447e-d9a2-fa5ecef086a2"
      },
      "execution_count": null,
      "outputs": [
        {
          "output_type": "stream",
          "name": "stdout",
          "text": [
            "scores achieved by host teams:\n",
            "shape: (5, 4)\n",
            "┌─────────┬─────┬─────┬─────────┐\n",
            "│ TEAM_ID ┆ H   ┆ G   ┆ SCORE_H │\n",
            "│ ---     ┆ --- ┆ --- ┆ ---     │\n",
            "│ i64     ┆ i64 ┆ i64 ┆ i32     │\n",
            "╞═════════╪═════╪═════╪═════════╡\n",
            "│ 1       ┆ 3   ┆ 0   ┆ 3       │\n",
            "│ 2       ┆ 2   ┆ 4   ┆ 0       │\n",
            "│ 3       ┆ 4   ┆ 3   ┆ 3       │\n",
            "│ 4       ┆ 1   ┆ 1   ┆ 1       │\n",
            "│ 5       ┆ 2   ┆ 1   ┆ 3       │\n",
            "└─────────┴─────┴─────┴─────────┘\n"
          ]
        }
      ]
    },
    {
      "cell_type": "code",
      "source": [
        "guest=(sample2.select(pl.col('GUEST_TEAM')\n",
        "                        .alias('TEAM_ID'),\n",
        "                      pl.col('HOST_GOALS')\n",
        "                        .alias('H'),\n",
        "                      pl.col('GUEST_GOALS')\n",
        "                        .alias('G')\n",
        "               )\n",
        "              .with_columns(SCORE_G=pl.when(pl.col('H')>pl.col('G'))\n",
        "                                      .then(0)\n",
        "                                      .otherwise(pl.when(pl.col('H')<pl.col('G'))\n",
        "                                                   .then(3)\n",
        "                                                   .otherwise(1)\n",
        "                                       )\n",
        "               )\n",
        ")\n",
        "print(f'scores achieved by guest teams:\\n{guest.collect()}')"
      ],
      "metadata": {
        "colab": {
          "base_uri": "https://localhost:8080/"
        },
        "id": "zGNcR7FJzW1-",
        "outputId": "73ffa6f1-90bc-4561-eee5-320dc5d9a41a"
      },
      "execution_count": null,
      "outputs": [
        {
          "output_type": "stream",
          "name": "stdout",
          "text": [
            "scores achieved by guest teams:\n",
            "shape: (5, 4)\n",
            "┌─────────┬─────┬─────┬─────────┐\n",
            "│ TEAM_ID ┆ H   ┆ G   ┆ SCORE_G │\n",
            "│ ---     ┆ --- ┆ --- ┆ ---     │\n",
            "│ i64     ┆ i64 ┆ i64 ┆ i32     │\n",
            "╞═════════╪═════╪═════╪═════════╡\n",
            "│ 2       ┆ 3   ┆ 0   ┆ 0       │\n",
            "│ 3       ┆ 2   ┆ 4   ┆ 3       │\n",
            "│ 4       ┆ 4   ┆ 3   ┆ 0       │\n",
            "│ 5       ┆ 1   ┆ 1   ┆ 1       │\n",
            "│ 6       ┆ 2   ┆ 1   ┆ 0       │\n",
            "└─────────┴─────┴─────┴─────────┘\n"
          ]
        }
      ]
    },
    {
      "cell_type": "code",
      "source": [
        "scores=(matches.select(pl.col('HOST_TEAM')\n",
        "                         .alias('TEAM_ID'),\n",
        "                       pl.col('HOST_GOALS')\n",
        "                         .alias('H'),\n",
        "                       pl.col('GUEST_GOALS')\n",
        "                         .alias('G')\n",
        "                )\n",
        "               .with_columns(SCORE_H=pl.when(pl.col('H')>pl.col('G'))\n",
        "                                       .then(3)\n",
        "                                       .otherwise(pl.when(pl.col('H')<pl.col('G'))\n",
        "                                                    .then(0)\n",
        "                                                    .otherwise(1)\n",
        "                                        )\n",
        "                )\n",
        "               .select(pl.col('TEAM_ID'),\n",
        "                       pl.col('SCORE_H')\n",
        "                )\n",
        "               .join(matches.select(pl.col('GUEST_TEAM')\n",
        "                                      .alias('TEAM_ID'),\n",
        "                                    pl.col('HOST_GOALS')\n",
        "                                      .alias('H'),\n",
        "                                    pl.col('GUEST_GOALS')\n",
        "                                      .alias('G')\n",
        "                             )\n",
        "                            .with_columns(SCORE_G=pl.when(pl.col('H')>pl.col('G'))\n",
        "                                                    .then(0)\n",
        "                                                    .otherwise(pl.when(pl.col('H')<pl.col('G'))\n",
        "                                                                 .then(3)\n",
        "                                                                 .otherwise(1)\n",
        "                                                     )\n",
        "                             )\n",
        "                            .select(pl.col('TEAM_ID'),\n",
        "                                    pl.col('SCORE_G')\n",
        "                             ),\n",
        "                      on='TEAM_ID',\n",
        "                      how='full',\n",
        "                      coalesce=True\n",
        "                )\n",
        ")\n",
        "teams_rank=(teams.join(scores,\n",
        "                       on='TEAM_ID',\n",
        "                       how='left'\n",
        "                  )\n",
        "                 .with_columns(SCORE=pl.col('SCORE_H')+pl.col('SCORE_G')\n",
        "                  )\n",
        "                 .select(pl.col('TEAM_NAME'),\n",
        "                         pl.col('SCORE')\n",
        "                  )\n",
        "                 .sort(by=['SCORE','TEAM_NAME'],\n",
        "                       descending=[True,False]\n",
        "                  )\n",
        ")\n",
        "print(f'scores achieved by each teams:\\n{teams_rank.collect()}')"
      ],
      "metadata": {
        "colab": {
          "base_uri": "https://localhost:8080/"
        },
        "id": "4FJweacXp_Q_",
        "outputId": "8fe5bdb0-8469-4574-fc59-8870e213856f"
      },
      "execution_count": null,
      "outputs": [
        {
          "output_type": "stream",
          "name": "stdout",
          "text": [
            "scores achieved by each teams:\n",
            "shape: (6, 2)\n",
            "┌─────────────┬───────┐\n",
            "│ TEAM_NAME   ┆ SCORE │\n",
            "│ ---         ┆ ---   │\n",
            "│ str         ┆ i32   │\n",
            "╞═════════════╪═══════╡\n",
            "│ Chicago     ┆ 6     │\n",
            "│ New York    ┆ 6     │\n",
            "│ Los Angeles ┆ 4     │\n",
            "│ Toronto     ┆ 1     │\n",
            "│ Atlanta     ┆ 0     │\n",
            "│ Seattle     ┆ 0     │\n",
            "└─────────────┴───────┘\n"
          ]
        }
      ]
    }
  ]
}