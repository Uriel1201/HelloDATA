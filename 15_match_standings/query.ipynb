{
  "nbformat": 4,
  "nbformat_minor": 0,
  "metadata": {
    "colab": {
      "provenance": [],
      "authorship_tag": "ABX9TyMyNosFtuS2/ukDaudxdVqt",
      "include_colab_link": true
    },
    "kernelspec": {
      "name": "python3",
      "display_name": "Python 3"
    },
    "language_info": {
      "name": "python"
    }
  },
  "cells": [
    {
      "cell_type": "markdown",
      "metadata": {
        "id": "view-in-github",
        "colab_type": "text"
      },
      "source": [
        "<a href=\"https://colab.research.google.com/github/Uriel1201/HelloSQL2.0/blob/main/15_match_standings/query.ipynb\" target=\"_parent\"><img src=\"https://colab.research.google.com/assets/colab-badge.svg\" alt=\"Open In Colab\"/></a>"
      ]
    },
    {
      "cell_type": "markdown",
      "source": [
        "##15. Team Standings.\n",
        "\n",
        "**Write a query to return the scores of\n",
        "each team in the teams table after all\n",
        "matches displayed in the matches table.\n",
        "The result should include team name and points,\n",
        "and be ordered by decreasing points. In case of\n",
        "a tie, order by alphabetized team name.**"
      ],
      "metadata": {
        "id": "2nOsJ0hm90A2"
      }
    },
    {
      "cell_type": "code",
      "source": [
        "!pip install polars\n",
        "import pandas as pd\n",
        "import numpy as  np\n",
        "import polars as pl\n",
        "url1=\"https://raw.githubusercontent.com/Uriel1201/HelloSQL2.0/refs/heads/main/15_match_standings/data_matches.tsv\"\n",
        "url2=\"https://raw.githubusercontent.com/Uriel1201/HelloSQL2.0/refs/heads/main/15_match_standings/data_teams.tsv\""
      ],
      "metadata": {
        "colab": {
          "base_uri": "https://localhost:8080/"
        },
        "id": "UYDWMu_W927M",
        "outputId": "bf32b543-1e90-4e91-bd09-e6c804f2ee5e"
      },
      "execution_count": 1,
      "outputs": [
        {
          "output_type": "stream",
          "name": "stdout",
          "text": [
            "Requirement already satisfied: polars in /usr/local/lib/python3.11/dist-packages (1.21.0)\n"
          ]
        }
      ]
    },
    {
      "cell_type": "code",
      "source": [
        "pd_matches=pd.read_csv(url1,sep='\\t')\n",
        "pd_teams=pd.read_csv(url2,sep='\\t')"
      ],
      "metadata": {
        "id": "ZOcWui0b_WNG"
      },
      "execution_count": 2,
      "outputs": []
    },
    {
      "cell_type": "code",
      "source": [
        "print(f'----PANDAS----\\nmatches table:\\n{pd_matches}')"
      ],
      "metadata": {
        "id": "iT_sjqDw90dW",
        "colab": {
          "base_uri": "https://localhost:8080/"
        },
        "outputId": "8e376f76-08a1-4cd9-8a86-a630f2f638fb"
      },
      "execution_count": 3,
      "outputs": [
        {
          "output_type": "stream",
          "name": "stdout",
          "text": [
            "----PANDAS----\n",
            "matches table:\n",
            "   MATCH_ID  HOST_TEAM  GUEST_TEAM  HOST_GOALS  GUEST_GOALS\n",
            "0         1          1           2           3            0\n",
            "1         2          2           3           2            4\n",
            "2         3          3           4           4            3\n",
            "3         4          4           5           1            1\n",
            "4         5          5           6           2            1\n",
            "5         6          6           1           1            2\n"
          ]
        }
      ]
    },
    {
      "cell_type": "code",
      "source": [
        "print(f'teams table:\\n{pd_teams}')"
      ],
      "metadata": {
        "id": "WJ9iYbO090gt",
        "colab": {
          "base_uri": "https://localhost:8080/"
        },
        "outputId": "afcd2acc-4fdf-4a24-d4d8-52606e8f09f4"
      },
      "execution_count": 4,
      "outputs": [
        {
          "output_type": "stream",
          "name": "stdout",
          "text": [
            "teams table:\n",
            "   TEAM_ID    TEAM_NAME\n",
            "0        1     New York\n",
            "1        2      Atlanta\n",
            "2        3      Chicago\n",
            "3        4      Toronto\n",
            "4        5  Los Angeles\n",
            "5        6      Seattle\n"
          ]
        }
      ]
    },
    {
      "cell_type": "code",
      "source": [
        "pd_host=(pd_matches.assign(HOST=np.where(pd_matches['HOST_GOALS']>pd_matches['GUEST_GOALS'],\n",
        "                                         3,\n",
        "                                         np.where(pd_matches['HOST_GOALS']<pd_matches['GUEST_GOALS'],\n",
        "                                                  0,\n",
        "                                                  1\n",
        "                                            )\n",
        "                                   )\n",
        "                    )[['HOST_TEAM','HOST']]\n",
        "                   .rename(columns={'HOST_TEAM':'TEAM_ID'})\n",
        ")\n",
        "print(f'scores achieved by host teams:\\n{pd_host}')"
      ],
      "metadata": {
        "id": "Ug4V1m2390kI",
        "colab": {
          "base_uri": "https://localhost:8080/"
        },
        "outputId": "ca256511-7e95-4f2b-f409-a4b5c473ad28"
      },
      "execution_count": 5,
      "outputs": [
        {
          "output_type": "stream",
          "name": "stdout",
          "text": [
            "scores achieved by host teams:\n",
            "   TEAM_ID  HOST\n",
            "0        1     3\n",
            "1        2     0\n",
            "2        3     3\n",
            "3        4     1\n",
            "4        5     3\n",
            "5        6     0\n"
          ]
        }
      ]
    },
    {
      "cell_type": "code",
      "source": [
        "pd_guest=(pd_matches.assign(GUEST=np.where(pd_matches['HOST_GOALS']>pd_matches['GUEST_GOALS'],\n",
        "                                           0,\n",
        "                                           np.where(pd_matches['HOST_GOALS']<pd_matches['GUEST_GOALS'],\n",
        "                                                    3,\n",
        "                                                    1\n",
        "                                              )\n",
        "                                     )\n",
        "                    )[['GUEST_TEAM','GUEST']]\n",
        "                   .rename(columns={'GUEST_TEAM':'TEAM_ID'})\n",
        ")\n",
        "print(f'scores achieved by guest teams:\\n{pd_guest}')"
      ],
      "metadata": {
        "id": "6_ulVp4H90tm",
        "colab": {
          "base_uri": "https://localhost:8080/"
        },
        "outputId": "c06e6fc2-889a-458f-d0e7-3607c138d5c4"
      },
      "execution_count": 6,
      "outputs": [
        {
          "output_type": "stream",
          "name": "stdout",
          "text": [
            "scores achieved by guest teams:\n",
            "   TEAM_ID  GUEST\n",
            "0        2      0\n",
            "1        3      3\n",
            "2        4      0\n",
            "3        5      1\n",
            "4        6      0\n",
            "5        1      3\n"
          ]
        }
      ]
    },
    {
      "cell_type": "code",
      "source": [
        "pd_scores=(pd_teams.merge(pd_host.merge(pd_guest,\n",
        "                                        on='TEAM_ID',\n",
        "                                        how='inner'\n",
        "                                  ),\n",
        "                          on='TEAM_ID',\n",
        "                          how='left'\n",
        "                    )\n",
        ")\n",
        "query=(pd_scores.assign(SCORE=pd_scores['HOST']+pd_scores['GUEST'])\n",
        "                .sort_values(by=['SCORE','TEAM_NAME'],\n",
        "                             ascending=[False,True]\n",
        "                 )\n",
        ")[['TEAM_NAME','SCORE']]\n",
        "print(f'total scores achieved by each team:\\n{query}')"
      ],
      "metadata": {
        "id": "Z8O_V-mE91cl",
        "colab": {
          "base_uri": "https://localhost:8080/"
        },
        "outputId": "3c806b8c-3e42-4969-fd33-87c4994b824e"
      },
      "execution_count": 7,
      "outputs": [
        {
          "output_type": "stream",
          "name": "stdout",
          "text": [
            "total scores achieved by each team:\n",
            "     TEAM_NAME  SCORE\n",
            "2      Chicago      6\n",
            "0     New York      6\n",
            "4  Los Angeles      4\n",
            "3      Toronto      1\n",
            "1      Atlanta      0\n",
            "5      Seattle      0\n"
          ]
        }
      ]
    },
    {
      "cell_type": "code",
      "source": [
        "teams=pl.scan_csv(url2,\n",
        "                  separator=\"\\t\",\n",
        "                  has_header=True,\n",
        "                  infer_schema_length=1000,\n",
        "                  ignore_errors=False\n",
        ")\n",
        "matches=pl.scan_csv(url1,\n",
        "                    separator=\"\\t\",\n",
        "                    has_header=True,\n",
        "                    infer_schema_length=1000,\n",
        "                    ignore_errors=False\n",
        ")"
      ],
      "metadata": {
        "id": "c4Lybbs692XM"
      },
      "execution_count": 8,
      "outputs": []
    },
    {
      "cell_type": "code",
      "source": [
        "sample1=teams.head(5)\n",
        "print(f'----POLARS----\\nteams table (SAMPLE):\\n{sample1.collect()}')"
      ],
      "metadata": {
        "id": "4nGbr7F__YWu",
        "colab": {
          "base_uri": "https://localhost:8080/"
        },
        "outputId": "a3f2c07f-312f-4b2d-cc60-70dbf53f89ce"
      },
      "execution_count": 9,
      "outputs": [
        {
          "output_type": "stream",
          "name": "stdout",
          "text": [
            "----POLARS----\n",
            "teams table (SAMPLE):\n",
            "shape: (5, 2)\n",
            "┌─────────┬─────────────┐\n",
            "│ TEAM_ID ┆ TEAM_NAME   │\n",
            "│ ---     ┆ ---         │\n",
            "│ i64     ┆ str         │\n",
            "╞═════════╪═════════════╡\n",
            "│ 1       ┆ New York    │\n",
            "│ 2       ┆ Atlanta     │\n",
            "│ 3       ┆ Chicago     │\n",
            "│ 4       ┆ Toronto     │\n",
            "│ 5       ┆ Los Angeles │\n",
            "└─────────┴─────────────┘\n"
          ]
        }
      ]
    },
    {
      "cell_type": "code",
      "source": [
        "sample2=matches.head(5)\n",
        "print(f'matches table (SAMPLE):\\n{sample2.collect()}')"
      ],
      "metadata": {
        "id": "y6bRlUKj_Ypn",
        "colab": {
          "base_uri": "https://localhost:8080/"
        },
        "outputId": "78495e42-f6fe-45eb-f50b-a04722ee83b4"
      },
      "execution_count": 10,
      "outputs": [
        {
          "output_type": "stream",
          "name": "stdout",
          "text": [
            "matches table (SAMPLE):\n",
            "shape: (5, 5)\n",
            "┌──────────┬───────────┬────────────┬────────────┬─────────────┐\n",
            "│ MATCH_ID ┆ HOST_TEAM ┆ GUEST_TEAM ┆ HOST_GOALS ┆ GUEST_GOALS │\n",
            "│ ---      ┆ ---       ┆ ---        ┆ ---        ┆ ---         │\n",
            "│ i64      ┆ i64       ┆ i64        ┆ i64        ┆ i64         │\n",
            "╞══════════╪═══════════╪════════════╪════════════╪═════════════╡\n",
            "│ 1        ┆ 1         ┆ 2          ┆ 3          ┆ 0           │\n",
            "│ 2        ┆ 2         ┆ 3          ┆ 2          ┆ 4           │\n",
            "│ 3        ┆ 3         ┆ 4          ┆ 4          ┆ 3           │\n",
            "│ 4        ┆ 4         ┆ 5          ┆ 1          ┆ 1           │\n",
            "│ 5        ┆ 5         ┆ 6          ┆ 2          ┆ 1           │\n",
            "└──────────┴───────────┴────────────┴────────────┴─────────────┘\n"
          ]
        }
      ]
    },
    {
      "cell_type": "code",
      "source": [
        "host=(sample2.select(pl.col('HOST_TEAM')\n",
        "                      .alias('TEAM_ID'),\n",
        "                     pl.col('HOST_GOALS')\n",
        "                       .alias('H'),\n",
        "                     pl.col('GUEST_GOALS')\n",
        "                       .alias('G')\n",
        "              )\n",
        "             .with_columns(SCORE_H=pl.when(pl.col('H')>pl.col('G'))\n",
        "                                     .then(3)\n",
        "                                     .otherwise(pl.when(pl.col('H')<pl.col('G'))\n",
        "                                                  .then(0)\n",
        "                                                  .otherwise(1)\n",
        "                                      )\n",
        "              )\n",
        ")\n",
        "print(f'scores achieved by host teams:\\n{host.collect()}')"
      ],
      "metadata": {
        "id": "jifuDfJnQNko",
        "colab": {
          "base_uri": "https://localhost:8080/"
        },
        "outputId": "fd0c052b-1308-4b69-f6cd-b6d6b76f1c66"
      },
      "execution_count": 11,
      "outputs": [
        {
          "output_type": "stream",
          "name": "stdout",
          "text": [
            "scores achieved by host teams:\n",
            "shape: (5, 4)\n",
            "┌─────────┬─────┬─────┬─────────┐\n",
            "│ TEAM_ID ┆ H   ┆ G   ┆ SCORE_H │\n",
            "│ ---     ┆ --- ┆ --- ┆ ---     │\n",
            "│ i64     ┆ i64 ┆ i64 ┆ i32     │\n",
            "╞═════════╪═════╪═════╪═════════╡\n",
            "│ 1       ┆ 3   ┆ 0   ┆ 3       │\n",
            "│ 2       ┆ 2   ┆ 4   ┆ 0       │\n",
            "│ 3       ┆ 4   ┆ 3   ┆ 3       │\n",
            "│ 4       ┆ 1   ┆ 1   ┆ 1       │\n",
            "│ 5       ┆ 2   ┆ 1   ┆ 3       │\n",
            "└─────────┴─────┴─────┴─────────┘\n"
          ]
        }
      ]
    },
    {
      "cell_type": "code",
      "source": [
        "guest=(sample2.select(pl.col('GUEST_TEAM')\n",
        "                        .alias('TEAM_ID'),\n",
        "                      pl.col('HOST_GOALS')\n",
        "                        .alias('H'),\n",
        "                      pl.col('GUEST_GOALS')\n",
        "                        .alias('G')\n",
        "               )\n",
        "              .with_columns(SCORE_G=pl.when(pl.col('H')>pl.col('G'))\n",
        "                                      .then(0)\n",
        "                                      .otherwise(pl.when(pl.col('H')<pl.col('G'))\n",
        "                                                   .then(3)\n",
        "                                                   .otherwise(1)\n",
        "                                       )\n",
        "               )\n",
        ")\n",
        "print(f'scores achieved by guest teams:\\n{guest.collect()}')"
      ],
      "metadata": {
        "colab": {
          "base_uri": "https://localhost:8080/"
        },
        "id": "zGNcR7FJzW1-",
        "outputId": "3b593069-563b-404d-d41d-765b712e348f"
      },
      "execution_count": 12,
      "outputs": [
        {
          "output_type": "stream",
          "name": "stdout",
          "text": [
            "scores achieved by guest teams:\n",
            "shape: (5, 4)\n",
            "┌─────────┬─────┬─────┬─────────┐\n",
            "│ TEAM_ID ┆ H   ┆ G   ┆ SCORE_G │\n",
            "│ ---     ┆ --- ┆ --- ┆ ---     │\n",
            "│ i64     ┆ i64 ┆ i64 ┆ i32     │\n",
            "╞═════════╪═════╪═════╪═════════╡\n",
            "│ 2       ┆ 3   ┆ 0   ┆ 0       │\n",
            "│ 3       ┆ 2   ┆ 4   ┆ 3       │\n",
            "│ 4       ┆ 4   ┆ 3   ┆ 0       │\n",
            "│ 5       ┆ 1   ┆ 1   ┆ 1       │\n",
            "│ 6       ┆ 2   ┆ 1   ┆ 0       │\n",
            "└─────────┴─────┴─────┴─────────┘\n"
          ]
        }
      ]
    },
    {
      "cell_type": "code",
      "source": [
        "scores=(matches.select(pl.col('HOST_TEAM')\n",
        "                         .alias('TEAM_ID'),\n",
        "                       pl.col('HOST_GOALS')\n",
        "                         .alias('H'),\n",
        "                       pl.col('GUEST_GOALS')\n",
        "                         .alias('G')\n",
        "                )\n",
        "               .with_columns(SCORE_H=pl.when(pl.col('H')>pl.col('G'))\n",
        "                                       .then(3)\n",
        "                                       .otherwise(pl.when(pl.col('H')<pl.col('G'))\n",
        "                                                    .then(0)\n",
        "                                                    .otherwise(1)\n",
        "                                        )\n",
        "                )\n",
        "               .select(pl.col('TEAM_ID'),\n",
        "                       pl.col('SCORE_H')\n",
        "                )\n",
        "               .join(matches.select(pl.col('GUEST_TEAM')\n",
        "                                      .alias('TEAM_ID'),\n",
        "                                    pl.col('HOST_GOALS')\n",
        "                                      .alias('H'),\n",
        "                                    pl.col('GUEST_GOALS')\n",
        "                                      .alias('G')\n",
        "                             )\n",
        "                            .with_columns(SCORE_G=pl.when(pl.col('H')>pl.col('G'))\n",
        "                                                    .then(0)\n",
        "                                                    .otherwise(pl.when(pl.col('H')<pl.col('G'))\n",
        "                                                                 .then(3)\n",
        "                                                                 .otherwise(1)\n",
        "                                                     )\n",
        "                             )\n",
        "                            .select(pl.col('TEAM_ID'),\n",
        "                                    pl.col('SCORE_G')\n",
        "                             ),\n",
        "                      on='TEAM_ID',\n",
        "                      how='full',\n",
        "                      coalesce=True\n",
        "                )\n",
        ")\n",
        "teams_rank=(teams.join(scores,\n",
        "                       on='TEAM_ID',\n",
        "                       how='left'\n",
        "                  )\n",
        "                 .with_columns(SCORE=pl.col('SCORE_H')+pl.col('SCORE_G')\n",
        "                  )\n",
        "                 .select(pl.col('TEAM_NAME'),\n",
        "                         pl.col('SCORE')\n",
        "                  )\n",
        "                 .sort(by=['SCORE','TEAM_NAME'],\n",
        "                       descending=[True,False]\n",
        "                  )\n",
        ")\n",
        "print(f'scores achieved by each teams:\\n{teams_rank.collect()}')"
      ],
      "metadata": {
        "colab": {
          "base_uri": "https://localhost:8080/"
        },
        "id": "4FJweacXp_Q_",
        "outputId": "47f5ce68-057d-487c-e773-a0f80d66d02b"
      },
      "execution_count": 14,
      "outputs": [
        {
          "output_type": "stream",
          "name": "stdout",
          "text": [
            "scores achieved by each teams:\n",
            "shape: (6, 2)\n",
            "┌─────────────┬───────┐\n",
            "│ TEAM_NAME   ┆ SCORE │\n",
            "│ ---         ┆ ---   │\n",
            "│ str         ┆ i32   │\n",
            "╞═════════════╪═══════╡\n",
            "│ Chicago     ┆ 6     │\n",
            "│ New York    ┆ 6     │\n",
            "│ Los Angeles ┆ 4     │\n",
            "│ Toronto     ┆ 1     │\n",
            "│ Atlanta     ┆ 0     │\n",
            "│ Seattle     ┆ 0     │\n",
            "└─────────────┴───────┘\n"
          ]
        }
      ]
    }
  ]
}