{
  "nbformat": 4,
  "nbformat_minor": 0,
  "metadata": {
    "colab": {
      "provenance": [],
      "authorship_tag": "ABX9TyOfbISgwMH2E8gJb3UWqC4H",
      "include_colab_link": true
    },
    "kernelspec": {
      "name": "python3",
      "display_name": "Python 3"
    },
    "language_info": {
      "name": "python"
    }
  },
  "cells": [
    {
      "cell_type": "markdown",
      "metadata": {
        "id": "view-in-github",
        "colab_type": "text"
      },
      "source": [
        "<a href=\"https://colab.research.google.com/github/Uriel1201/HelloSQL2.0/blob/main/03_frequent_item/query.ipynb\" target=\"_parent\"><img src=\"https://colab.research.google.com/assets/colab-badge.svg\" alt=\"Open In Colab\"/></a>"
      ]
    },
    {
      "cell_type": "markdown",
      "source": [
        "#03. Most Frequent Items\n",
        "**From the following table containing a list of dates and items ordered, write a query to return the most frequent item ordered on each date. Return multiple items in the case of a tie.**"
      ],
      "metadata": {
        "id": "-fVTT4ZmrQMn"
      }
    },
    {
      "cell_type": "code",
      "source": [
        "!pip install polars\n",
        "import pandas as pd\n",
        "import numpy as  np\n",
        "import polars as pl\n",
        "\n",
        "data = {'dates' : ['01-JAN-20',\n",
        "                   '01-JAN-20',\n",
        "                   '01-JAN-20',\n",
        "                   '01-JAN-20',\n",
        "                   '02-JAN-20',\n",
        "                   '02-JAN-20',\n",
        "                   '02-JAN-20',\n",
        "                   '02-JAN-20'],\n",
        "        'item' : ['apple',\n",
        "                  'apple',\n",
        "                  'pear',\n",
        "                  'pear',\n",
        "                  'pear',\n",
        "                  'pear',\n",
        "                  'pear',\n",
        "                  'orange']\n",
        "\n",
        "       }\n",
        "pandas_items=pd.DataFrame(data)\n",
        "polars_items=pl.DataFrame(data)"
      ],
      "metadata": {
        "colab": {
          "base_uri": "https://localhost:8080/"
        },
        "id": "k87C8kaZrUB6",
        "outputId": "e748f78f-3591-4620-c569-ea2c007d4d21"
      },
      "execution_count": 1,
      "outputs": [
        {
          "output_type": "stream",
          "name": "stdout",
          "text": [
            "Requirement already satisfied: polars in /usr/local/lib/python3.11/dist-packages (1.21.0)\n"
          ]
        }
      ]
    },
    {
      "cell_type": "code",
      "source": [
        "print(f'items table in Pandas:\\n{pandas_items}')"
      ],
      "metadata": {
        "id": "UzZ_L28XrlXW",
        "outputId": "00ab9e81-5037-4f9d-df22-28e99f7bc7fb",
        "colab": {
          "base_uri": "https://localhost:8080/"
        }
      },
      "execution_count": 2,
      "outputs": [
        {
          "output_type": "stream",
          "name": "stdout",
          "text": [
            "items table in Pandas:\n",
            "       dates    item\n",
            "0  01-JAN-20   apple\n",
            "1  01-JAN-20   apple\n",
            "2  01-JAN-20    pear\n",
            "3  01-JAN-20    pear\n",
            "4  02-JAN-20    pear\n",
            "5  02-JAN-20    pear\n",
            "6  02-JAN-20    pear\n",
            "7  02-JAN-20  orange\n"
          ]
        }
      ]
    },
    {
      "cell_type": "code",
      "source": [
        "pandas_df1=(pandas_items.groupby(['dates','item'])\n",
        "                        .size()\n",
        "                        .reset_index(name='count')\n",
        ")\n",
        "print(f'counting items by each date:\\n{pandas_df1}')"
      ],
      "metadata": {
        "colab": {
          "base_uri": "https://localhost:8080/"
        },
        "id": "BcuC3uh0tuS_",
        "outputId": "c3145b8f-9b81-49e0-ffc3-95c8a399e3b9"
      },
      "execution_count": 3,
      "outputs": [
        {
          "output_type": "stream",
          "name": "stdout",
          "text": [
            "counting items by each date:\n",
            "       dates    item  count\n",
            "0  01-JAN-20   apple      2\n",
            "1  01-JAN-20    pear      2\n",
            "2  02-JAN-20  orange      1\n",
            "3  02-JAN-20    pear      3\n"
          ]
        }
      ]
    },
    {
      "cell_type": "code",
      "source": [
        "pandas_df1['max_count']=(pandas_df1.groupby('dates')['count']\n",
        "                                   .transform('max')\n",
        ")\n",
        "query1=pandas_df1[['dates','max_count']].drop_duplicates()\n",
        "print(f'the max count by each date:\\n{query1}')"
      ],
      "metadata": {
        "colab": {
          "base_uri": "https://localhost:8080/"
        },
        "id": "fJPSHIbKwGQi",
        "outputId": "08e1a754-4490-4797-b9fc-2e43cb4df02f"
      },
      "execution_count": 5,
      "outputs": [
        {
          "output_type": "stream",
          "name": "stdout",
          "text": [
            "the max count by each date:\n",
            "       dates  max_count\n",
            "0  01-JAN-20          2\n",
            "2  02-JAN-20          3\n"
          ]
        }
      ]
    },
    {
      "cell_type": "code",
      "source": [
        "pandas_counts=(pandas_items.groupby(['dates','item'])\n",
        "                           .size()\n",
        "                           .reset_index(name='count')\n",
        ")\n",
        "pandas_counts['max_count']=(pandas_counts.groupby('dates')['count']\n",
        "                                         .transform('max')\n",
        ")\n",
        "query=pandas_counts.query('count==max_count')[['dates','item']]\n",
        "print(f'item most frequented for each date using Pandas:')\n",
        "query"
      ],
      "metadata": {
        "colab": {
          "base_uri": "https://localhost:8080/",
          "height": 181
        },
        "id": "xO-ZQrGuxxZN",
        "outputId": "3a477bdc-63bd-4c1f-c699-adf36978affa"
      },
      "execution_count": 6,
      "outputs": [
        {
          "output_type": "stream",
          "name": "stdout",
          "text": [
            "item most frequented for each date using Pandas:\n"
          ]
        },
        {
          "output_type": "execute_result",
          "data": {
            "text/plain": [
              "       dates   item\n",
              "0  01-JAN-20  apple\n",
              "1  01-JAN-20   pear\n",
              "3  02-JAN-20   pear"
            ],
            "text/html": [
              "\n",
              "  <div id=\"df-1bc37c69-fc19-4bc9-89ec-caec2590d0dd\" class=\"colab-df-container\">\n",
              "    <div>\n",
              "<style scoped>\n",
              "    .dataframe tbody tr th:only-of-type {\n",
              "        vertical-align: middle;\n",
              "    }\n",
              "\n",
              "    .dataframe tbody tr th {\n",
              "        vertical-align: top;\n",
              "    }\n",
              "\n",
              "    .dataframe thead th {\n",
              "        text-align: right;\n",
              "    }\n",
              "</style>\n",
              "<table border=\"1\" class=\"dataframe\">\n",
              "  <thead>\n",
              "    <tr style=\"text-align: right;\">\n",
              "      <th></th>\n",
              "      <th>dates</th>\n",
              "      <th>item</th>\n",
              "    </tr>\n",
              "  </thead>\n",
              "  <tbody>\n",
              "    <tr>\n",
              "      <th>0</th>\n",
              "      <td>01-JAN-20</td>\n",
              "      <td>apple</td>\n",
              "    </tr>\n",
              "    <tr>\n",
              "      <th>1</th>\n",
              "      <td>01-JAN-20</td>\n",
              "      <td>pear</td>\n",
              "    </tr>\n",
              "    <tr>\n",
              "      <th>3</th>\n",
              "      <td>02-JAN-20</td>\n",
              "      <td>pear</td>\n",
              "    </tr>\n",
              "  </tbody>\n",
              "</table>\n",
              "</div>\n",
              "    <div class=\"colab-df-buttons\">\n",
              "\n",
              "  <div class=\"colab-df-container\">\n",
              "    <button class=\"colab-df-convert\" onclick=\"convertToInteractive('df-1bc37c69-fc19-4bc9-89ec-caec2590d0dd')\"\n",
              "            title=\"Convert this dataframe to an interactive table.\"\n",
              "            style=\"display:none;\">\n",
              "\n",
              "  <svg xmlns=\"http://www.w3.org/2000/svg\" height=\"24px\" viewBox=\"0 -960 960 960\">\n",
              "    <path d=\"M120-120v-720h720v720H120Zm60-500h600v-160H180v160Zm220 220h160v-160H400v160Zm0 220h160v-160H400v160ZM180-400h160v-160H180v160Zm440 0h160v-160H620v160ZM180-180h160v-160H180v160Zm440 0h160v-160H620v160Z\"/>\n",
              "  </svg>\n",
              "    </button>\n",
              "\n",
              "  <style>\n",
              "    .colab-df-container {\n",
              "      display:flex;\n",
              "      gap: 12px;\n",
              "    }\n",
              "\n",
              "    .colab-df-convert {\n",
              "      background-color: #E8F0FE;\n",
              "      border: none;\n",
              "      border-radius: 50%;\n",
              "      cursor: pointer;\n",
              "      display: none;\n",
              "      fill: #1967D2;\n",
              "      height: 32px;\n",
              "      padding: 0 0 0 0;\n",
              "      width: 32px;\n",
              "    }\n",
              "\n",
              "    .colab-df-convert:hover {\n",
              "      background-color: #E2EBFA;\n",
              "      box-shadow: 0px 1px 2px rgba(60, 64, 67, 0.3), 0px 1px 3px 1px rgba(60, 64, 67, 0.15);\n",
              "      fill: #174EA6;\n",
              "    }\n",
              "\n",
              "    .colab-df-buttons div {\n",
              "      margin-bottom: 4px;\n",
              "    }\n",
              "\n",
              "    [theme=dark] .colab-df-convert {\n",
              "      background-color: #3B4455;\n",
              "      fill: #D2E3FC;\n",
              "    }\n",
              "\n",
              "    [theme=dark] .colab-df-convert:hover {\n",
              "      background-color: #434B5C;\n",
              "      box-shadow: 0px 1px 3px 1px rgba(0, 0, 0, 0.15);\n",
              "      filter: drop-shadow(0px 1px 2px rgba(0, 0, 0, 0.3));\n",
              "      fill: #FFFFFF;\n",
              "    }\n",
              "  </style>\n",
              "\n",
              "    <script>\n",
              "      const buttonEl =\n",
              "        document.querySelector('#df-1bc37c69-fc19-4bc9-89ec-caec2590d0dd button.colab-df-convert');\n",
              "      buttonEl.style.display =\n",
              "        google.colab.kernel.accessAllowed ? 'block' : 'none';\n",
              "\n",
              "      async function convertToInteractive(key) {\n",
              "        const element = document.querySelector('#df-1bc37c69-fc19-4bc9-89ec-caec2590d0dd');\n",
              "        const dataTable =\n",
              "          await google.colab.kernel.invokeFunction('convertToInteractive',\n",
              "                                                    [key], {});\n",
              "        if (!dataTable) return;\n",
              "\n",
              "        const docLinkHtml = 'Like what you see? Visit the ' +\n",
              "          '<a target=\"_blank\" href=https://colab.research.google.com/notebooks/data_table.ipynb>data table notebook</a>'\n",
              "          + ' to learn more about interactive tables.';\n",
              "        element.innerHTML = '';\n",
              "        dataTable['output_type'] = 'display_data';\n",
              "        await google.colab.output.renderOutput(dataTable, element);\n",
              "        const docLink = document.createElement('div');\n",
              "        docLink.innerHTML = docLinkHtml;\n",
              "        element.appendChild(docLink);\n",
              "      }\n",
              "    </script>\n",
              "  </div>\n",
              "\n",
              "\n",
              "    <div id=\"df-8d729a68-0f66-42ca-9033-6ce562922d13\">\n",
              "      <button class=\"colab-df-quickchart\" onclick=\"quickchart('df-8d729a68-0f66-42ca-9033-6ce562922d13')\"\n",
              "                title=\"Suggest charts\"\n",
              "                style=\"display:none;\">\n",
              "\n",
              "<svg xmlns=\"http://www.w3.org/2000/svg\" height=\"24px\"viewBox=\"0 0 24 24\"\n",
              "     width=\"24px\">\n",
              "    <g>\n",
              "        <path d=\"M19 3H5c-1.1 0-2 .9-2 2v14c0 1.1.9 2 2 2h14c1.1 0 2-.9 2-2V5c0-1.1-.9-2-2-2zM9 17H7v-7h2v7zm4 0h-2V7h2v10zm4 0h-2v-4h2v4z\"/>\n",
              "    </g>\n",
              "</svg>\n",
              "      </button>\n",
              "\n",
              "<style>\n",
              "  .colab-df-quickchart {\n",
              "      --bg-color: #E8F0FE;\n",
              "      --fill-color: #1967D2;\n",
              "      --hover-bg-color: #E2EBFA;\n",
              "      --hover-fill-color: #174EA6;\n",
              "      --disabled-fill-color: #AAA;\n",
              "      --disabled-bg-color: #DDD;\n",
              "  }\n",
              "\n",
              "  [theme=dark] .colab-df-quickchart {\n",
              "      --bg-color: #3B4455;\n",
              "      --fill-color: #D2E3FC;\n",
              "      --hover-bg-color: #434B5C;\n",
              "      --hover-fill-color: #FFFFFF;\n",
              "      --disabled-bg-color: #3B4455;\n",
              "      --disabled-fill-color: #666;\n",
              "  }\n",
              "\n",
              "  .colab-df-quickchart {\n",
              "    background-color: var(--bg-color);\n",
              "    border: none;\n",
              "    border-radius: 50%;\n",
              "    cursor: pointer;\n",
              "    display: none;\n",
              "    fill: var(--fill-color);\n",
              "    height: 32px;\n",
              "    padding: 0;\n",
              "    width: 32px;\n",
              "  }\n",
              "\n",
              "  .colab-df-quickchart:hover {\n",
              "    background-color: var(--hover-bg-color);\n",
              "    box-shadow: 0 1px 2px rgba(60, 64, 67, 0.3), 0 1px 3px 1px rgba(60, 64, 67, 0.15);\n",
              "    fill: var(--button-hover-fill-color);\n",
              "  }\n",
              "\n",
              "  .colab-df-quickchart-complete:disabled,\n",
              "  .colab-df-quickchart-complete:disabled:hover {\n",
              "    background-color: var(--disabled-bg-color);\n",
              "    fill: var(--disabled-fill-color);\n",
              "    box-shadow: none;\n",
              "  }\n",
              "\n",
              "  .colab-df-spinner {\n",
              "    border: 2px solid var(--fill-color);\n",
              "    border-color: transparent;\n",
              "    border-bottom-color: var(--fill-color);\n",
              "    animation:\n",
              "      spin 1s steps(1) infinite;\n",
              "  }\n",
              "\n",
              "  @keyframes spin {\n",
              "    0% {\n",
              "      border-color: transparent;\n",
              "      border-bottom-color: var(--fill-color);\n",
              "      border-left-color: var(--fill-color);\n",
              "    }\n",
              "    20% {\n",
              "      border-color: transparent;\n",
              "      border-left-color: var(--fill-color);\n",
              "      border-top-color: var(--fill-color);\n",
              "    }\n",
              "    30% {\n",
              "      border-color: transparent;\n",
              "      border-left-color: var(--fill-color);\n",
              "      border-top-color: var(--fill-color);\n",
              "      border-right-color: var(--fill-color);\n",
              "    }\n",
              "    40% {\n",
              "      border-color: transparent;\n",
              "      border-right-color: var(--fill-color);\n",
              "      border-top-color: var(--fill-color);\n",
              "    }\n",
              "    60% {\n",
              "      border-color: transparent;\n",
              "      border-right-color: var(--fill-color);\n",
              "    }\n",
              "    80% {\n",
              "      border-color: transparent;\n",
              "      border-right-color: var(--fill-color);\n",
              "      border-bottom-color: var(--fill-color);\n",
              "    }\n",
              "    90% {\n",
              "      border-color: transparent;\n",
              "      border-bottom-color: var(--fill-color);\n",
              "    }\n",
              "  }\n",
              "</style>\n",
              "\n",
              "      <script>\n",
              "        async function quickchart(key) {\n",
              "          const quickchartButtonEl =\n",
              "            document.querySelector('#' + key + ' button');\n",
              "          quickchartButtonEl.disabled = true;  // To prevent multiple clicks.\n",
              "          quickchartButtonEl.classList.add('colab-df-spinner');\n",
              "          try {\n",
              "            const charts = await google.colab.kernel.invokeFunction(\n",
              "                'suggestCharts', [key], {});\n",
              "          } catch (error) {\n",
              "            console.error('Error during call to suggestCharts:', error);\n",
              "          }\n",
              "          quickchartButtonEl.classList.remove('colab-df-spinner');\n",
              "          quickchartButtonEl.classList.add('colab-df-quickchart-complete');\n",
              "        }\n",
              "        (() => {\n",
              "          let quickchartButtonEl =\n",
              "            document.querySelector('#df-8d729a68-0f66-42ca-9033-6ce562922d13 button');\n",
              "          quickchartButtonEl.style.display =\n",
              "            google.colab.kernel.accessAllowed ? 'block' : 'none';\n",
              "        })();\n",
              "      </script>\n",
              "    </div>\n",
              "\n",
              "  <div id=\"id_f23a7c70-76ba-41cc-81f6-d25d0915cb41\">\n",
              "    <style>\n",
              "      .colab-df-generate {\n",
              "        background-color: #E8F0FE;\n",
              "        border: none;\n",
              "        border-radius: 50%;\n",
              "        cursor: pointer;\n",
              "        display: none;\n",
              "        fill: #1967D2;\n",
              "        height: 32px;\n",
              "        padding: 0 0 0 0;\n",
              "        width: 32px;\n",
              "      }\n",
              "\n",
              "      .colab-df-generate:hover {\n",
              "        background-color: #E2EBFA;\n",
              "        box-shadow: 0px 1px 2px rgba(60, 64, 67, 0.3), 0px 1px 3px 1px rgba(60, 64, 67, 0.15);\n",
              "        fill: #174EA6;\n",
              "      }\n",
              "\n",
              "      [theme=dark] .colab-df-generate {\n",
              "        background-color: #3B4455;\n",
              "        fill: #D2E3FC;\n",
              "      }\n",
              "\n",
              "      [theme=dark] .colab-df-generate:hover {\n",
              "        background-color: #434B5C;\n",
              "        box-shadow: 0px 1px 3px 1px rgba(0, 0, 0, 0.15);\n",
              "        filter: drop-shadow(0px 1px 2px rgba(0, 0, 0, 0.3));\n",
              "        fill: #FFFFFF;\n",
              "      }\n",
              "    </style>\n",
              "    <button class=\"colab-df-generate\" onclick=\"generateWithVariable('query')\"\n",
              "            title=\"Generate code using this dataframe.\"\n",
              "            style=\"display:none;\">\n",
              "\n",
              "  <svg xmlns=\"http://www.w3.org/2000/svg\" height=\"24px\"viewBox=\"0 0 24 24\"\n",
              "       width=\"24px\">\n",
              "    <path d=\"M7,19H8.4L18.45,9,17,7.55,7,17.6ZM5,21V16.75L18.45,3.32a2,2,0,0,1,2.83,0l1.4,1.43a1.91,1.91,0,0,1,.58,1.4,1.91,1.91,0,0,1-.58,1.4L9.25,21ZM18.45,9,17,7.55Zm-12,3A5.31,5.31,0,0,0,4.9,8.1,5.31,5.31,0,0,0,1,6.5,5.31,5.31,0,0,0,4.9,4.9,5.31,5.31,0,0,0,6.5,1,5.31,5.31,0,0,0,8.1,4.9,5.31,5.31,0,0,0,12,6.5,5.46,5.46,0,0,0,6.5,12Z\"/>\n",
              "  </svg>\n",
              "    </button>\n",
              "    <script>\n",
              "      (() => {\n",
              "      const buttonEl =\n",
              "        document.querySelector('#id_f23a7c70-76ba-41cc-81f6-d25d0915cb41 button.colab-df-generate');\n",
              "      buttonEl.style.display =\n",
              "        google.colab.kernel.accessAllowed ? 'block' : 'none';\n",
              "\n",
              "      buttonEl.onclick = () => {\n",
              "        google.colab.notebook.generateWithVariable('query');\n",
              "      }\n",
              "      })();\n",
              "    </script>\n",
              "  </div>\n",
              "\n",
              "    </div>\n",
              "  </div>\n"
            ],
            "application/vnd.google.colaboratory.intrinsic+json": {
              "type": "dataframe",
              "variable_name": "query",
              "summary": "{\n  \"name\": \"query\",\n  \"rows\": 3,\n  \"fields\": [\n    {\n      \"column\": \"dates\",\n      \"properties\": {\n        \"dtype\": \"object\",\n        \"num_unique_values\": 2,\n        \"samples\": [\n          \"02-JAN-20\",\n          \"01-JAN-20\"\n        ],\n        \"semantic_type\": \"\",\n        \"description\": \"\"\n      }\n    },\n    {\n      \"column\": \"item\",\n      \"properties\": {\n        \"dtype\": \"string\",\n        \"num_unique_values\": 2,\n        \"samples\": [\n          \"pear\",\n          \"apple\"\n        ],\n        \"semantic_type\": \"\",\n        \"description\": \"\"\n      }\n    }\n  ]\n}"
            }
          },
          "metadata": {},
          "execution_count": 6
        }
      ]
    },
    {
      "cell_type": "code",
      "source": [
        "print(f'items table in Polars:\\n{polars_items}')"
      ],
      "metadata": {
        "colab": {
          "base_uri": "https://localhost:8080/"
        },
        "id": "xhE6paPn0D25",
        "outputId": "7239ee05-33e6-4f21-98e8-9c6e2317ccc5"
      },
      "execution_count": 7,
      "outputs": [
        {
          "output_type": "stream",
          "name": "stdout",
          "text": [
            "items table in Polars:\n",
            "shape: (8, 2)\n",
            "┌───────────┬────────┐\n",
            "│ dates     ┆ item   │\n",
            "│ ---       ┆ ---    │\n",
            "│ str       ┆ str    │\n",
            "╞═══════════╪════════╡\n",
            "│ 01-JAN-20 ┆ apple  │\n",
            "│ 01-JAN-20 ┆ apple  │\n",
            "│ 01-JAN-20 ┆ pear   │\n",
            "│ 01-JAN-20 ┆ pear   │\n",
            "│ 02-JAN-20 ┆ pear   │\n",
            "│ 02-JAN-20 ┆ pear   │\n",
            "│ 02-JAN-20 ┆ pear   │\n",
            "│ 02-JAN-20 ┆ orange │\n",
            "└───────────┴────────┘\n"
          ]
        }
      ]
    },
    {
      "cell_type": "code",
      "source": [
        "polars_df1=(polars_items.group_by(['dates','item'])\n",
        "                        .len()\n",
        ")\n",
        "print(f'counting items by each date:\\n{polars_df1}')"
      ],
      "metadata": {
        "colab": {
          "base_uri": "https://localhost:8080/"
        },
        "id": "cluZ083D4DAk",
        "outputId": "773efa06-9050-465d-ecb4-400049e62425"
      },
      "execution_count": 12,
      "outputs": [
        {
          "output_type": "stream",
          "name": "stdout",
          "text": [
            "counting items by each date:\n",
            "shape: (4, 3)\n",
            "┌───────────┬────────┬─────┐\n",
            "│ dates     ┆ item   ┆ len │\n",
            "│ ---       ┆ ---    ┆ --- │\n",
            "│ str       ┆ str    ┆ u32 │\n",
            "╞═══════════╪════════╪═════╡\n",
            "│ 01-JAN-20 ┆ pear   ┆ 2   │\n",
            "│ 02-JAN-20 ┆ pear   ┆ 3   │\n",
            "│ 01-JAN-20 ┆ apple  ┆ 2   │\n",
            "│ 02-JAN-20 ┆ orange ┆ 1   │\n",
            "└───────────┴────────┴─────┘\n"
          ]
        }
      ]
    },
    {
      "cell_type": "code",
      "source": [
        "polars_df1=(polars_df1.with_columns(pl.max('len')\n",
        "                                      .over(partition_by='dates')\n",
        "                                      .alias('max_count')\n",
        "                       )\n",
        "                      .select(pl.col('dates'),\n",
        "                              pl.col('max_count')\n",
        "                       )\n",
        "                      .unique()\n",
        ")\n",
        "print(f'the max count by each date:\\n{polars_df1}')"
      ],
      "metadata": {
        "colab": {
          "base_uri": "https://localhost:8080/"
        },
        "id": "nVWrRddz8CxF",
        "outputId": "fae272ab-e2f8-4c7a-f0c8-58ac9a750a6f"
      },
      "execution_count": 13,
      "outputs": [
        {
          "output_type": "stream",
          "name": "stdout",
          "text": [
            "the max count by each date:\n",
            "shape: (2, 2)\n",
            "┌───────────┬───────────┐\n",
            "│ dates     ┆ max_count │\n",
            "│ ---       ┆ ---       │\n",
            "│ str       ┆ u32       │\n",
            "╞═══════════╪═══════════╡\n",
            "│ 02-JAN-20 ┆ 3         │\n",
            "│ 01-JAN-20 ┆ 2         │\n",
            "└───────────┴───────────┘\n"
          ]
        }
      ]
    },
    {
      "cell_type": "code",
      "source": [
        "polars_counts=(polars_items.group_by(['dates','item'])\n",
        "                           .agg(pl.len()\n",
        "                                  .alias('count')\n",
        "                            )\n",
        "                           .with_columns(pl.max('count')\n",
        "                                           .over(partition_by='dates')\n",
        "                                           .alias('max_count')\n",
        "                            )\n",
        "                           .filter(pl.col('count')==pl.col('max_count')\n",
        "                            )\n",
        "                           .select(pl.col('dates'),\n",
        "                                   pl.col('item')\n",
        "                            )\n",
        ")\n",
        "print(f'item most frequented for each date using Polars:')\n",
        "polars_counts"
      ],
      "metadata": {
        "id": "-XO8FvyrA12F",
        "colab": {
          "base_uri": "https://localhost:8080/",
          "height": 230
        },
        "outputId": "2bafcbf8-6427-44a4-ada2-bfb42d67452e"
      },
      "execution_count": 14,
      "outputs": [
        {
          "output_type": "stream",
          "name": "stdout",
          "text": [
            "item most frequented for each date using Polars:\n"
          ]
        },
        {
          "output_type": "execute_result",
          "data": {
            "text/plain": [
              "shape: (3, 2)\n",
              "┌───────────┬───────┐\n",
              "│ dates     ┆ item  │\n",
              "│ ---       ┆ ---   │\n",
              "│ str       ┆ str   │\n",
              "╞═══════════╪═══════╡\n",
              "│ 01-JAN-20 ┆ pear  │\n",
              "│ 01-JAN-20 ┆ apple │\n",
              "│ 02-JAN-20 ┆ pear  │\n",
              "└───────────┴───────┘"
            ],
            "text/html": [
              "<div><style>\n",
              ".dataframe > thead > tr,\n",
              ".dataframe > tbody > tr {\n",
              "  text-align: right;\n",
              "  white-space: pre-wrap;\n",
              "}\n",
              "</style>\n",
              "<small>shape: (3, 2)</small><table border=\"1\" class=\"dataframe\"><thead><tr><th>dates</th><th>item</th></tr><tr><td>str</td><td>str</td></tr></thead><tbody><tr><td>&quot;01-JAN-20&quot;</td><td>&quot;pear&quot;</td></tr><tr><td>&quot;01-JAN-20&quot;</td><td>&quot;apple&quot;</td></tr><tr><td>&quot;02-JAN-20&quot;</td><td>&quot;pear&quot;</td></tr></tbody></table></div>"
            ]
          },
          "metadata": {},
          "execution_count": 14
        }
      ]
    }
  ]
}