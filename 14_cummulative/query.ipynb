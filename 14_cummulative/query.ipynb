{
  "nbformat": 4,
  "nbformat_minor": 0,
  "metadata": {
    "colab": {
      "provenance": [],
      "authorship_tag": "ABX9TyPVNWi4+9V4EG3bpFEyBlML",
      "include_colab_link": true
    },
    "kernelspec": {
      "name": "python3",
      "display_name": "Python 3"
    },
    "language_info": {
      "name": "python"
    }
  },
  "cells": [
    {
      "cell_type": "markdown",
      "metadata": {
        "id": "view-in-github",
        "colab_type": "text"
      },
      "source": [
        "<a href=\"https://colab.research.google.com/github/Uriel1201/HelloSQL2.0/blob/main/14_cummulative/query.ipynb\" target=\"_parent\"><img src=\"https://colab.research.google.com/assets/colab-badge.svg\" alt=\"Open In Colab\"/></a>"
      ]
    },
    {
      "cell_type": "markdown",
      "source": [
        "\n",
        "#14. Cumulative salary sum\n",
        "**Writing a query to get, for each month, the cumulative sum of an employee’s salary excluding the\n",
        "most recent month.**"
      ],
      "metadata": {
        "id": "CsnuLSQ62m85"
      }
    },
    {
      "cell_type": "code",
      "source": [
        "!pip install polars\n",
        "import pandas as pd\n",
        "import numpy as  np\n",
        "import polars as pl"
      ],
      "metadata": {
        "colab": {
          "base_uri": "https://localhost:8080/"
        },
        "id": "a_IMdoEu2nKB",
        "outputId": "ee9f8e39-2239-4270-8b91-3fa316a25111"
      },
      "execution_count": null,
      "outputs": [
        {
          "output_type": "stream",
          "name": "stdout",
          "text": [
            "Requirement already satisfied: polars in /usr/local/lib/python3.11/dist-packages (1.21.0)\n"
          ]
        }
      ]
    },
    {
      "cell_type": "code",
      "source": [
        "data = {'id'        : [1,2,1,2,3,1,3,1,3],\n",
        "        'pay_month' : [1,1,2,2,2,3,3,4,4],\n",
        "        'salary'    : [20,20,30,30,40,40,60,60,70]\n",
        "        }\n",
        "\n",
        "pd_employee=pd.DataFrame(data)\n",
        "employee=pl.LazyFrame(data)"
      ],
      "metadata": {
        "id": "FR7HzEip2nOi"
      },
      "execution_count": null,
      "outputs": []
    },
    {
      "cell_type": "code",
      "source": [
        "print(f'----PANDAS----\\nemployee table:\\n{pd_employee}')"
      ],
      "metadata": {
        "colab": {
          "base_uri": "https://localhost:8080/"
        },
        "id": "MFjmH3sG2nTe",
        "outputId": "d9b3cd69-dc02-461e-9bdd-7b125edc0f76"
      },
      "execution_count": null,
      "outputs": [
        {
          "output_type": "stream",
          "name": "stdout",
          "text": [
            "----PANDAS----\n",
            "employee table:\n",
            "   id  pay_month  salary\n",
            "0   1          1      20\n",
            "1   2          1      20\n",
            "2   1          2      30\n",
            "3   2          2      30\n",
            "4   3          2      40\n",
            "5   1          3      40\n",
            "6   3          3      60\n",
            "7   1          4      60\n",
            "8   3          4      70\n"
          ]
        }
      ]
    },
    {
      "cell_type": "code",
      "source": [
        "pd_df1=pd_employee.copy()\n",
        "pd_df1['cummulative_pay']=pd_df1.groupby('id')['salary'].cumsum()\n",
        "pd_df1['ranking']=pd_df1.groupby('id')['pay_month'].rank(method='first',ascending=False)\n",
        "pd_query=pd_df1.query(\"ranking>1\")[['id','cummulative_pay']]\n",
        "print(f'{pd_query}')"
      ],
      "metadata": {
        "colab": {
          "base_uri": "https://localhost:8080/"
        },
        "id": "W95G2hwy2otG",
        "outputId": "43172c6a-778a-4b00-93bc-6cbd987137e5"
      },
      "execution_count": null,
      "outputs": [
        {
          "output_type": "stream",
          "name": "stdout",
          "text": [
            "   id  cummulative_pay\n",
            "0   1               20\n",
            "1   2               20\n",
            "2   1               50\n",
            "4   3               40\n",
            "5   1               90\n",
            "6   3              100\n"
          ]
        }
      ]
    },
    {
      "cell_type": "code",
      "source": [
        "sample=employee.head(5)\n",
        "print(f'----POLARS----\\nemployee table (SAMPLE)\\n{sample.collect()}')"
      ],
      "metadata": {
        "id": "lbK2XxDy2pBd",
        "colab": {
          "base_uri": "https://localhost:8080/"
        },
        "outputId": "3d55f9d4-9b11-456e-911d-da7589793d41"
      },
      "execution_count": null,
      "outputs": [
        {
          "output_type": "stream",
          "name": "stdout",
          "text": [
            "----POLARS----\n",
            "employee table (SAMPLE)\n",
            "shape: (5, 3)\n",
            "┌─────┬───────────┬────────┐\n",
            "│ id  ┆ pay_month ┆ salary │\n",
            "│ --- ┆ ---       ┆ ---    │\n",
            "│ i64 ┆ i64       ┆ i64    │\n",
            "╞═════╪═══════════╪════════╡\n",
            "│ 1   ┆ 1         ┆ 20     │\n",
            "│ 2   ┆ 1         ┆ 20     │\n",
            "│ 1   ┆ 2         ┆ 30     │\n",
            "│ 2   ┆ 2         ┆ 30     │\n",
            "│ 3   ┆ 2         ┆ 40     │\n",
            "└─────┴───────────┴────────┘\n"
          ]
        }
      ]
    },
    {
      "cell_type": "code",
      "source": [
        "cumulative=(employee.sort(by=['id','pay_month'])\n",
        "                    .with_columns(cumulative_pay=pl.col('salary')\n",
        "                                                   .cum_sum()\n",
        "                                                   .over('id'),\n",
        "                                  rank=pl.col('pay_month')\n",
        "                                         .rank(method='dense',\n",
        "                                               descending=True\n",
        "                                          )\n",
        "                                         .over('id')\n",
        "                     )\n",
        "                    .filter(pl.col('rank')>1)\n",
        "                    .select(pl.col('id'),\n",
        "                            pl.col('pay_month'),\n",
        "                            pl.col('cumulative_pay')\n",
        "                     )\n",
        ")\n",
        "print(f'Returning the cumulative pays excluding the last month:\\n {cumulative.collect()}')"
      ],
      "metadata": {
        "id": "-bjWxnS82n6h",
        "colab": {
          "base_uri": "https://localhost:8080/"
        },
        "outputId": "6a7b325d-134f-4079-b1c6-07cf26cee9bc"
      },
      "execution_count": null,
      "outputs": [
        {
          "output_type": "stream",
          "name": "stdout",
          "text": [
            "Returning the cumulative pays excluding the last month:\n",
            " shape: (6, 3)\n",
            "┌─────┬───────────┬────────────────┐\n",
            "│ id  ┆ pay_month ┆ cumulative_pay │\n",
            "│ --- ┆ ---       ┆ ---            │\n",
            "│ i64 ┆ i64       ┆ i64            │\n",
            "╞═════╪═══════════╪════════════════╡\n",
            "│ 1   ┆ 1         ┆ 20             │\n",
            "│ 1   ┆ 2         ┆ 50             │\n",
            "│ 1   ┆ 3         ┆ 90             │\n",
            "│ 2   ┆ 1         ┆ 20             │\n",
            "│ 3   ┆ 2         ┆ 40             │\n",
            "│ 3   ┆ 3         ┆ 100            │\n",
            "└─────┴───────────┴────────────────┘\n"
          ]
        }
      ]
    }
  ]
}