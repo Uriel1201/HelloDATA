{
  "nbformat": 4,
  "nbformat_minor": 0,
  "metadata": {
    "colab": {
      "provenance": [],
      "authorship_tag": "ABX9TyP8OVlay5xe4r9esvtPXKAF",
      "include_colab_link": true
    },
    "kernelspec": {
      "name": "python3",
      "display_name": "Python 3"
    },
    "language_info": {
      "name": "python"
    }
  },
  "cells": [
    {
      "cell_type": "markdown",
      "metadata": {
        "id": "view-in-github",
        "colab_type": "text"
      },
      "source": [
        "<a href=\"https://colab.research.google.com/github/Uriel1201/HelloSQL2.0/blob/main/super_users/query.ipynb\" target=\"_parent\"><img src=\"https://colab.research.google.com/assets/colab-badge.svg\" alt=\"Open In Colab\"/></a>"
      ]
    },
    {
      "cell_type": "markdown",
      "source": [
        "#**05.Super users.**\n",
        "**A company defines its super users as those who have made at least two transactions. From the following table, write a query to return, for each user, the date when they become a superuser,ordered by oldest super users first. Users who are not super users should also be present in the table.**"
      ],
      "metadata": {
        "id": "dy5XKhEcS_hQ"
      }
    },
    {
      "cell_type": "code",
      "source": [
        "import pandas as pd\n",
        "import numpy as  np\n",
        "\n",
        "data = {'user_id'          : [1,2,1,3,1,2,4,3],\n",
        "        'product_id'       : [101,105,111,121,101,105,101,105],\n",
        "        'transaction_date' : ['12-FEB-20',\n",
        "                              '13-FEB-20',\n",
        "                              '14-FEB-20',\n",
        "                              '15-FEB-20',\n",
        "                              '16-FEB-20',\n",
        "                              '17-FEB-20',\n",
        "                              '16-FEB-20',\n",
        "                              '15-FEB-20']\n",
        "        }\n",
        "\n",
        "users=pd.DataFrame(data)"
      ],
      "metadata": {
        "id": "GpvciuXHS_v-"
      },
      "execution_count": 2,
      "outputs": []
    },
    {
      "cell_type": "code",
      "source": [
        "date=users['transaction_date']\n",
        "date=pd.to_datetime(date,format=\"%d-%b-%y\")\n",
        "print(users)"
      ],
      "metadata": {
        "id": "J1mWHc0Ya7JI",
        "outputId": "e56bb89d-ab06-4485-d9cb-779ce237d016",
        "colab": {
          "base_uri": "https://localhost:8080/"
        }
      },
      "execution_count": 3,
      "outputs": [
        {
          "output_type": "stream",
          "name": "stdout",
          "text": [
            "   user_id  product_id transaction_date\n",
            "0        1         101        12-FEB-20\n",
            "1        2         105        13-FEB-20\n",
            "2        1         111        14-FEB-20\n",
            "3        3         121        15-FEB-20\n",
            "4        1         101        16-FEB-20\n",
            "5        2         105        17-FEB-20\n",
            "6        4         101        16-FEB-20\n",
            "7        3         105        15-FEB-20\n"
          ]
        }
      ]
    },
    {
      "cell_type": "code",
      "source": [
        "df1=(users[['user_id','transaction_date']].sort_values(by=['user_id','transaction_date'])\n",
        ")\n",
        "print(f'Dates of transactions:\\n{df1}')"
      ],
      "metadata": {
        "id": "WoO8lQuNjb7_",
        "outputId": "7df2b9d0-0062-4549-9380-f2b93d2f76e7",
        "colab": {
          "base_uri": "https://localhost:8080/"
        }
      },
      "execution_count": 4,
      "outputs": [
        {
          "output_type": "stream",
          "name": "stdout",
          "text": [
            "Dates of transactions:\n",
            "   user_id transaction_date\n",
            "0        1        12-FEB-20\n",
            "2        1        14-FEB-20\n",
            "4        1        16-FEB-20\n",
            "1        2        13-FEB-20\n",
            "5        2        17-FEB-20\n",
            "3        3        15-FEB-20\n",
            "7        3        15-FEB-20\n",
            "6        4        16-FEB-20\n"
          ]
        }
      ]
    },
    {
      "cell_type": "code",
      "source": [
        "super=(users.sort_values(by=['user_id','transaction_date'])\n",
        "            .groupby('user_id'\n",
        "                     ,as_index=False\n",
        "             )\n",
        "            .agg(date=('transaction_date'\n",
        "                       ,lambda x:\n",
        "                               x.iloc[1] if len(x)>1 else pd.NaT\n",
        "                 )\n",
        "             )\n",
        ")\n",
        "print(f'What is the date a super:\\n{super}')"
      ],
      "metadata": {
        "id": "g6fY4Cy0TpeY",
        "colab": {
          "base_uri": "https://localhost:8080/"
        },
        "outputId": "eccb170c-e095-444a-b4b6-21e601b5f5eb"
      },
      "execution_count": 8,
      "outputs": [
        {
          "output_type": "stream",
          "name": "stdout",
          "text": [
            "What is the date a super:\n",
            "   user_id       date\n",
            "0        1  14-FEB-20\n",
            "1        2  17-FEB-20\n",
            "2        3  15-FEB-20\n",
            "3        4        NaT\n"
          ]
        }
      ]
    }
  ]
}