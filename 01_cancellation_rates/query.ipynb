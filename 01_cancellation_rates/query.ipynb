{
  "nbformat": 4,
  "nbformat_minor": 0,
  "metadata": {
    "colab": {
      "provenance": [],
      "authorship_tag": "ABX9TyOTgzdaZZtvEwLBoKMvu9GG",
      "include_colab_link": true
    },
    "kernelspec": {
      "name": "python3",
      "display_name": "Python 3"
    },
    "language_info": {
      "name": "python"
    }
  },
  "cells": [
    {
      "cell_type": "markdown",
      "metadata": {
        "id": "view-in-github",
        "colab_type": "text"
      },
      "source": [
        "<a href=\"https://colab.research.google.com/github/Uriel1201/HelloSQL2.0/blob/main/01_cancellation_rates/query.ipynb\" target=\"_parent\"><img src=\"https://colab.research.google.com/assets/colab-badge.svg\" alt=\"Open In Colab\"/></a>"
      ]
    },
    {
      "cell_type": "markdown",
      "source": [
        "# 01. Cancelation Rates\n",
        "**From the following table of user IDs, actions, and dates, write a query to       return the publication and cancellation rate for each user.**"
      ],
      "metadata": {
        "id": "2b2hu8zjIJQW"
      }
    },
    {
      "cell_type": "code",
      "source": [
        "!pip install polars\n",
        "import pandas as pd\n",
        "import numpy as np\n",
        "import polars as pl\n",
        "\n",
        "data = {'user_id' :[1,1,2,2,3,3,1,1],\n",
        "        'action'  :['start','cancel','start',\n",
        "                    'publish',\n",
        "                    'start','cancel','start','publish'],\n",
        "        'dates'   :['01-JAN-20',\n",
        "                    '02-JAN-20',\n",
        "                    '03-JAN-20',\n",
        "                    '04-JAN-20',\n",
        "                    '05-JAN-20',\n",
        "                    '06-JAN-20',\n",
        "                    '07-JAN-20',\n",
        "                    '08-JAN-20']\n",
        "        }\n",
        "pandas_users=pd.DataFrame(data)\n",
        "polars_users=pl.DataFrame(data)"
      ],
      "metadata": {
        "colab": {
          "base_uri": "https://localhost:8080/"
        },
        "id": "fFsYJ2qCI086",
        "outputId": "ad904540-af4d-4b78-d72a-0e0c6120a202"
      },
      "execution_count": 21,
      "outputs": [
        {
          "output_type": "stream",
          "name": "stdout",
          "text": [
            "Requirement already satisfied: polars in /usr/local/lib/python3.11/dist-packages (1.21.0)\n"
          ]
        }
      ]
    },
    {
      "cell_type": "code",
      "source": [
        "pandas_users['dates']=(pd.to_datetime(pandas_users['dates']\n",
        "                                      ,format=\"%d-%b-%y\"\n",
        "                          )\n",
        ")\n",
        "print(f'users in Pandas:\\n{pandas_users}')"
      ],
      "metadata": {
        "id": "t6xgjNuUWqH8",
        "outputId": "c8e83a0c-c172-4f7c-963e-0df96253b367",
        "colab": {
          "base_uri": "https://localhost:8080/"
        }
      },
      "execution_count": 13,
      "outputs": [
        {
          "output_type": "stream",
          "name": "stdout",
          "text": [
            "users in Pandas:\n",
            "   user_id   action      dates\n",
            "0        1    start 2020-01-01\n",
            "1        1   cancel 2020-01-02\n",
            "2        2    start 2020-01-03\n",
            "3        2  publish 2020-01-04\n",
            "4        3    start 2020-01-05\n",
            "5        3   cancel 2020-01-06\n",
            "6        1    start 2020-01-07\n",
            "7        1  publish 2020-01-08\n"
          ]
        }
      ]
    },
    {
      "cell_type": "code",
      "source": [
        "pandas_df1=pd.get_dummies(pandas_users['action'])\n",
        "print(f'action executed by each user:\\n{pandas_df1}')"
      ],
      "metadata": {
        "id": "Dp5OSr7lHDXD",
        "outputId": "7ce0048c-dfad-445e-c393-ede1715fc8ec",
        "colab": {
          "base_uri": "https://localhost:8080/"
        }
      },
      "execution_count": 14,
      "outputs": [
        {
          "output_type": "stream",
          "name": "stdout",
          "text": [
            "action executed by each user:\n",
            "   cancel  publish  start\n",
            "0   False    False   True\n",
            "1    True    False  False\n",
            "2   False    False   True\n",
            "3   False     True  False\n",
            "4   False    False   True\n",
            "5    True    False  False\n",
            "6   False    False   True\n",
            "7   False     True  False\n"
          ]
        }
      ]
    },
    {
      "cell_type": "code",
      "source": [
        "pandas_df2=(pd.get_dummies(pandas_users['action'])\n",
        "              .groupby(pandas_users['user_id'])\n",
        "              .sum()\n",
        ")\n",
        "print(f'Total actions by each user:\\n{pandas_df2}')"
      ],
      "metadata": {
        "id": "4kNTAhgJXYTm",
        "outputId": "ea203cd2-b544-4741-f230-0ae516ed937f",
        "colab": {
          "base_uri": "https://localhost:8080/"
        }
      },
      "execution_count": 15,
      "outputs": [
        {
          "output_type": "stream",
          "name": "stdout",
          "text": [
            "Total actions by each user:\n",
            "         cancel  publish  start\n",
            "user_id                        \n",
            "1             1        1      2\n",
            "2             0        1      1\n",
            "3             1        0      1\n"
          ]
        }
      ]
    },
    {
      "cell_type": "code",
      "source": [
        "pandas_rates=(pd.get_dummies(pandas_users['action'])\n",
        "                .groupby(pandas_users['user_id'])\n",
        "                .sum()\n",
        "                .assign(publish_rate=lambda x:\n",
        "                                     x['publish']/x['start'],\n",
        "                        cancel_rate=lambda x:\n",
        "                                    x['cancel']/x['start']\n",
        "                 )\n",
        "                .replace(np.inf,0)\n",
        "                .reset_index()\n",
        ")\n",
        "print(f'rates for each user using Pandas:')\n",
        "pandas_rates[['user_id','publish_rate','cancel_rate']]"
      ],
      "metadata": {
        "id": "n4vwCAiPQ5D_",
        "outputId": "16300c0a-3aa6-479c-d301-93009200179a",
        "colab": {
          "base_uri": "https://localhost:8080/",
          "height": 181
        }
      },
      "execution_count": 19,
      "outputs": [
        {
          "output_type": "stream",
          "name": "stdout",
          "text": [
            "rates for each user using Pandas:\n"
          ]
        },
        {
          "output_type": "execute_result",
          "data": {
            "text/plain": [
              "   user_id  publish_rate  cancel_rate\n",
              "0        1           0.5          0.5\n",
              "1        2           1.0          0.0\n",
              "2        3           0.0          1.0"
            ],
            "text/html": [
              "\n",
              "  <div id=\"df-14a9c560-1ed8-4576-9230-27de56582f7a\" class=\"colab-df-container\">\n",
              "    <div>\n",
              "<style scoped>\n",
              "    .dataframe tbody tr th:only-of-type {\n",
              "        vertical-align: middle;\n",
              "    }\n",
              "\n",
              "    .dataframe tbody tr th {\n",
              "        vertical-align: top;\n",
              "    }\n",
              "\n",
              "    .dataframe thead th {\n",
              "        text-align: right;\n",
              "    }\n",
              "</style>\n",
              "<table border=\"1\" class=\"dataframe\">\n",
              "  <thead>\n",
              "    <tr style=\"text-align: right;\">\n",
              "      <th></th>\n",
              "      <th>user_id</th>\n",
              "      <th>publish_rate</th>\n",
              "      <th>cancel_rate</th>\n",
              "    </tr>\n",
              "  </thead>\n",
              "  <tbody>\n",
              "    <tr>\n",
              "      <th>0</th>\n",
              "      <td>1</td>\n",
              "      <td>0.5</td>\n",
              "      <td>0.5</td>\n",
              "    </tr>\n",
              "    <tr>\n",
              "      <th>1</th>\n",
              "      <td>2</td>\n",
              "      <td>1.0</td>\n",
              "      <td>0.0</td>\n",
              "    </tr>\n",
              "    <tr>\n",
              "      <th>2</th>\n",
              "      <td>3</td>\n",
              "      <td>0.0</td>\n",
              "      <td>1.0</td>\n",
              "    </tr>\n",
              "  </tbody>\n",
              "</table>\n",
              "</div>\n",
              "    <div class=\"colab-df-buttons\">\n",
              "\n",
              "  <div class=\"colab-df-container\">\n",
              "    <button class=\"colab-df-convert\" onclick=\"convertToInteractive('df-14a9c560-1ed8-4576-9230-27de56582f7a')\"\n",
              "            title=\"Convert this dataframe to an interactive table.\"\n",
              "            style=\"display:none;\">\n",
              "\n",
              "  <svg xmlns=\"http://www.w3.org/2000/svg\" height=\"24px\" viewBox=\"0 -960 960 960\">\n",
              "    <path d=\"M120-120v-720h720v720H120Zm60-500h600v-160H180v160Zm220 220h160v-160H400v160Zm0 220h160v-160H400v160ZM180-400h160v-160H180v160Zm440 0h160v-160H620v160ZM180-180h160v-160H180v160Zm440 0h160v-160H620v160Z\"/>\n",
              "  </svg>\n",
              "    </button>\n",
              "\n",
              "  <style>\n",
              "    .colab-df-container {\n",
              "      display:flex;\n",
              "      gap: 12px;\n",
              "    }\n",
              "\n",
              "    .colab-df-convert {\n",
              "      background-color: #E8F0FE;\n",
              "      border: none;\n",
              "      border-radius: 50%;\n",
              "      cursor: pointer;\n",
              "      display: none;\n",
              "      fill: #1967D2;\n",
              "      height: 32px;\n",
              "      padding: 0 0 0 0;\n",
              "      width: 32px;\n",
              "    }\n",
              "\n",
              "    .colab-df-convert:hover {\n",
              "      background-color: #E2EBFA;\n",
              "      box-shadow: 0px 1px 2px rgba(60, 64, 67, 0.3), 0px 1px 3px 1px rgba(60, 64, 67, 0.15);\n",
              "      fill: #174EA6;\n",
              "    }\n",
              "\n",
              "    .colab-df-buttons div {\n",
              "      margin-bottom: 4px;\n",
              "    }\n",
              "\n",
              "    [theme=dark] .colab-df-convert {\n",
              "      background-color: #3B4455;\n",
              "      fill: #D2E3FC;\n",
              "    }\n",
              "\n",
              "    [theme=dark] .colab-df-convert:hover {\n",
              "      background-color: #434B5C;\n",
              "      box-shadow: 0px 1px 3px 1px rgba(0, 0, 0, 0.15);\n",
              "      filter: drop-shadow(0px 1px 2px rgba(0, 0, 0, 0.3));\n",
              "      fill: #FFFFFF;\n",
              "    }\n",
              "  </style>\n",
              "\n",
              "    <script>\n",
              "      const buttonEl =\n",
              "        document.querySelector('#df-14a9c560-1ed8-4576-9230-27de56582f7a button.colab-df-convert');\n",
              "      buttonEl.style.display =\n",
              "        google.colab.kernel.accessAllowed ? 'block' : 'none';\n",
              "\n",
              "      async function convertToInteractive(key) {\n",
              "        const element = document.querySelector('#df-14a9c560-1ed8-4576-9230-27de56582f7a');\n",
              "        const dataTable =\n",
              "          await google.colab.kernel.invokeFunction('convertToInteractive',\n",
              "                                                    [key], {});\n",
              "        if (!dataTable) return;\n",
              "\n",
              "        const docLinkHtml = 'Like what you see? Visit the ' +\n",
              "          '<a target=\"_blank\" href=https://colab.research.google.com/notebooks/data_table.ipynb>data table notebook</a>'\n",
              "          + ' to learn more about interactive tables.';\n",
              "        element.innerHTML = '';\n",
              "        dataTable['output_type'] = 'display_data';\n",
              "        await google.colab.output.renderOutput(dataTable, element);\n",
              "        const docLink = document.createElement('div');\n",
              "        docLink.innerHTML = docLinkHtml;\n",
              "        element.appendChild(docLink);\n",
              "      }\n",
              "    </script>\n",
              "  </div>\n",
              "\n",
              "\n",
              "    <div id=\"df-1693a12e-7410-4e7a-858d-be810789a1a2\">\n",
              "      <button class=\"colab-df-quickchart\" onclick=\"quickchart('df-1693a12e-7410-4e7a-858d-be810789a1a2')\"\n",
              "                title=\"Suggest charts\"\n",
              "                style=\"display:none;\">\n",
              "\n",
              "<svg xmlns=\"http://www.w3.org/2000/svg\" height=\"24px\"viewBox=\"0 0 24 24\"\n",
              "     width=\"24px\">\n",
              "    <g>\n",
              "        <path d=\"M19 3H5c-1.1 0-2 .9-2 2v14c0 1.1.9 2 2 2h14c1.1 0 2-.9 2-2V5c0-1.1-.9-2-2-2zM9 17H7v-7h2v7zm4 0h-2V7h2v10zm4 0h-2v-4h2v4z\"/>\n",
              "    </g>\n",
              "</svg>\n",
              "      </button>\n",
              "\n",
              "<style>\n",
              "  .colab-df-quickchart {\n",
              "      --bg-color: #E8F0FE;\n",
              "      --fill-color: #1967D2;\n",
              "      --hover-bg-color: #E2EBFA;\n",
              "      --hover-fill-color: #174EA6;\n",
              "      --disabled-fill-color: #AAA;\n",
              "      --disabled-bg-color: #DDD;\n",
              "  }\n",
              "\n",
              "  [theme=dark] .colab-df-quickchart {\n",
              "      --bg-color: #3B4455;\n",
              "      --fill-color: #D2E3FC;\n",
              "      --hover-bg-color: #434B5C;\n",
              "      --hover-fill-color: #FFFFFF;\n",
              "      --disabled-bg-color: #3B4455;\n",
              "      --disabled-fill-color: #666;\n",
              "  }\n",
              "\n",
              "  .colab-df-quickchart {\n",
              "    background-color: var(--bg-color);\n",
              "    border: none;\n",
              "    border-radius: 50%;\n",
              "    cursor: pointer;\n",
              "    display: none;\n",
              "    fill: var(--fill-color);\n",
              "    height: 32px;\n",
              "    padding: 0;\n",
              "    width: 32px;\n",
              "  }\n",
              "\n",
              "  .colab-df-quickchart:hover {\n",
              "    background-color: var(--hover-bg-color);\n",
              "    box-shadow: 0 1px 2px rgba(60, 64, 67, 0.3), 0 1px 3px 1px rgba(60, 64, 67, 0.15);\n",
              "    fill: var(--button-hover-fill-color);\n",
              "  }\n",
              "\n",
              "  .colab-df-quickchart-complete:disabled,\n",
              "  .colab-df-quickchart-complete:disabled:hover {\n",
              "    background-color: var(--disabled-bg-color);\n",
              "    fill: var(--disabled-fill-color);\n",
              "    box-shadow: none;\n",
              "  }\n",
              "\n",
              "  .colab-df-spinner {\n",
              "    border: 2px solid var(--fill-color);\n",
              "    border-color: transparent;\n",
              "    border-bottom-color: var(--fill-color);\n",
              "    animation:\n",
              "      spin 1s steps(1) infinite;\n",
              "  }\n",
              "\n",
              "  @keyframes spin {\n",
              "    0% {\n",
              "      border-color: transparent;\n",
              "      border-bottom-color: var(--fill-color);\n",
              "      border-left-color: var(--fill-color);\n",
              "    }\n",
              "    20% {\n",
              "      border-color: transparent;\n",
              "      border-left-color: var(--fill-color);\n",
              "      border-top-color: var(--fill-color);\n",
              "    }\n",
              "    30% {\n",
              "      border-color: transparent;\n",
              "      border-left-color: var(--fill-color);\n",
              "      border-top-color: var(--fill-color);\n",
              "      border-right-color: var(--fill-color);\n",
              "    }\n",
              "    40% {\n",
              "      border-color: transparent;\n",
              "      border-right-color: var(--fill-color);\n",
              "      border-top-color: var(--fill-color);\n",
              "    }\n",
              "    60% {\n",
              "      border-color: transparent;\n",
              "      border-right-color: var(--fill-color);\n",
              "    }\n",
              "    80% {\n",
              "      border-color: transparent;\n",
              "      border-right-color: var(--fill-color);\n",
              "      border-bottom-color: var(--fill-color);\n",
              "    }\n",
              "    90% {\n",
              "      border-color: transparent;\n",
              "      border-bottom-color: var(--fill-color);\n",
              "    }\n",
              "  }\n",
              "</style>\n",
              "\n",
              "      <script>\n",
              "        async function quickchart(key) {\n",
              "          const quickchartButtonEl =\n",
              "            document.querySelector('#' + key + ' button');\n",
              "          quickchartButtonEl.disabled = true;  // To prevent multiple clicks.\n",
              "          quickchartButtonEl.classList.add('colab-df-spinner');\n",
              "          try {\n",
              "            const charts = await google.colab.kernel.invokeFunction(\n",
              "                'suggestCharts', [key], {});\n",
              "          } catch (error) {\n",
              "            console.error('Error during call to suggestCharts:', error);\n",
              "          }\n",
              "          quickchartButtonEl.classList.remove('colab-df-spinner');\n",
              "          quickchartButtonEl.classList.add('colab-df-quickchart-complete');\n",
              "        }\n",
              "        (() => {\n",
              "          let quickchartButtonEl =\n",
              "            document.querySelector('#df-1693a12e-7410-4e7a-858d-be810789a1a2 button');\n",
              "          quickchartButtonEl.style.display =\n",
              "            google.colab.kernel.accessAllowed ? 'block' : 'none';\n",
              "        })();\n",
              "      </script>\n",
              "    </div>\n",
              "\n",
              "    </div>\n",
              "  </div>\n"
            ],
            "application/vnd.google.colaboratory.intrinsic+json": {
              "type": "dataframe",
              "summary": "{\n  \"name\": \"pandas_rates[['user_id','publish_rate','cancel_rate']]\",\n  \"rows\": 3,\n  \"fields\": [\n    {\n      \"column\": \"user_id\",\n      \"properties\": {\n        \"dtype\": \"number\",\n        \"std\": 1,\n        \"min\": 1,\n        \"max\": 3,\n        \"num_unique_values\": 3,\n        \"samples\": [\n          1,\n          2,\n          3\n        ],\n        \"semantic_type\": \"\",\n        \"description\": \"\"\n      }\n    },\n    {\n      \"column\": \"publish_rate\",\n      \"properties\": {\n        \"dtype\": \"number\",\n        \"std\": 0.5,\n        \"min\": 0.0,\n        \"max\": 1.0,\n        \"num_unique_values\": 3,\n        \"samples\": [\n          0.5,\n          1.0,\n          0.0\n        ],\n        \"semantic_type\": \"\",\n        \"description\": \"\"\n      }\n    },\n    {\n      \"column\": \"cancel_rate\",\n      \"properties\": {\n        \"dtype\": \"number\",\n        \"std\": 0.5,\n        \"min\": 0.0,\n        \"max\": 1.0,\n        \"num_unique_values\": 3,\n        \"samples\": [\n          0.5,\n          0.0,\n          1.0\n        ],\n        \"semantic_type\": \"\",\n        \"description\": \"\"\n      }\n    }\n  ]\n}"
            }
          },
          "metadata": {},
          "execution_count": 19
        }
      ]
    },
    {
      "cell_type": "code",
      "source": [
        "polars_users=(polars_users.with_columns(pl.col('dates')\n",
        "                                          .str\n",
        "                                          .strptime(pl.Date,\n",
        "                                                    format=\"%d-%b-%y\"\n",
        "                                           )\n",
        "                           )\n",
        ")\n",
        "print(f'users in Polars:\\n{polars_users}')"
      ],
      "metadata": {
        "id": "IPWxRj1V_Ave",
        "outputId": "9018152a-5c9d-4a38-d14b-17cc415a2b98",
        "colab": {
          "base_uri": "https://localhost:8080/"
        }
      },
      "execution_count": 22,
      "outputs": [
        {
          "output_type": "stream",
          "name": "stdout",
          "text": [
            "users in Polars:\n",
            "shape: (8, 3)\n",
            "┌─────────┬─────────┬────────────┐\n",
            "│ user_id ┆ action  ┆ dates      │\n",
            "│ ---     ┆ ---     ┆ ---        │\n",
            "│ i64     ┆ str     ┆ date       │\n",
            "╞═════════╪═════════╪════════════╡\n",
            "│ 1       ┆ start   ┆ 2020-01-01 │\n",
            "│ 1       ┆ cancel  ┆ 2020-01-02 │\n",
            "│ 2       ┆ start   ┆ 2020-01-03 │\n",
            "│ 2       ┆ publish ┆ 2020-01-04 │\n",
            "│ 3       ┆ start   ┆ 2020-01-05 │\n",
            "│ 3       ┆ cancel  ┆ 2020-01-06 │\n",
            "│ 1       ┆ start   ┆ 2020-01-07 │\n",
            "│ 1       ┆ publish ┆ 2020-01-08 │\n",
            "└─────────┴─────────┴────────────┘\n"
          ]
        }
      ]
    },
    {
      "cell_type": "code",
      "source": [
        "polars_df1=(polars_users.to_dummies(columns='action')\n",
        "                        .drop('dates')\n",
        ")\n",
        "print(f'action executed by each user:\\n{polars_df1}')"
      ],
      "metadata": {
        "id": "e9_a_GlHJDPV",
        "outputId": "842209f8-243f-4376-b16f-ca2ef77d8185",
        "colab": {
          "base_uri": "https://localhost:8080/"
        }
      },
      "execution_count": 23,
      "outputs": [
        {
          "output_type": "stream",
          "name": "stdout",
          "text": [
            "action executed by each user:\n",
            "shape: (8, 4)\n",
            "┌─────────┬───────────────┬────────────────┬──────────────┐\n",
            "│ user_id ┆ action_cancel ┆ action_publish ┆ action_start │\n",
            "│ ---     ┆ ---           ┆ ---            ┆ ---          │\n",
            "│ i64     ┆ u8            ┆ u8             ┆ u8           │\n",
            "╞═════════╪═══════════════╪════════════════╪══════════════╡\n",
            "│ 1       ┆ 0             ┆ 0              ┆ 1            │\n",
            "│ 1       ┆ 1             ┆ 0              ┆ 0            │\n",
            "│ 2       ┆ 0             ┆ 0              ┆ 1            │\n",
            "│ 2       ┆ 0             ┆ 1              ┆ 0            │\n",
            "│ 3       ┆ 0             ┆ 0              ┆ 1            │\n",
            "│ 3       ┆ 1             ┆ 0              ┆ 0            │\n",
            "│ 1       ┆ 0             ┆ 0              ┆ 1            │\n",
            "│ 1       ┆ 0             ┆ 1              ┆ 0            │\n",
            "└─────────┴───────────────┴────────────────┴──────────────┘\n"
          ]
        }
      ]
    },
    {
      "cell_type": "code",
      "source": [
        "polars_df2=(polars_users.to_dummies(columns='action')\n",
        "                        .drop('dates')\n",
        "                        .group_by('user_id')\n",
        "                        .agg(pl.col('*').sum())\n",
        ")\n",
        "print(f'Number of actions by each user:\\n{polars_df2}')"
      ],
      "metadata": {
        "colab": {
          "base_uri": "https://localhost:8080/"
        },
        "id": "dhb9GYnP6EdD",
        "outputId": "1e5a5847-5294-4235-b150-90a75995dc97"
      },
      "execution_count": 24,
      "outputs": [
        {
          "output_type": "stream",
          "name": "stdout",
          "text": [
            "Number of actions by each user:\n",
            "shape: (3, 4)\n",
            "┌─────────┬───────────────┬────────────────┬──────────────┐\n",
            "│ user_id ┆ action_cancel ┆ action_publish ┆ action_start │\n",
            "│ ---     ┆ ---           ┆ ---            ┆ ---          │\n",
            "│ i64     ┆ i64           ┆ i64            ┆ i64          │\n",
            "╞═════════╪═══════════════╪════════════════╪══════════════╡\n",
            "│ 3       ┆ 1             ┆ 0              ┆ 1            │\n",
            "│ 2       ┆ 0             ┆ 1              ┆ 1            │\n",
            "│ 1       ┆ 1             ┆ 1              ┆ 2            │\n",
            "└─────────┴───────────────┴────────────────┴──────────────┘\n"
          ]
        }
      ]
    },
    {
      "cell_type": "code",
      "source": [
        "polars_rates=(polars_users.to_dummies(columns='action')\n",
        "                          .drop('dates')\n",
        "                          .group_by('user_id')\n",
        "                          .agg(pl.col('*').sum())\n",
        "                          .select(pl.col('action_cancel')/pl.col('action_start'))\n",
        ")\n",
        "print(f'Number of actions by each user:\\n{polars_rates}')"
      ],
      "metadata": {
        "id": "sAmFT3nn8LOx",
        "outputId": "89b67513-4a92-4d93-cce9-c42c73298ebd",
        "colab": {
          "base_uri": "https://localhost:8080/"
        }
      },
      "execution_count": 26,
      "outputs": [
        {
          "output_type": "stream",
          "name": "stdout",
          "text": [
            "Number of actions by each user:\n",
            "shape: (3, 1)\n",
            "┌───────────────┐\n",
            "│ action_cancel │\n",
            "│ ---           │\n",
            "│ f64           │\n",
            "╞═══════════════╡\n",
            "│ 0.5           │\n",
            "│ 0.0           │\n",
            "│ 1.0           │\n",
            "└───────────────┘\n"
          ]
        }
      ]
    }
  ]
}