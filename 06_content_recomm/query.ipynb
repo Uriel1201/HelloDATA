{
  "nbformat": 4,
  "nbformat_minor": 0,
  "metadata": {
    "colab": {
      "provenance": [],
      "authorship_tag": "ABX9TyPJNmcSaEHAXT9qFgdRRu9l",
      "include_colab_link": true
    },
    "kernelspec": {
      "name": "python3",
      "display_name": "Python 3"
    },
    "language_info": {
      "name": "python"
    }
  },
  "cells": [
    {
      "cell_type": "markdown",
      "metadata": {
        "id": "view-in-github",
        "colab_type": "text"
      },
      "source": [
        "<a href=\"https://colab.research.google.com/github/Uriel1201/HelloSQL2.0/blob/main/06_content_recomm/query.ipynb\" target=\"_parent\"><img src=\"https://colab.research.google.com/assets/colab-badge.svg\" alt=\"Open In Colab\"/></a>"
      ]
    },
    {
      "cell_type": "markdown",
      "source": [
        "#06. Content Recommendations\n",
        "\n",
        "**Writing a query to return page recommendations\n",
        "to a social media user based on the\n",
        "pages that their friends have liked, but\n",
        "that they have not yet marked as liked.**"
      ],
      "metadata": {
        "id": "GczW1F5fTcf4"
      }
    },
    {
      "cell_type": "code",
      "source": [
        "!pip install polars\n",
        "import pandas as pd\n",
        "import numpy as  np\n",
        "import polars as pl"
      ],
      "metadata": {
        "colab": {
          "base_uri": "https://localhost:8080/"
        },
        "id": "SyHKP34KTdCT",
        "outputId": "def68f52-d617-4d51-fb16-f40c8157091b"
      },
      "execution_count": null,
      "outputs": [
        {
          "output_type": "stream",
          "name": "stdout",
          "text": [
            "Requirement already satisfied: polars in /usr/local/lib/python3.11/dist-packages (1.21.0)\n"
          ]
        }
      ]
    },
    {
      "cell_type": "code",
      "source": [
        "data1 = {'user_id': [1,1,1,2,3,3,4,4],\n",
        "         'friend'  : [2,3,4,1,1,4,1,3]\n",
        "        }\n",
        "\n",
        "data2 = {'user_id' : [1,1,1,2,3,3,4],\n",
        "         'page_likes' : ['A','B','C','A','B','C','B']\n",
        "        }\n",
        "\n",
        "pd_friends=pd.DataFrame(data1)\n",
        "pd_likes=pd.DataFrame(data2)\n",
        "pl_friends=pl.LazyFrame(data1)\n",
        "pl_likes=pl.LazyFrame(data2)"
      ],
      "metadata": {
        "id": "M8eMVa-CTy3f"
      },
      "execution_count": null,
      "outputs": []
    },
    {
      "cell_type": "code",
      "source": [
        "print(f'----PANDAS----\\nfriends table:\\n{pd_friends}')"
      ],
      "metadata": {
        "colab": {
          "base_uri": "https://localhost:8080/"
        },
        "id": "cbiFAx64UZDq",
        "outputId": "1c7fd376-7d4a-4dbb-86c2-a7601eac4d66"
      },
      "execution_count": null,
      "outputs": [
        {
          "output_type": "stream",
          "name": "stdout",
          "text": [
            "----PANDAS----\n",
            "friends table:\n",
            "   user_id  friend\n",
            "0        1       2\n",
            "1        1       3\n",
            "2        1       4\n",
            "3        2       1\n",
            "4        3       1\n",
            "5        3       4\n",
            "6        4       1\n",
            "7        4       3\n"
          ]
        }
      ]
    },
    {
      "cell_type": "code",
      "source": [
        "print(f'likes table:\\n{pd_likes}')"
      ],
      "metadata": {
        "colab": {
          "base_uri": "https://localhost:8080/"
        },
        "id": "eSjbZiUkVeJD",
        "outputId": "e890a60e-2ee4-4cd8-bd26-64e83131ef1f"
      },
      "execution_count": null,
      "outputs": [
        {
          "output_type": "stream",
          "name": "stdout",
          "text": [
            "likes table:\n",
            "   user_id page_likes\n",
            "0        1          A\n",
            "1        1          B\n",
            "2        1          C\n",
            "3        2          A\n",
            "4        3          B\n",
            "5        3          C\n",
            "6        4          B\n"
          ]
        }
      ]
    },
    {
      "cell_type": "code",
      "source": [
        "pd_df1=(pd.merge(pd_friends\n",
        "                 ,pd_likes.rename(columns={'user_id':'friend'\n",
        "                                           ,'page_likes':'recommendation'\n",
        "                                          }\n",
        "                           )\n",
        "                 ,on='friend')[['user_id','recommendation']]\n",
        ")\n",
        "print(f'Identifying possible recommendations:\\n{pd_df1}')"
      ],
      "metadata": {
        "colab": {
          "base_uri": "https://localhost:8080/"
        },
        "id": "XFdRGxepYx_5",
        "outputId": "d039c24f-955b-49e5-99ea-8dea4ae75cac"
      },
      "execution_count": null,
      "outputs": [
        {
          "output_type": "stream",
          "name": "stdout",
          "text": [
            "Identifying possible recommendations:\n",
            "    user_id recommendation\n",
            "0         1              A\n",
            "1         1              B\n",
            "2         1              C\n",
            "3         1              B\n",
            "4         2              A\n",
            "5         2              B\n",
            "6         2              C\n",
            "7         3              A\n",
            "8         3              B\n",
            "9         3              C\n",
            "10        3              B\n",
            "11        4              A\n",
            "12        4              B\n",
            "13        4              C\n",
            "14        4              B\n",
            "15        4              C\n"
          ]
        }
      ]
    },
    {
      "cell_type": "code",
      "source": [
        "pd_df=(pd.merge(pd_friends\n",
        "                ,pd_likes.rename(columns={'user_id':'friend'}\n",
        "                          )\n",
        "                ,on='friend'\n",
        "          )\n",
        ")\n",
        "pd_recommendation=(pd.merge(pd_likes,\n",
        "                            pd_df,\n",
        "                            on=['user_id','page_likes'],\n",
        "                            how='outer',\n",
        "                            indicator=True\n",
        "                      )\n",
        "                     .rename(columns={'page_likes':'recommendation'})\n",
        "                     .query(\"_merge=='right_only'\")[['user_id','recommendation']]\n",
        "                     .drop_duplicates()\n",
        "                     .sort_values(by='user_id')\n",
        ")\n",
        "print(f'Recommendations:')\n",
        "pd_recommendation"
      ],
      "metadata": {
        "colab": {
          "base_uri": "https://localhost:8080/",
          "height": 244
        },
        "id": "cwF3dIefb7cz",
        "outputId": "f043c780-1b0b-4db8-b031-0a64e01159f5"
      },
      "execution_count": null,
      "outputs": [
        {
          "output_type": "stream",
          "name": "stdout",
          "text": [
            "Recommendations:\n"
          ]
        },
        {
          "output_type": "execute_result",
          "data": {
            "text/plain": [
              "    user_id recommendation\n",
              "5         2              B\n",
              "6         2              C\n",
              "7         3              A\n",
              "11        4              A\n",
              "14        4              C"
            ],
            "text/html": [
              "\n",
              "  <div id=\"df-1d212259-bb77-4615-8714-921c3bd9546d\" class=\"colab-df-container\">\n",
              "    <div>\n",
              "<style scoped>\n",
              "    .dataframe tbody tr th:only-of-type {\n",
              "        vertical-align: middle;\n",
              "    }\n",
              "\n",
              "    .dataframe tbody tr th {\n",
              "        vertical-align: top;\n",
              "    }\n",
              "\n",
              "    .dataframe thead th {\n",
              "        text-align: right;\n",
              "    }\n",
              "</style>\n",
              "<table border=\"1\" class=\"dataframe\">\n",
              "  <thead>\n",
              "    <tr style=\"text-align: right;\">\n",
              "      <th></th>\n",
              "      <th>user_id</th>\n",
              "      <th>recommendation</th>\n",
              "    </tr>\n",
              "  </thead>\n",
              "  <tbody>\n",
              "    <tr>\n",
              "      <th>5</th>\n",
              "      <td>2</td>\n",
              "      <td>B</td>\n",
              "    </tr>\n",
              "    <tr>\n",
              "      <th>6</th>\n",
              "      <td>2</td>\n",
              "      <td>C</td>\n",
              "    </tr>\n",
              "    <tr>\n",
              "      <th>7</th>\n",
              "      <td>3</td>\n",
              "      <td>A</td>\n",
              "    </tr>\n",
              "    <tr>\n",
              "      <th>11</th>\n",
              "      <td>4</td>\n",
              "      <td>A</td>\n",
              "    </tr>\n",
              "    <tr>\n",
              "      <th>14</th>\n",
              "      <td>4</td>\n",
              "      <td>C</td>\n",
              "    </tr>\n",
              "  </tbody>\n",
              "</table>\n",
              "</div>\n",
              "    <div class=\"colab-df-buttons\">\n",
              "\n",
              "  <div class=\"colab-df-container\">\n",
              "    <button class=\"colab-df-convert\" onclick=\"convertToInteractive('df-1d212259-bb77-4615-8714-921c3bd9546d')\"\n",
              "            title=\"Convert this dataframe to an interactive table.\"\n",
              "            style=\"display:none;\">\n",
              "\n",
              "  <svg xmlns=\"http://www.w3.org/2000/svg\" height=\"24px\" viewBox=\"0 -960 960 960\">\n",
              "    <path d=\"M120-120v-720h720v720H120Zm60-500h600v-160H180v160Zm220 220h160v-160H400v160Zm0 220h160v-160H400v160ZM180-400h160v-160H180v160Zm440 0h160v-160H620v160ZM180-180h160v-160H180v160Zm440 0h160v-160H620v160Z\"/>\n",
              "  </svg>\n",
              "    </button>\n",
              "\n",
              "  <style>\n",
              "    .colab-df-container {\n",
              "      display:flex;\n",
              "      gap: 12px;\n",
              "    }\n",
              "\n",
              "    .colab-df-convert {\n",
              "      background-color: #E8F0FE;\n",
              "      border: none;\n",
              "      border-radius: 50%;\n",
              "      cursor: pointer;\n",
              "      display: none;\n",
              "      fill: #1967D2;\n",
              "      height: 32px;\n",
              "      padding: 0 0 0 0;\n",
              "      width: 32px;\n",
              "    }\n",
              "\n",
              "    .colab-df-convert:hover {\n",
              "      background-color: #E2EBFA;\n",
              "      box-shadow: 0px 1px 2px rgba(60, 64, 67, 0.3), 0px 1px 3px 1px rgba(60, 64, 67, 0.15);\n",
              "      fill: #174EA6;\n",
              "    }\n",
              "\n",
              "    .colab-df-buttons div {\n",
              "      margin-bottom: 4px;\n",
              "    }\n",
              "\n",
              "    [theme=dark] .colab-df-convert {\n",
              "      background-color: #3B4455;\n",
              "      fill: #D2E3FC;\n",
              "    }\n",
              "\n",
              "    [theme=dark] .colab-df-convert:hover {\n",
              "      background-color: #434B5C;\n",
              "      box-shadow: 0px 1px 3px 1px rgba(0, 0, 0, 0.15);\n",
              "      filter: drop-shadow(0px 1px 2px rgba(0, 0, 0, 0.3));\n",
              "      fill: #FFFFFF;\n",
              "    }\n",
              "  </style>\n",
              "\n",
              "    <script>\n",
              "      const buttonEl =\n",
              "        document.querySelector('#df-1d212259-bb77-4615-8714-921c3bd9546d button.colab-df-convert');\n",
              "      buttonEl.style.display =\n",
              "        google.colab.kernel.accessAllowed ? 'block' : 'none';\n",
              "\n",
              "      async function convertToInteractive(key) {\n",
              "        const element = document.querySelector('#df-1d212259-bb77-4615-8714-921c3bd9546d');\n",
              "        const dataTable =\n",
              "          await google.colab.kernel.invokeFunction('convertToInteractive',\n",
              "                                                    [key], {});\n",
              "        if (!dataTable) return;\n",
              "\n",
              "        const docLinkHtml = 'Like what you see? Visit the ' +\n",
              "          '<a target=\"_blank\" href=https://colab.research.google.com/notebooks/data_table.ipynb>data table notebook</a>'\n",
              "          + ' to learn more about interactive tables.';\n",
              "        element.innerHTML = '';\n",
              "        dataTable['output_type'] = 'display_data';\n",
              "        await google.colab.output.renderOutput(dataTable, element);\n",
              "        const docLink = document.createElement('div');\n",
              "        docLink.innerHTML = docLinkHtml;\n",
              "        element.appendChild(docLink);\n",
              "      }\n",
              "    </script>\n",
              "  </div>\n",
              "\n",
              "\n",
              "    <div id=\"df-443d4a2f-011a-4dd2-8470-efd79ef43ac3\">\n",
              "      <button class=\"colab-df-quickchart\" onclick=\"quickchart('df-443d4a2f-011a-4dd2-8470-efd79ef43ac3')\"\n",
              "                title=\"Suggest charts\"\n",
              "                style=\"display:none;\">\n",
              "\n",
              "<svg xmlns=\"http://www.w3.org/2000/svg\" height=\"24px\"viewBox=\"0 0 24 24\"\n",
              "     width=\"24px\">\n",
              "    <g>\n",
              "        <path d=\"M19 3H5c-1.1 0-2 .9-2 2v14c0 1.1.9 2 2 2h14c1.1 0 2-.9 2-2V5c0-1.1-.9-2-2-2zM9 17H7v-7h2v7zm4 0h-2V7h2v10zm4 0h-2v-4h2v4z\"/>\n",
              "    </g>\n",
              "</svg>\n",
              "      </button>\n",
              "\n",
              "<style>\n",
              "  .colab-df-quickchart {\n",
              "      --bg-color: #E8F0FE;\n",
              "      --fill-color: #1967D2;\n",
              "      --hover-bg-color: #E2EBFA;\n",
              "      --hover-fill-color: #174EA6;\n",
              "      --disabled-fill-color: #AAA;\n",
              "      --disabled-bg-color: #DDD;\n",
              "  }\n",
              "\n",
              "  [theme=dark] .colab-df-quickchart {\n",
              "      --bg-color: #3B4455;\n",
              "      --fill-color: #D2E3FC;\n",
              "      --hover-bg-color: #434B5C;\n",
              "      --hover-fill-color: #FFFFFF;\n",
              "      --disabled-bg-color: #3B4455;\n",
              "      --disabled-fill-color: #666;\n",
              "  }\n",
              "\n",
              "  .colab-df-quickchart {\n",
              "    background-color: var(--bg-color);\n",
              "    border: none;\n",
              "    border-radius: 50%;\n",
              "    cursor: pointer;\n",
              "    display: none;\n",
              "    fill: var(--fill-color);\n",
              "    height: 32px;\n",
              "    padding: 0;\n",
              "    width: 32px;\n",
              "  }\n",
              "\n",
              "  .colab-df-quickchart:hover {\n",
              "    background-color: var(--hover-bg-color);\n",
              "    box-shadow: 0 1px 2px rgba(60, 64, 67, 0.3), 0 1px 3px 1px rgba(60, 64, 67, 0.15);\n",
              "    fill: var(--button-hover-fill-color);\n",
              "  }\n",
              "\n",
              "  .colab-df-quickchart-complete:disabled,\n",
              "  .colab-df-quickchart-complete:disabled:hover {\n",
              "    background-color: var(--disabled-bg-color);\n",
              "    fill: var(--disabled-fill-color);\n",
              "    box-shadow: none;\n",
              "  }\n",
              "\n",
              "  .colab-df-spinner {\n",
              "    border: 2px solid var(--fill-color);\n",
              "    border-color: transparent;\n",
              "    border-bottom-color: var(--fill-color);\n",
              "    animation:\n",
              "      spin 1s steps(1) infinite;\n",
              "  }\n",
              "\n",
              "  @keyframes spin {\n",
              "    0% {\n",
              "      border-color: transparent;\n",
              "      border-bottom-color: var(--fill-color);\n",
              "      border-left-color: var(--fill-color);\n",
              "    }\n",
              "    20% {\n",
              "      border-color: transparent;\n",
              "      border-left-color: var(--fill-color);\n",
              "      border-top-color: var(--fill-color);\n",
              "    }\n",
              "    30% {\n",
              "      border-color: transparent;\n",
              "      border-left-color: var(--fill-color);\n",
              "      border-top-color: var(--fill-color);\n",
              "      border-right-color: var(--fill-color);\n",
              "    }\n",
              "    40% {\n",
              "      border-color: transparent;\n",
              "      border-right-color: var(--fill-color);\n",
              "      border-top-color: var(--fill-color);\n",
              "    }\n",
              "    60% {\n",
              "      border-color: transparent;\n",
              "      border-right-color: var(--fill-color);\n",
              "    }\n",
              "    80% {\n",
              "      border-color: transparent;\n",
              "      border-right-color: var(--fill-color);\n",
              "      border-bottom-color: var(--fill-color);\n",
              "    }\n",
              "    90% {\n",
              "      border-color: transparent;\n",
              "      border-bottom-color: var(--fill-color);\n",
              "    }\n",
              "  }\n",
              "</style>\n",
              "\n",
              "      <script>\n",
              "        async function quickchart(key) {\n",
              "          const quickchartButtonEl =\n",
              "            document.querySelector('#' + key + ' button');\n",
              "          quickchartButtonEl.disabled = true;  // To prevent multiple clicks.\n",
              "          quickchartButtonEl.classList.add('colab-df-spinner');\n",
              "          try {\n",
              "            const charts = await google.colab.kernel.invokeFunction(\n",
              "                'suggestCharts', [key], {});\n",
              "          } catch (error) {\n",
              "            console.error('Error during call to suggestCharts:', error);\n",
              "          }\n",
              "          quickchartButtonEl.classList.remove('colab-df-spinner');\n",
              "          quickchartButtonEl.classList.add('colab-df-quickchart-complete');\n",
              "        }\n",
              "        (() => {\n",
              "          let quickchartButtonEl =\n",
              "            document.querySelector('#df-443d4a2f-011a-4dd2-8470-efd79ef43ac3 button');\n",
              "          quickchartButtonEl.style.display =\n",
              "            google.colab.kernel.accessAllowed ? 'block' : 'none';\n",
              "        })();\n",
              "      </script>\n",
              "    </div>\n",
              "\n",
              "  <div id=\"id_4f9d0d4f-550f-49b8-a9f0-e549df9bf3df\">\n",
              "    <style>\n",
              "      .colab-df-generate {\n",
              "        background-color: #E8F0FE;\n",
              "        border: none;\n",
              "        border-radius: 50%;\n",
              "        cursor: pointer;\n",
              "        display: none;\n",
              "        fill: #1967D2;\n",
              "        height: 32px;\n",
              "        padding: 0 0 0 0;\n",
              "        width: 32px;\n",
              "      }\n",
              "\n",
              "      .colab-df-generate:hover {\n",
              "        background-color: #E2EBFA;\n",
              "        box-shadow: 0px 1px 2px rgba(60, 64, 67, 0.3), 0px 1px 3px 1px rgba(60, 64, 67, 0.15);\n",
              "        fill: #174EA6;\n",
              "      }\n",
              "\n",
              "      [theme=dark] .colab-df-generate {\n",
              "        background-color: #3B4455;\n",
              "        fill: #D2E3FC;\n",
              "      }\n",
              "\n",
              "      [theme=dark] .colab-df-generate:hover {\n",
              "        background-color: #434B5C;\n",
              "        box-shadow: 0px 1px 3px 1px rgba(0, 0, 0, 0.15);\n",
              "        filter: drop-shadow(0px 1px 2px rgba(0, 0, 0, 0.3));\n",
              "        fill: #FFFFFF;\n",
              "      }\n",
              "    </style>\n",
              "    <button class=\"colab-df-generate\" onclick=\"generateWithVariable('pd_recommendation')\"\n",
              "            title=\"Generate code using this dataframe.\"\n",
              "            style=\"display:none;\">\n",
              "\n",
              "  <svg xmlns=\"http://www.w3.org/2000/svg\" height=\"24px\"viewBox=\"0 0 24 24\"\n",
              "       width=\"24px\">\n",
              "    <path d=\"M7,19H8.4L18.45,9,17,7.55,7,17.6ZM5,21V16.75L18.45,3.32a2,2,0,0,1,2.83,0l1.4,1.43a1.91,1.91,0,0,1,.58,1.4,1.91,1.91,0,0,1-.58,1.4L9.25,21ZM18.45,9,17,7.55Zm-12,3A5.31,5.31,0,0,0,4.9,8.1,5.31,5.31,0,0,0,1,6.5,5.31,5.31,0,0,0,4.9,4.9,5.31,5.31,0,0,0,6.5,1,5.31,5.31,0,0,0,8.1,4.9,5.31,5.31,0,0,0,12,6.5,5.46,5.46,0,0,0,6.5,12Z\"/>\n",
              "  </svg>\n",
              "    </button>\n",
              "    <script>\n",
              "      (() => {\n",
              "      const buttonEl =\n",
              "        document.querySelector('#id_4f9d0d4f-550f-49b8-a9f0-e549df9bf3df button.colab-df-generate');\n",
              "      buttonEl.style.display =\n",
              "        google.colab.kernel.accessAllowed ? 'block' : 'none';\n",
              "\n",
              "      buttonEl.onclick = () => {\n",
              "        google.colab.notebook.generateWithVariable('pd_recommendation');\n",
              "      }\n",
              "      })();\n",
              "    </script>\n",
              "  </div>\n",
              "\n",
              "    </div>\n",
              "  </div>\n"
            ],
            "application/vnd.google.colaboratory.intrinsic+json": {
              "type": "dataframe",
              "variable_name": "pd_recommendation",
              "summary": "{\n  \"name\": \"pd_recommendation\",\n  \"rows\": 5,\n  \"fields\": [\n    {\n      \"column\": \"user_id\",\n      \"properties\": {\n        \"dtype\": \"number\",\n        \"std\": 1,\n        \"min\": 2,\n        \"max\": 4,\n        \"num_unique_values\": 3,\n        \"samples\": [\n          2,\n          3,\n          4\n        ],\n        \"semantic_type\": \"\",\n        \"description\": \"\"\n      }\n    },\n    {\n      \"column\": \"recommendation\",\n      \"properties\": {\n        \"dtype\": \"string\",\n        \"num_unique_values\": 3,\n        \"samples\": [\n          \"B\",\n          \"C\",\n          \"A\"\n        ],\n        \"semantic_type\": \"\",\n        \"description\": \"\"\n      }\n    }\n  ]\n}"
            }
          },
          "metadata": {},
          "execution_count": 6
        }
      ]
    },
    {
      "cell_type": "code",
      "source": [
        "quick1=pl_friends.head(5).collect()\n",
        "print(f'----POLARS----\\nfriends table sample:\\n{quick1}')"
      ],
      "metadata": {
        "colab": {
          "base_uri": "https://localhost:8080/"
        },
        "id": "zl9O5sbXklHh",
        "outputId": "bc787c76-5ebf-41ee-c6e8-39e4f398cf23"
      },
      "execution_count": null,
      "outputs": [
        {
          "output_type": "stream",
          "name": "stdout",
          "text": [
            "----POLARS----\n",
            "friends table sample:\n",
            "shape: (5, 2)\n",
            "┌─────────┬────────┐\n",
            "│ user_id ┆ friend │\n",
            "│ ---     ┆ ---    │\n",
            "│ i64     ┆ i64    │\n",
            "╞═════════╪════════╡\n",
            "│ 1       ┆ 2      │\n",
            "│ 1       ┆ 3      │\n",
            "│ 1       ┆ 4      │\n",
            "│ 2       ┆ 1      │\n",
            "│ 3       ┆ 1      │\n",
            "└─────────┴────────┘\n"
          ]
        }
      ]
    },
    {
      "cell_type": "code",
      "source": [
        "quick2=(pl_likes.head(5)\n",
        "                .collect()\n",
        ")\n",
        "print(f'likes table sample:\\n{quick2}')"
      ],
      "metadata": {
        "colab": {
          "base_uri": "https://localhost:8080/"
        },
        "id": "pl3qXcaTktMn",
        "outputId": "b80ddb23-041b-44da-d35c-382156ca6eb6"
      },
      "execution_count": null,
      "outputs": [
        {
          "output_type": "stream",
          "name": "stdout",
          "text": [
            "likes table sample:\n",
            "shape: (5, 2)\n",
            "┌─────────┬────────────┐\n",
            "│ user_id ┆ page_likes │\n",
            "│ ---     ┆ ---        │\n",
            "│ i64     ┆ str        │\n",
            "╞═════════╪════════════╡\n",
            "│ 1       ┆ A          │\n",
            "│ 1       ┆ B          │\n",
            "│ 1       ┆ C          │\n",
            "│ 2       ┆ A          │\n",
            "│ 3       ┆ B          │\n",
            "└─────────┴────────────┘\n"
          ]
        }
      ]
    },
    {
      "cell_type": "code",
      "source": [
        "pl_lf1=(pl_friends.join(pl_likes.select(pl.col('user_id')\n",
        "                                          .alias('friend'),\n",
        "                                        pl.col('page_likes')\n",
        "                                          .alias('recommendation')\n",
        "                                 )\n",
        "                        ,on='friend'\n",
        "                        ,how='right'\n",
        "                   )\n",
        ").head(5).collect()\n",
        "print(f'Identifying possible recommendations (sample):\\n{pl_lf1}')"
      ],
      "metadata": {
        "id": "G42nLTJXPJiz",
        "colab": {
          "base_uri": "https://localhost:8080/"
        },
        "outputId": "af4a3a3c-552e-402f-d0b4-1a263c92e09c"
      },
      "execution_count": null,
      "outputs": [
        {
          "output_type": "stream",
          "name": "stdout",
          "text": [
            "Identifying possible recommendations (sample):\n",
            "shape: (5, 3)\n",
            "┌─────────┬────────┬────────────────┐\n",
            "│ user_id ┆ friend ┆ recommendation │\n",
            "│ ---     ┆ ---    ┆ ---            │\n",
            "│ i64     ┆ i64    ┆ str            │\n",
            "╞═════════╪════════╪════════════════╡\n",
            "│ 2       ┆ 1      ┆ A              │\n",
            "│ 3       ┆ 1      ┆ A              │\n",
            "│ 4       ┆ 1      ┆ A              │\n",
            "│ 2       ┆ 1      ┆ B              │\n",
            "│ 3       ┆ 1      ┆ B              │\n",
            "└─────────┴────────┴────────────────┘\n"
          ]
        }
      ]
    },
    {
      "cell_type": "code",
      "source": [
        "pl_lf=(pl_friends.join(pl_likes.select(pl.col('user_id')\n",
        "                                         .alias('friend'),\n",
        "                                       pl.col('page_likes')\n",
        "                                )\n",
        "                       ,on='friend'\n",
        "                       ,how='right'\n",
        "                  )\n",
        "                 .select(pl.col('user_id'),\n",
        "                         pl.col('page_likes')\n",
        "                  )\n",
        ")\n",
        "pl_recommendations=(pl_lf.join(pl_likes,\n",
        "                               on=['user_id','page_likes'],\n",
        "                               how='anti'\n",
        "                          )\n",
        "                         .unique()\n",
        "                         .select(pl.col('user_id'),\n",
        "                                 pl.col('page_likes')\n",
        "                                   .alias('recommendation')\n",
        "                          )\n",
        "                         .sort(by='user_id')\n",
        "\n",
        ").collect()\n",
        "print(f'Recommendations:')\n",
        "pl_recommendations"
      ],
      "metadata": {
        "id": "sjI-UFM8mIC6",
        "colab": {
          "base_uri": "https://localhost:8080/",
          "height": 272
        },
        "outputId": "9dd80d6b-6ee7-44aa-e96e-300a8ca08d40"
      },
      "execution_count": null,
      "outputs": [
        {
          "output_type": "stream",
          "name": "stdout",
          "text": [
            "Recommendations:\n"
          ]
        },
        {
          "output_type": "execute_result",
          "data": {
            "text/plain": [
              "shape: (5, 2)\n",
              "┌─────────┬────────────────┐\n",
              "│ user_id ┆ recommendation │\n",
              "│ ---     ┆ ---            │\n",
              "│ i64     ┆ str            │\n",
              "╞═════════╪════════════════╡\n",
              "│ 2       ┆ B              │\n",
              "│ 2       ┆ C              │\n",
              "│ 3       ┆ A              │\n",
              "│ 4       ┆ C              │\n",
              "│ 4       ┆ A              │\n",
              "└─────────┴────────────────┘"
            ],
            "text/html": [
              "<div><style>\n",
              ".dataframe > thead > tr,\n",
              ".dataframe > tbody > tr {\n",
              "  text-align: right;\n",
              "  white-space: pre-wrap;\n",
              "}\n",
              "</style>\n",
              "<small>shape: (5, 2)</small><table border=\"1\" class=\"dataframe\"><thead><tr><th>user_id</th><th>recommendation</th></tr><tr><td>i64</td><td>str</td></tr></thead><tbody><tr><td>2</td><td>&quot;B&quot;</td></tr><tr><td>2</td><td>&quot;C&quot;</td></tr><tr><td>3</td><td>&quot;A&quot;</td></tr><tr><td>4</td><td>&quot;C&quot;</td></tr><tr><td>4</td><td>&quot;A&quot;</td></tr></tbody></table></div>"
            ]
          },
          "metadata": {},
          "execution_count": 10
        }
      ]
    }
  ]
}