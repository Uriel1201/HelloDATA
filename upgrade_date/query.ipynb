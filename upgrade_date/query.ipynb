{
  "nbformat": 4,
  "nbformat_minor": 0,
  "metadata": {
    "colab": {
      "provenance": [],
      "authorship_tag": "ABX9TyNLuwMDMeS0YjYEo9sSVyRZ",
      "include_colab_link": true
    },
    "kernelspec": {
      "name": "python3",
      "display_name": "Python 3"
    },
    "language_info": {
      "name": "python"
    }
  },
  "cells": [
    {
      "cell_type": "markdown",
      "metadata": {
        "id": "view-in-github",
        "colab_type": "text"
      },
      "source": [
        "<a href=\"https://colab.research.google.com/github/Uriel1201/HelloSQL2.0/blob/main/upgrade_date/query.ipynb\" target=\"_parent\"><img src=\"https://colab.research.google.com/assets/colab-badge.svg\" alt=\"Open In Colab\"/></a>"
      ]
    },
    {
      "cell_type": "markdown",
      "source": [
        "## 08. Upgrade rate by product action\n",
        "**Given the following two tables, return the fraction of users, rounded to two decimal places, who accessed feature two (type: F2 in events table) and upgraded to premium within the first 30 days of signing up.**"
      ],
      "metadata": {
        "id": "WE50xt5zEmQ1"
      }
    },
    {
      "cell_type": "code",
      "source": [
        "import pandas as pd\n",
        "import numpy  as np\n",
        "\n",
        "data1 = {'user_id'   : [1,2,3,4,5,6,7],\n",
        "         'name'      : ['John','Jane','Jill','Josh','Jean','Justin','Jeremy'],\n",
        "         'join_date' : ['14-feb-20',\n",
        "                        '14-feb-20',\n",
        "                        '15-feb-20',\n",
        "                        '15-feb-20',\n",
        "                        '16-feb-20',\n",
        "                        '17-feb-20',\n",
        "                        '18-feb-20']\n",
        "        }\n",
        "\n",
        "data2 = {'user_id'     : [1,2,2,3,4,1,3],\n",
        "         'Type'        : ['F1','F2','P','F2','F2','P','P'],\n",
        "         'access_date' : ['1-mar-20',\n",
        "                          '2-mar-20',\n",
        "                          '12-mar-20',\n",
        "                          '15-mar-20',\n",
        "                          '15-mar-20',\n",
        "                          '16-mar-20',\n",
        "                          '22-mar-20']\n",
        "        }\n",
        "\n",
        "users  = pd.DataFrame(data1)\n",
        "events = pd.DataFrame(data2)"
      ],
      "metadata": {
        "id": "t48ewJRsEml9"
      },
      "execution_count": 48,
      "outputs": []
    },
    {
      "cell_type": "code",
      "source": [
        "users['join_date'] = pd.to_datetime(users['join_date'])\n",
        "print(f'users:\\n{users}')"
      ],
      "metadata": {
        "colab": {
          "base_uri": "https://localhost:8080/",
          "height": 0
        },
        "id": "s4eLMREMFXGR",
        "outputId": "62f59f1a-a03c-46e1-b4bd-ef2d83f951b6"
      },
      "execution_count": 49,
      "outputs": [
        {
          "output_type": "stream",
          "name": "stdout",
          "text": [
            "users:\n",
            "   user_id    name  join_date\n",
            "0        1    John 2020-02-14\n",
            "1        2    Jane 2020-02-14\n",
            "2        3    Jill 2020-02-15\n",
            "3        4    Josh 2020-02-15\n",
            "4        5    Jean 2020-02-16\n",
            "5        6  Justin 2020-02-17\n",
            "6        7  Jeremy 2020-02-18\n"
          ]
        },
        {
          "output_type": "stream",
          "name": "stderr",
          "text": [
            "<ipython-input-49-7f5c3f43b052>:1: UserWarning: Could not infer format, so each element will be parsed individually, falling back to `dateutil`. To ensure parsing is consistent and as-expected, please specify a format.\n",
            "  users['join_date'] = pd.to_datetime(users['join_date'])\n"
          ]
        }
      ]
    },
    {
      "cell_type": "code",
      "source": [
        "events['access_date'] = pd.to_datetime(events['access_date'])\n",
        "print(f'events:\\n {events}')"
      ],
      "metadata": {
        "colab": {
          "base_uri": "https://localhost:8080/",
          "height": 0
        },
        "id": "0q8FxtzMFj02",
        "outputId": "d50b1b04-3ece-4022-b118-ad1fc97b0edb"
      },
      "execution_count": 50,
      "outputs": [
        {
          "output_type": "stream",
          "name": "stdout",
          "text": [
            "events:\n",
            "    user_id Type access_date\n",
            "0        1   F1  2020-03-01\n",
            "1        2   F2  2020-03-02\n",
            "2        2    P  2020-03-12\n",
            "3        3   F2  2020-03-15\n",
            "4        4   F2  2020-03-15\n",
            "5        1    P  2020-03-16\n",
            "6        3    P  2020-03-22\n"
          ]
        },
        {
          "output_type": "stream",
          "name": "stderr",
          "text": [
            "<ipython-input-50-b31e0c40a0cf>:1: UserWarning: Could not infer format, so each element will be parsed individually, falling back to `dateutil`. To ensure parsing is consistent and as-expected, please specify a format.\n",
            "  events['access_date'] = pd.to_datetime(events['access_date'])\n"
          ]
        }
      ]
    },
    {
      "cell_type": "code",
      "source": [
        "df1=(users.drop(columns=['name'])\n",
        "          .merge(events.query(\"Type=='F2'\")[['user_id']]\n",
        "                 ,on='user_id'\n",
        "                 ,how='inner'\n",
        "           )\n",
        ")\n",
        "print(f'Who are F2 Users:\\n{df1}')"
      ],
      "metadata": {
        "colab": {
          "base_uri": "https://localhost:8080/",
          "height": 0
        },
        "id": "mi75kHOjszk0",
        "outputId": "703ec4f7-c1d8-4476-9fa0-d2967866f2cf"
      },
      "execution_count": 79,
      "outputs": [
        {
          "output_type": "stream",
          "name": "stdout",
          "text": [
            "Who are F2 Users:\n",
            "   user_id  join_date\n",
            "0        2 2020-02-14\n",
            "1        3 2020-02-15\n",
            "2        4 2020-02-15\n"
          ]
        }
      ]
    },
    {
      "cell_type": "code",
      "source": [
        "df2=events.query(\"Type=='P'\")[['user_id','access_date']]\n",
        "print(f'Who are Premium Users:\\n{df2}')"
      ],
      "metadata": {
        "colab": {
          "base_uri": "https://localhost:8080/",
          "height": 0
        },
        "id": "nmavzG3eu7Qs",
        "outputId": "a0ba9454-4e47-4608-887d-8692c9d908d6"
      },
      "execution_count": 81,
      "outputs": [
        {
          "output_type": "stream",
          "name": "stdout",
          "text": [
            "Who are Premium Users:\n",
            "   user_id access_date\n",
            "2        2  2020-03-12\n",
            "5        1  2020-03-16\n",
            "6        3  2020-03-22\n"
          ]
        }
      ]
    },
    {
      "cell_type": "code",
      "source": [
        "premium_upgrade=(users.drop(columns=['name'])\n",
        "                      .merge(events.query(\"Type=='F2'\")[['user_id']]\n",
        "                             ,on='user_id'\n",
        "                             ,how='inner'\n",
        "                       )\n",
        "                      .merge(events.query(\"Type=='P'\")[['user_id','access_date']]\n",
        "                             ,on='user_id'\n",
        "                             ,how='left'\n",
        "                       )\n",
        ")\n",
        "premium_upgrade['WithinFirst30']=premium_upgrade['access_date']-premium_upgrade['join_date']<=pd.Timedelta(days=30)\n",
        "print(f'Was upgraded within first 30 days:\\n{premium_upgrade}\\n')\n",
        "upgrade_rate=round(premium_upgrade['WithinFirst30'].mean()\n",
        "                   ,2\n",
        ")\n",
        "print(f'upgrade_rate: {upgrade_rate}')"
      ],
      "metadata": {
        "colab": {
          "base_uri": "https://localhost:8080/",
          "height": 0
        },
        "id": "SrG9DAm3wYSf",
        "outputId": "f258018b-283c-4d50-c4bc-286e28629633"
      },
      "execution_count": 100,
      "outputs": [
        {
          "output_type": "stream",
          "name": "stdout",
          "text": [
            "Was upgraded within first 30 days:\n",
            "   user_id  join_date access_date  WithinFirst30\n",
            "0        2 2020-02-14  2020-03-12           True\n",
            "1        3 2020-02-15  2020-03-22          False\n",
            "2        4 2020-02-15         NaT          False\n",
            "\n",
            "upgrade_rate: 0.33\n"
          ]
        }
      ]
    }
  ]
}