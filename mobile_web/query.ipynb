{
  "nbformat": 4,
  "nbformat_minor": 0,
  "metadata": {
    "colab": {
      "provenance": [],
      "authorship_tag": "ABX9TyOifwv5mnWHzbVQftMjd6JA",
      "include_colab_link": true
    },
    "kernelspec": {
      "name": "python3",
      "display_name": "Python 3"
    },
    "language_info": {
      "name": "python"
    }
  },
  "cells": [
    {
      "cell_type": "markdown",
      "metadata": {
        "id": "view-in-github",
        "colab_type": "text"
      },
      "source": [
        "<a href=\"https://colab.research.google.com/github/Uriel1201/HelloSQL2.0/blob/main/mobile_web/query.ipynb\" target=\"_parent\"><img src=\"https://colab.research.google.com/assets/colab-badge.svg\" alt=\"Open In Colab\"/></a>"
      ]
    },
    {
      "cell_type": "markdown",
      "source": [
        "#07. Mobile and web visitors\n",
        "**With the following two tables, return the fraction of users who only visited mobile,only visited web, and visited both.**"
      ],
      "metadata": {
        "id": "NiwiTvt60FZZ"
      }
    },
    {
      "cell_type": "code",
      "source": [
        "import pandas as pd\n",
        "import numpy  as np\n",
        "\n",
        "data1 = {'user_id'   : [1,2,3,4,9,2,10],\n",
        "         'page_url'  : ['A','B','C','A','B','C','B']\n",
        "        }\n",
        "\n",
        "data2 = {'user_id'    : [6,2,3,7,4,8,5],\n",
        "         'page_url'   : ['A','B','C','A','B','C','B']\n",
        "        }\n",
        "\n",
        "mobile=pd.DataFrame(data1)\n",
        "web=pd.DataFrame(data2)"
      ],
      "metadata": {
        "id": "D_3DF_JL0GaU"
      },
      "execution_count": 36,
      "outputs": []
    },
    {
      "cell_type": "code",
      "source": [
        "print(f'mobile users:\\n {mobile}')"
      ],
      "metadata": {
        "colab": {
          "base_uri": "https://localhost:8080/"
        },
        "id": "9vk0GV9y0oRT",
        "outputId": "01804ceb-5e2d-417b-c507-b4a6f3db92ea"
      },
      "execution_count": 37,
      "outputs": [
        {
          "output_type": "stream",
          "name": "stdout",
          "text": [
            "mobile users:\n",
            "    user_id page_url\n",
            "0        1        A\n",
            "1        2        B\n",
            "2        3        C\n",
            "3        4        A\n",
            "4        9        B\n",
            "5        2        C\n",
            "6       10        B\n"
          ]
        }
      ]
    },
    {
      "cell_type": "code",
      "source": [
        "print(f'web users:\\n {web}')"
      ],
      "metadata": {
        "colab": {
          "base_uri": "https://localhost:8080/"
        },
        "id": "wFK52V4VA2aJ",
        "outputId": "65abe11b-4e1f-4b64-e7c5-773f4b0d1161"
      },
      "execution_count": 38,
      "outputs": [
        {
          "output_type": "stream",
          "name": "stdout",
          "text": [
            "web users:\n",
            "    user_id page_url\n",
            "0        6        A\n",
            "1        2        B\n",
            "2        3        C\n",
            "3        7        A\n",
            "4        4        B\n",
            "5        8        C\n",
            "6        5        B\n"
          ]
        }
      ]
    },
    {
      "cell_type": "code",
      "source": [
        "df1=(pd.merge(mobile.drop(columns=['page_url']),\n",
        "              web.drop(columns=['page_url']),\n",
        "              on='user_id',\n",
        "              how='outer',\n",
        "              indicator=True)\n",
        "       .drop_duplicates()\n",
        ")\n",
        "print(df1)"
      ],
      "metadata": {
        "id": "YdJoZPaTBUFa",
        "colab": {
          "base_uri": "https://localhost:8080/"
        },
        "outputId": "ea064b3e-cb0e-41dc-b5a1-b6fd8a3b9456"
      },
      "execution_count": 39,
      "outputs": [
        {
          "output_type": "stream",
          "name": "stdout",
          "text": [
            "    user_id      _merge\n",
            "0         1   left_only\n",
            "1         2        both\n",
            "3         3        both\n",
            "4         4        both\n",
            "5         5  right_only\n",
            "6         6  right_only\n",
            "7         7  right_only\n",
            "8         8  right_only\n",
            "9         9   left_only\n",
            "10       10   left_only\n"
          ]
        }
      ]
    },
    {
      "cell_type": "code",
      "source": [
        "df2=(pd.merge(mobile.drop(columns=['page_url']),\n",
        "                          web.drop(columns=['page_url']),\n",
        "                          on='user_id',\n",
        "                          how='outer',\n",
        "                          indicator=True)\n",
        "                    .drop_duplicates()\n",
        ")\n",
        "df3=(pd.get_dummies(user_preferences['_merge'])\n",
        "       .rename(columns={'left_only':'mobile'\n",
        "                        ,'right_only':'web'\n",
        "               }\n",
        "        )\n",
        ")\n",
        "print(f'have users visited via web or mobile:\\n{df3}')"
      ],
      "metadata": {
        "colab": {
          "base_uri": "https://localhost:8080/"
        },
        "id": "KxfWTRQbHEun",
        "outputId": "c9aef122-9daf-4a02-e3e4-ae797ed3d96f"
      },
      "execution_count": 40,
      "outputs": [
        {
          "output_type": "stream",
          "name": "stdout",
          "text": [
            "have users visited via web or mobile:\n",
            "    mobile    web   both\n",
            "0     True  False  False\n",
            "1    False  False   True\n",
            "3    False  False   True\n",
            "4    False  False   True\n",
            "5    False   True  False\n",
            "6    False   True  False\n",
            "7    False   True  False\n",
            "8    False   True  False\n",
            "9     True  False  False\n",
            "10    True  False  False\n"
          ]
        }
      ]
    },
    {
      "cell_type": "code",
      "source": [
        "df=(pd.merge(mobile.drop(columns=['page_url']),\n",
        "             web.drop(columns=['page_url']),\n",
        "             on='user_id',\n",
        "             how='outer',\n",
        "             indicator=True\n",
        "        )\n",
        "       .drop_duplicates()\n",
        ")\n",
        "frequencies=(pd.get_dummies(df['_merge'])\n",
        "               .rename(columns={'left_only':'mobile'\n",
        "                                ,'right_only':'web'\n",
        "                       }\n",
        "                )\n",
        "               .mean()\n",
        ")\n",
        "print('fractions:')\n",
        "frequencies"
      ],
      "metadata": {
        "colab": {
          "base_uri": "https://localhost:8080/",
          "height": 196
        },
        "id": "fPlTHr26wq0i",
        "outputId": "652c0f95-32a7-4e1c-de3c-a57b5bc0d08b"
      },
      "execution_count": 41,
      "outputs": [
        {
          "output_type": "stream",
          "name": "stdout",
          "text": [
            "fractions:\n"
          ]
        },
        {
          "output_type": "execute_result",
          "data": {
            "text/plain": [
              "mobile    0.3\n",
              "web       0.4\n",
              "both      0.3\n",
              "dtype: float64"
            ],
            "text/html": [
              "<div>\n",
              "<style scoped>\n",
              "    .dataframe tbody tr th:only-of-type {\n",
              "        vertical-align: middle;\n",
              "    }\n",
              "\n",
              "    .dataframe tbody tr th {\n",
              "        vertical-align: top;\n",
              "    }\n",
              "\n",
              "    .dataframe thead th {\n",
              "        text-align: right;\n",
              "    }\n",
              "</style>\n",
              "<table border=\"1\" class=\"dataframe\">\n",
              "  <thead>\n",
              "    <tr style=\"text-align: right;\">\n",
              "      <th></th>\n",
              "      <th>0</th>\n",
              "    </tr>\n",
              "  </thead>\n",
              "  <tbody>\n",
              "    <tr>\n",
              "      <th>mobile</th>\n",
              "      <td>0.3</td>\n",
              "    </tr>\n",
              "    <tr>\n",
              "      <th>web</th>\n",
              "      <td>0.4</td>\n",
              "    </tr>\n",
              "    <tr>\n",
              "      <th>both</th>\n",
              "      <td>0.3</td>\n",
              "    </tr>\n",
              "  </tbody>\n",
              "</table>\n",
              "</div><br><label><b>dtype:</b> float64</label>"
            ]
          },
          "metadata": {},
          "execution_count": 41
        }
      ]
    }
  ]
}